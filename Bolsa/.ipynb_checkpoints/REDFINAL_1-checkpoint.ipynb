{
 "cells": [
  {
   "cell_type": "markdown",
   "metadata": {},
   "source": [
    "# Intro:\n",
    "El aprendizaje automático y la inteligencia artificial están revolucionando por completo la forma en que se resuelven los problemas modernos.\n",
    "En este notebook, analizo los precios de cierre de las acciones del indice DowJones usando Support Vector Regression con sci-kit-learn y una red neuronal LSTM con Keras.\n",
    "Al analizar los datos financieros con técnicas como LSTM y otros algoritmos, es importante tener en cuenta que los resultados obtenidos nunca están garantizadosdebido a que el mercado de valores es increíblemente impredecible y está cambiando rápidamente."
   ]
  },
  {
   "cell_type": "code",
   "execution_count": 1,
   "metadata": {},
   "outputs": [
    {
     "name": "stderr",
     "output_type": "stream",
     "text": [
      "Using TensorFlow backend.\n",
      "C:\\ProgramData\\Anaconda3\\lib\\site-packages\\pandas_datareader\\compat\\__init__.py:7: FutureWarning: pandas.util.testing is deprecated. Use the functions in the public API at pandas.testing instead.\n",
      "  from pandas.util.testing import assert_frame_equal\n"
     ]
    }
   ],
   "source": [
    "import keras\n",
    "from keras.layers import Dropout\n",
    "import pandas as pd\n",
    "from keras.layers import Dense\n",
    "from keras.layers import LSTM\n",
    "import pandas_datareader.data as web\n",
    "import numpy as np\n",
    "import datetime\n",
    "from matplotlib import style\n",
    "\n",
    "# ignore warnings \n",
    "import warnings\n",
    "warnings.filterwarnings('ignore')"
   ]
  },
  {
   "cell_type": "markdown",
   "metadata": {},
   "source": [
    "## Imports:\n",
    "A continuación importo las siguintes librerías: \n",
    "* Keras para crear la red neuronal\n",
    "* pandas y pandas_data reader para obtener y analizar el stock\n",
    "* datetime para fijar las fechas de stock para el análisis de datos\n",
    "* numpy para redimensionar los datos a alimentar en la red neuronal\n",
    "* matplotlib para trazar y visualizar los datos\n",
    "* advertencias para ignorar cualquiera de las advertencias no deseadas que aparecen"
   ]
  },
  {
   "cell_type": "code",
   "execution_count": 2,
   "metadata": {},
   "outputs": [],
   "source": [
    "# Obtengo los datos de stock a través del API de yahoo:\n",
    "style.use('ggplot')\n",
    "\n",
    "# Extraigo los datos desde el  2014 al 2019 para entrenar el modelo\n",
    "inicio = datetime.datetime(2014,1,1)\n",
    "fin = datetime.datetime(2019,12,30)\n",
    "train_df = web.DataReader(\"^DJI\", 'yahoo', inicio, fin) \n",
    "\n",
    "# Extraigo los datos del 2020 para testear el modelo \n",
    "start = datetime.datetime(2020,1,1)\n",
    "fin = datetime.date.today()\n",
    "test_df = web.DataReader(\"^DJI\", 'yahoo', inicio, fin) "
   ]
  },
  {
   "cell_type": "code",
   "execution_count": 3,
   "metadata": {},
   "outputs": [
    {
     "data": {
      "text/html": [
       "<div>\n",
       "<style scoped>\n",
       "    .dataframe tbody tr th:only-of-type {\n",
       "        vertical-align: middle;\n",
       "    }\n",
       "\n",
       "    .dataframe tbody tr th {\n",
       "        vertical-align: top;\n",
       "    }\n",
       "\n",
       "    .dataframe thead th {\n",
       "        text-align: right;\n",
       "    }\n",
       "</style>\n",
       "<table border=\"1\" class=\"dataframe\">\n",
       "  <thead>\n",
       "    <tr style=\"text-align: right;\">\n",
       "      <th></th>\n",
       "      <th>High</th>\n",
       "      <th>Low</th>\n",
       "      <th>Open</th>\n",
       "      <th>Close</th>\n",
       "      <th>Volume</th>\n",
       "      <th>Adj Close</th>\n",
       "    </tr>\n",
       "    <tr>\n",
       "      <th>Date</th>\n",
       "      <th></th>\n",
       "      <th></th>\n",
       "      <th></th>\n",
       "      <th></th>\n",
       "      <th></th>\n",
       "      <th></th>\n",
       "    </tr>\n",
       "  </thead>\n",
       "  <tbody>\n",
       "    <tr>\n",
       "      <th>2014-01-02</th>\n",
       "      <td>16573.070312</td>\n",
       "      <td>16416.490234</td>\n",
       "      <td>16572.169922</td>\n",
       "      <td>16441.349609</td>\n",
       "      <td>80960000</td>\n",
       "      <td>16441.349609</td>\n",
       "    </tr>\n",
       "    <tr>\n",
       "      <th>2014-01-03</th>\n",
       "      <td>16518.740234</td>\n",
       "      <td>16439.300781</td>\n",
       "      <td>16456.890625</td>\n",
       "      <td>16469.990234</td>\n",
       "      <td>72770000</td>\n",
       "      <td>16469.990234</td>\n",
       "    </tr>\n",
       "    <tr>\n",
       "      <th>2014-01-06</th>\n",
       "      <td>16532.990234</td>\n",
       "      <td>16405.519531</td>\n",
       "      <td>16474.039062</td>\n",
       "      <td>16425.099609</td>\n",
       "      <td>89380000</td>\n",
       "      <td>16425.099609</td>\n",
       "    </tr>\n",
       "    <tr>\n",
       "      <th>2014-01-07</th>\n",
       "      <td>16562.320312</td>\n",
       "      <td>16429.019531</td>\n",
       "      <td>16429.019531</td>\n",
       "      <td>16530.939453</td>\n",
       "      <td>81270000</td>\n",
       "      <td>16530.939453</td>\n",
       "    </tr>\n",
       "    <tr>\n",
       "      <th>2014-01-08</th>\n",
       "      <td>16528.880859</td>\n",
       "      <td>16416.689453</td>\n",
       "      <td>16527.660156</td>\n",
       "      <td>16462.740234</td>\n",
       "      <td>103260000</td>\n",
       "      <td>16462.740234</td>\n",
       "    </tr>\n",
       "    <tr>\n",
       "      <th>...</th>\n",
       "      <td>...</td>\n",
       "      <td>...</td>\n",
       "      <td>...</td>\n",
       "      <td>...</td>\n",
       "      <td>...</td>\n",
       "      <td>...</td>\n",
       "    </tr>\n",
       "    <tr>\n",
       "      <th>2019-12-23</th>\n",
       "      <td>28582.490234</td>\n",
       "      <td>28491.779297</td>\n",
       "      <td>28491.779297</td>\n",
       "      <td>28551.529297</td>\n",
       "      <td>223530000</td>\n",
       "      <td>28551.529297</td>\n",
       "    </tr>\n",
       "    <tr>\n",
       "      <th>2019-12-24</th>\n",
       "      <td>28576.800781</td>\n",
       "      <td>28503.210938</td>\n",
       "      <td>28572.570312</td>\n",
       "      <td>28515.449219</td>\n",
       "      <td>86150000</td>\n",
       "      <td>28515.449219</td>\n",
       "    </tr>\n",
       "    <tr>\n",
       "      <th>2019-12-26</th>\n",
       "      <td>28624.099609</td>\n",
       "      <td>28535.150391</td>\n",
       "      <td>28539.460938</td>\n",
       "      <td>28621.390625</td>\n",
       "      <td>155970000</td>\n",
       "      <td>28621.390625</td>\n",
       "    </tr>\n",
       "    <tr>\n",
       "      <th>2019-12-27</th>\n",
       "      <td>28701.660156</td>\n",
       "      <td>28608.980469</td>\n",
       "      <td>28675.339844</td>\n",
       "      <td>28645.259766</td>\n",
       "      <td>182280000</td>\n",
       "      <td>28645.259766</td>\n",
       "    </tr>\n",
       "    <tr>\n",
       "      <th>2019-12-30</th>\n",
       "      <td>28664.689453</td>\n",
       "      <td>28428.980469</td>\n",
       "      <td>28654.759766</td>\n",
       "      <td>28462.140625</td>\n",
       "      <td>181600000</td>\n",
       "      <td>28462.140625</td>\n",
       "    </tr>\n",
       "  </tbody>\n",
       "</table>\n",
       "<p>1509 rows × 6 columns</p>\n",
       "</div>"
      ],
      "text/plain": [
       "                    High           Low          Open         Close     Volume  \\\n",
       "Date                                                                            \n",
       "2014-01-02  16573.070312  16416.490234  16572.169922  16441.349609   80960000   \n",
       "2014-01-03  16518.740234  16439.300781  16456.890625  16469.990234   72770000   \n",
       "2014-01-06  16532.990234  16405.519531  16474.039062  16425.099609   89380000   \n",
       "2014-01-07  16562.320312  16429.019531  16429.019531  16530.939453   81270000   \n",
       "2014-01-08  16528.880859  16416.689453  16527.660156  16462.740234  103260000   \n",
       "...                  ...           ...           ...           ...        ...   \n",
       "2019-12-23  28582.490234  28491.779297  28491.779297  28551.529297  223530000   \n",
       "2019-12-24  28576.800781  28503.210938  28572.570312  28515.449219   86150000   \n",
       "2019-12-26  28624.099609  28535.150391  28539.460938  28621.390625  155970000   \n",
       "2019-12-27  28701.660156  28608.980469  28675.339844  28645.259766  182280000   \n",
       "2019-12-30  28664.689453  28428.980469  28654.759766  28462.140625  181600000   \n",
       "\n",
       "               Adj Close  \n",
       "Date                      \n",
       "2014-01-02  16441.349609  \n",
       "2014-01-03  16469.990234  \n",
       "2014-01-06  16425.099609  \n",
       "2014-01-07  16530.939453  \n",
       "2014-01-08  16462.740234  \n",
       "...                  ...  \n",
       "2019-12-23  28551.529297  \n",
       "2019-12-24  28515.449219  \n",
       "2019-12-26  28621.390625  \n",
       "2019-12-27  28645.259766  \n",
       "2019-12-30  28462.140625  \n",
       "\n",
       "[1509 rows x 6 columns]"
      ]
     },
     "execution_count": 3,
     "metadata": {},
     "output_type": "execute_result"
    }
   ],
   "source": [
    "train_df"
   ]
  },
  {
   "cell_type": "code",
   "execution_count": 4,
   "metadata": {},
   "outputs": [
    {
     "data": {
      "text/html": [
       "<div>\n",
       "<style scoped>\n",
       "    .dataframe tbody tr th:only-of-type {\n",
       "        vertical-align: middle;\n",
       "    }\n",
       "\n",
       "    .dataframe tbody tr th {\n",
       "        vertical-align: top;\n",
       "    }\n",
       "\n",
       "    .dataframe thead th {\n",
       "        text-align: right;\n",
       "    }\n",
       "</style>\n",
       "<table border=\"1\" class=\"dataframe\">\n",
       "  <thead>\n",
       "    <tr style=\"text-align: right;\">\n",
       "      <th></th>\n",
       "      <th>High</th>\n",
       "      <th>Low</th>\n",
       "      <th>Open</th>\n",
       "      <th>Close</th>\n",
       "      <th>Volume</th>\n",
       "      <th>Adj Close</th>\n",
       "    </tr>\n",
       "    <tr>\n",
       "      <th>Date</th>\n",
       "      <th></th>\n",
       "      <th></th>\n",
       "      <th></th>\n",
       "      <th></th>\n",
       "      <th></th>\n",
       "      <th></th>\n",
       "    </tr>\n",
       "  </thead>\n",
       "  <tbody>\n",
       "    <tr>\n",
       "      <th>2014-01-02</th>\n",
       "      <td>16573.070312</td>\n",
       "      <td>16416.490234</td>\n",
       "      <td>16572.169922</td>\n",
       "      <td>16441.349609</td>\n",
       "      <td>80960000</td>\n",
       "      <td>16441.349609</td>\n",
       "    </tr>\n",
       "    <tr>\n",
       "      <th>2014-01-03</th>\n",
       "      <td>16518.740234</td>\n",
       "      <td>16439.300781</td>\n",
       "      <td>16456.890625</td>\n",
       "      <td>16469.990234</td>\n",
       "      <td>72770000</td>\n",
       "      <td>16469.990234</td>\n",
       "    </tr>\n",
       "    <tr>\n",
       "      <th>2014-01-06</th>\n",
       "      <td>16532.990234</td>\n",
       "      <td>16405.519531</td>\n",
       "      <td>16474.039062</td>\n",
       "      <td>16425.099609</td>\n",
       "      <td>89380000</td>\n",
       "      <td>16425.099609</td>\n",
       "    </tr>\n",
       "    <tr>\n",
       "      <th>2014-01-07</th>\n",
       "      <td>16562.320312</td>\n",
       "      <td>16429.019531</td>\n",
       "      <td>16429.019531</td>\n",
       "      <td>16530.939453</td>\n",
       "      <td>81270000</td>\n",
       "      <td>16530.939453</td>\n",
       "    </tr>\n",
       "    <tr>\n",
       "      <th>2014-01-08</th>\n",
       "      <td>16528.880859</td>\n",
       "      <td>16416.689453</td>\n",
       "      <td>16527.660156</td>\n",
       "      <td>16462.740234</td>\n",
       "      <td>103260000</td>\n",
       "      <td>16462.740234</td>\n",
       "    </tr>\n",
       "    <tr>\n",
       "      <th>...</th>\n",
       "      <td>...</td>\n",
       "      <td>...</td>\n",
       "      <td>...</td>\n",
       "      <td>...</td>\n",
       "      <td>...</td>\n",
       "      <td>...</td>\n",
       "    </tr>\n",
       "    <tr>\n",
       "      <th>2020-07-20</th>\n",
       "      <td>26765.019531</td>\n",
       "      <td>26504.199219</td>\n",
       "      <td>26660.289062</td>\n",
       "      <td>26680.869141</td>\n",
       "      <td>309390000</td>\n",
       "      <td>26680.869141</td>\n",
       "    </tr>\n",
       "    <tr>\n",
       "      <th>2020-07-21</th>\n",
       "      <td>27025.380859</td>\n",
       "      <td>26766.220703</td>\n",
       "      <td>26833.140625</td>\n",
       "      <td>26840.400391</td>\n",
       "      <td>364930000</td>\n",
       "      <td>26840.400391</td>\n",
       "    </tr>\n",
       "    <tr>\n",
       "      <th>2020-07-22</th>\n",
       "      <td>27035.240234</td>\n",
       "      <td>26794.189453</td>\n",
       "      <td>26824.560547</td>\n",
       "      <td>27005.839844</td>\n",
       "      <td>404340000</td>\n",
       "      <td>27005.839844</td>\n",
       "    </tr>\n",
       "    <tr>\n",
       "      <th>2020-07-23</th>\n",
       "      <td>26973.849609</td>\n",
       "      <td>26560.039062</td>\n",
       "      <td>26955.970703</td>\n",
       "      <td>26652.330078</td>\n",
       "      <td>419800000</td>\n",
       "      <td>26652.330078</td>\n",
       "    </tr>\n",
       "    <tr>\n",
       "      <th>2020-07-24</th>\n",
       "      <td>26625.699219</td>\n",
       "      <td>26402.859375</td>\n",
       "      <td>26533.410156</td>\n",
       "      <td>26469.890625</td>\n",
       "      <td>494170000</td>\n",
       "      <td>26469.890625</td>\n",
       "    </tr>\n",
       "  </tbody>\n",
       "</table>\n",
       "<p>1652 rows × 6 columns</p>\n",
       "</div>"
      ],
      "text/plain": [
       "                    High           Low          Open         Close     Volume  \\\n",
       "Date                                                                            \n",
       "2014-01-02  16573.070312  16416.490234  16572.169922  16441.349609   80960000   \n",
       "2014-01-03  16518.740234  16439.300781  16456.890625  16469.990234   72770000   \n",
       "2014-01-06  16532.990234  16405.519531  16474.039062  16425.099609   89380000   \n",
       "2014-01-07  16562.320312  16429.019531  16429.019531  16530.939453   81270000   \n",
       "2014-01-08  16528.880859  16416.689453  16527.660156  16462.740234  103260000   \n",
       "...                  ...           ...           ...           ...        ...   \n",
       "2020-07-20  26765.019531  26504.199219  26660.289062  26680.869141  309390000   \n",
       "2020-07-21  27025.380859  26766.220703  26833.140625  26840.400391  364930000   \n",
       "2020-07-22  27035.240234  26794.189453  26824.560547  27005.839844  404340000   \n",
       "2020-07-23  26973.849609  26560.039062  26955.970703  26652.330078  419800000   \n",
       "2020-07-24  26625.699219  26402.859375  26533.410156  26469.890625  494170000   \n",
       "\n",
       "               Adj Close  \n",
       "Date                      \n",
       "2014-01-02  16441.349609  \n",
       "2014-01-03  16469.990234  \n",
       "2014-01-06  16425.099609  \n",
       "2014-01-07  16530.939453  \n",
       "2014-01-08  16462.740234  \n",
       "...                  ...  \n",
       "2020-07-20  26680.869141  \n",
       "2020-07-21  26840.400391  \n",
       "2020-07-22  27005.839844  \n",
       "2020-07-23  26652.330078  \n",
       "2020-07-24  26469.890625  \n",
       "\n",
       "[1652 rows x 6 columns]"
      ]
     },
     "execution_count": 4,
     "metadata": {},
     "output_type": "execute_result"
    }
   ],
   "source": [
    "test_df"
   ]
  },
  {
   "cell_type": "markdown",
   "metadata": {},
   "source": [
    "## Obteniendo los datos de las acciones: \n",
    "* Este código cambia nuestro estilo de trazado a ggplot.   En el siguiente link existe más información sobre ggplot [aqui](https://matplotlib.org/3.1.1/gallery/style_sheets/ggplot.html). \n",
    "* Utilizo pandas_datareader como \"web\" para obtener los datos de los precios de las acciones utilizando la función DataReader que obtiene los datos financieros y los almacena en un dataframe.\n",
    "* Obtengo los datos del índice DowJones desde el 2014 hasta el 2019 para el entrenamiento del modelo.\n",
    "* Obtengo los datos del índice DowJones desde el año 2020 hasta la actualidad para testearlo.\n",
    "* \"^DJI\" es el símbolo de cotización de las acciones para el índice Dow Jones y especifico 'yahoo' para obtener los datos utilizando la API de finanzas de Yahoo."
   ]
  },
  {
   "cell_type": "code",
   "execution_count": 5,
   "metadata": {},
   "outputs": [
    {
     "data": {
      "text/html": [
       "<div>\n",
       "<style scoped>\n",
       "    .dataframe tbody tr th:only-of-type {\n",
       "        vertical-align: middle;\n",
       "    }\n",
       "\n",
       "    .dataframe tbody tr th {\n",
       "        vertical-align: top;\n",
       "    }\n",
       "\n",
       "    .dataframe thead th {\n",
       "        text-align: right;\n",
       "    }\n",
       "</style>\n",
       "<table border=\"1\" class=\"dataframe\">\n",
       "  <thead>\n",
       "    <tr style=\"text-align: right;\">\n",
       "      <th></th>\n",
       "      <th>High</th>\n",
       "      <th>Low</th>\n",
       "      <th>Open</th>\n",
       "      <th>Close</th>\n",
       "      <th>Volume</th>\n",
       "      <th>Adj Close</th>\n",
       "    </tr>\n",
       "    <tr>\n",
       "      <th>Date</th>\n",
       "      <th></th>\n",
       "      <th></th>\n",
       "      <th></th>\n",
       "      <th></th>\n",
       "      <th></th>\n",
       "      <th></th>\n",
       "    </tr>\n",
       "  </thead>\n",
       "  <tbody>\n",
       "    <tr>\n",
       "      <th>2019-12-23</th>\n",
       "      <td>28582.490234</td>\n",
       "      <td>28491.779297</td>\n",
       "      <td>28491.779297</td>\n",
       "      <td>28551.529297</td>\n",
       "      <td>223530000</td>\n",
       "      <td>28551.529297</td>\n",
       "    </tr>\n",
       "    <tr>\n",
       "      <th>2019-12-24</th>\n",
       "      <td>28576.800781</td>\n",
       "      <td>28503.210938</td>\n",
       "      <td>28572.570312</td>\n",
       "      <td>28515.449219</td>\n",
       "      <td>86150000</td>\n",
       "      <td>28515.449219</td>\n",
       "    </tr>\n",
       "    <tr>\n",
       "      <th>2019-12-26</th>\n",
       "      <td>28624.099609</td>\n",
       "      <td>28535.150391</td>\n",
       "      <td>28539.460938</td>\n",
       "      <td>28621.390625</td>\n",
       "      <td>155970000</td>\n",
       "      <td>28621.390625</td>\n",
       "    </tr>\n",
       "    <tr>\n",
       "      <th>2019-12-27</th>\n",
       "      <td>28701.660156</td>\n",
       "      <td>28608.980469</td>\n",
       "      <td>28675.339844</td>\n",
       "      <td>28645.259766</td>\n",
       "      <td>182280000</td>\n",
       "      <td>28645.259766</td>\n",
       "    </tr>\n",
       "    <tr>\n",
       "      <th>2019-12-30</th>\n",
       "      <td>28664.689453</td>\n",
       "      <td>28428.980469</td>\n",
       "      <td>28654.759766</td>\n",
       "      <td>28462.140625</td>\n",
       "      <td>181600000</td>\n",
       "      <td>28462.140625</td>\n",
       "    </tr>\n",
       "  </tbody>\n",
       "</table>\n",
       "</div>"
      ],
      "text/plain": [
       "                    High           Low          Open         Close     Volume  \\\n",
       "Date                                                                            \n",
       "2019-12-23  28582.490234  28491.779297  28491.779297  28551.529297  223530000   \n",
       "2019-12-24  28576.800781  28503.210938  28572.570312  28515.449219   86150000   \n",
       "2019-12-26  28624.099609  28535.150391  28539.460938  28621.390625  155970000   \n",
       "2019-12-27  28701.660156  28608.980469  28675.339844  28645.259766  182280000   \n",
       "2019-12-30  28664.689453  28428.980469  28654.759766  28462.140625  181600000   \n",
       "\n",
       "               Adj Close  \n",
       "Date                      \n",
       "2019-12-23  28551.529297  \n",
       "2019-12-24  28515.449219  \n",
       "2019-12-26  28621.390625  \n",
       "2019-12-27  28645.259766  \n",
       "2019-12-30  28462.140625  "
      ]
     },
     "execution_count": 5,
     "metadata": {},
     "output_type": "execute_result"
    }
   ],
   "source": [
    "# ordeno por fecha\n",
    "train_df = train_df.sort_values('Date')\n",
    "test_df = test_df.sort_values('Date')\n",
    "\n",
    "# corrigo la fecha \n",
    "train_df.reset_index(inplace=True)\n",
    "train_df.set_index(\"Date\", inplace=True)\n",
    "test_df.reset_index(inplace=True)\n",
    "test_df.set_index(\"Date\", inplace=True)\n",
    "\n",
    "train_df.tail()"
   ]
  },
  {
   "cell_type": "markdown",
   "metadata": {},
   "source": [
    "## Preparando los datos:\n",
    "*  Dado que estoy haciendo una predicción de series de tiempo, es necesario que los datos sean secuenciales. Clasifico los datos de entrenamiento y test por fecha. \n",
    "* Posteriormente reinicio el índice lo marco como el índice del dataframe"
   ]
  },
  {
   "cell_type": "code",
   "execution_count": 8,
   "metadata": {
    "scrolled": false
   },
   "outputs": [
    {
     "data": {
      "image/png": "[encoded data removed]",
      "text/plain": [
       "<Figure size 864x432 with 1 Axes>"
      ]
     },
     "metadata": {
      "needs_background": "light"
     },
     "output_type": "display_data"
    }
   ],
   "source": [
    "# Visualizo los datos de entrenamiento:\n",
    "import matplotlib.pyplot as plt\n",
    "%matplotlib inline\n",
    "\n",
    "plt.figure(figsize = (12,6))\n",
    "plt.plot(train_df[\"Adj Close\"])\n",
    "plt.xlabel('Date',fontsize=15)\n",
    "plt.ylabel('Adjusted Close Price',fontsize=15)\n",
    "plt.show()"
   ]
  },
  {
   "cell_type": "code",
   "execution_count": 10,
   "metadata": {},
   "outputs": [
    {
     "data": {
      "text/plain": [
       "<matplotlib.legend.Legend at 0x2ea561c2888>"
      ]
     },
     "execution_count": 10,
     "metadata": {},
     "output_type": "execute_result"
    },
    {
     "data": {
      "image/png": "[encoded data removed]",
      "text/plain": [
       "<Figure size 864x432 with 1 Axes>"
      ]
     },
     "metadata": {
      "needs_background": "light"
     },
     "output_type": "display_data"
    }
   ],
   "source": [
    "# Rolling mean\n",
    "close_p = train_df['Adj Close']\n",
    "mavg = close_p.rolling(window=100).mean()\n",
    "\n",
    "plt.figure(figsize = (12,6))\n",
    "close_p.plot(label='DOW JONES')\n",
    "mavg.plot(label='mavg')\n",
    "plt.xlabel('Date')\n",
    "plt.ylabel('Price')\n",
    "plt.legend()"
   ]
  },
  {
   "cell_type": "markdown",
   "metadata": {},
   "source": [
    "## Rolling mean: \n",
    "* Obtengo los precios de cierre ajustados de nuestro dataframe y trazo una media móvil (Rolling mean)en nuestros datos.\n",
    "* Rolling mean también es conocida como moving average o media móvil. El promedio móvil nos ayuda a suavizar los datos que tienen muchas fluctuaciones y nos ayuda a ver mejor la tendencia a largo plazo de los datos.\n",
    "* Con el promedio móvil es posible definir un período de tiempo sobre el que tomar el promedio de lo que se conoce como nuestra ventana. En este caso la ventana definida es de 100. Defino 100 porque quiero ver el promedio móvil a largo plazo en los datos.\n",
    "\n",
    "#### Las matemáticas: \n",
    "* El funcionamiento del promedio móvil es el siguiente, se suman los precios de 100 días seguidos y se dividen por 100 para obtener la media. Luego movemos nuestra ventana a la derecha por una. Así que bajamos el primer precio y agregamos un nuevo precio al final.\n",
    "* Otra forma de imaginarlo es pensarlo como un conjunto de 100 precios. Sumamos todos los elementos y dividimos por 100 para obtener nuestro promedio. Luego eliminamos el elemento en `` `a [0]` `` y agregamos otro precio al final de la matriz. Luego sumamos todos los elementos nuevamente y luego dividimos por 100 para obtener nuestro próximo punto promedio."
   ]
  },
  {
   "cell_type": "code",
   "execution_count": 11,
   "metadata": {},
   "outputs": [
    {
     "data": {
      "text/html": [
       "<div>\n",
       "<style scoped>\n",
       "    .dataframe tbody tr th:only-of-type {\n",
       "        vertical-align: middle;\n",
       "    }\n",
       "\n",
       "    .dataframe tbody tr th {\n",
       "        vertical-align: top;\n",
       "    }\n",
       "\n",
       "    .dataframe thead th {\n",
       "        text-align: right;\n",
       "    }\n",
       "</style>\n",
       "<table border=\"1\" class=\"dataframe\">\n",
       "  <thead>\n",
       "    <tr style=\"text-align: right;\">\n",
       "      <th></th>\n",
       "      <th>Date</th>\n",
       "      <th>High</th>\n",
       "      <th>Low</th>\n",
       "      <th>Open</th>\n",
       "      <th>Close</th>\n",
       "      <th>Volume</th>\n",
       "      <th>Adj Close</th>\n",
       "    </tr>\n",
       "  </thead>\n",
       "  <tbody>\n",
       "    <tr>\n",
       "      <th>1504</th>\n",
       "      <td>737416.0</td>\n",
       "      <td>28582.490234</td>\n",
       "      <td>28491.779297</td>\n",
       "      <td>28491.779297</td>\n",
       "      <td>28551.529297</td>\n",
       "      <td>223530000</td>\n",
       "      <td>28551.529297</td>\n",
       "    </tr>\n",
       "    <tr>\n",
       "      <th>1505</th>\n",
       "      <td>737417.0</td>\n",
       "      <td>28576.800781</td>\n",
       "      <td>28503.210938</td>\n",
       "      <td>28572.570312</td>\n",
       "      <td>28515.449219</td>\n",
       "      <td>86150000</td>\n",
       "      <td>28515.449219</td>\n",
       "    </tr>\n",
       "    <tr>\n",
       "      <th>1506</th>\n",
       "      <td>737419.0</td>\n",
       "      <td>28624.099609</td>\n",
       "      <td>28535.150391</td>\n",
       "      <td>28539.460938</td>\n",
       "      <td>28621.390625</td>\n",
       "      <td>155970000</td>\n",
       "      <td>28621.390625</td>\n",
       "    </tr>\n",
       "    <tr>\n",
       "      <th>1507</th>\n",
       "      <td>737420.0</td>\n",
       "      <td>28701.660156</td>\n",
       "      <td>28608.980469</td>\n",
       "      <td>28675.339844</td>\n",
       "      <td>28645.259766</td>\n",
       "      <td>182280000</td>\n",
       "      <td>28645.259766</td>\n",
       "    </tr>\n",
       "    <tr>\n",
       "      <th>1508</th>\n",
       "      <td>737423.0</td>\n",
       "      <td>28664.689453</td>\n",
       "      <td>28428.980469</td>\n",
       "      <td>28654.759766</td>\n",
       "      <td>28462.140625</td>\n",
       "      <td>181600000</td>\n",
       "      <td>28462.140625</td>\n",
       "    </tr>\n",
       "  </tbody>\n",
       "</table>\n",
       "</div>"
      ],
      "text/plain": [
       "          Date          High           Low          Open         Close  \\\n",
       "1504  737416.0  28582.490234  28491.779297  28491.779297  28551.529297   \n",
       "1505  737417.0  28576.800781  28503.210938  28572.570312  28515.449219   \n",
       "1506  737419.0  28624.099609  28535.150391  28539.460938  28621.390625   \n",
       "1507  737420.0  28701.660156  28608.980469  28675.339844  28645.259766   \n",
       "1508  737423.0  28664.689453  28428.980469  28654.759766  28462.140625   \n",
       "\n",
       "         Volume     Adj Close  \n",
       "1504  223530000  28551.529297  \n",
       "1505   86150000  28515.449219  \n",
       "1506  155970000  28621.390625  \n",
       "1507  182280000  28645.259766  \n",
       "1508  181600000  28462.140625  "
      ]
     },
     "execution_count": 11,
     "metadata": {},
     "output_type": "execute_result"
    }
   ],
   "source": [
    "import matplotlib.dates as mdates\n",
    "\n",
    "# Cambio las fechas a ints para el entrenamiento del modelo\n",
    "dates_df = train_df.copy()\n",
    "dates_df = dates_df.reset_index()\n",
    "\n",
    "# Almaceno las fechas originales para posteriormente pintar las predicciones.\n",
    "ini_dates = dates_df['Date']\n",
    "\n",
    "# Conviento a ints\n",
    "dates_df['Date'] = dates_df['Date'].map(mdates.date2num)\n",
    "\n",
    "dates_df.tail()"
   ]
  },
  {
   "cell_type": "markdown",
   "metadata": {},
   "source": [
    "## Convirtienfo las fechas: \n",
    "* Creo una copia del dataframe y lo llamo date_df. Almaceno las fechas originales en ini_dates. Posteriomente utilizaré ini_dates para trazar las predicciones y fechas.\n",
    "* A continuación transformo las fechas date_df a números enteros usando mdates.date2num. Es necesario transformar las fechas a números enteros para poder entrenar la red neuronales."
   ]
  },
  {
   "cell_type": "code",
   "execution_count": 12,
   "metadata": {},
   "outputs": [
    {
     "name": "stdout",
     "output_type": "stream",
     "text": [
      "(1509,)\n"
     ]
    }
   ],
   "source": [
    "# Extraigo los datos de entrenamiento de Adj Close\n",
    "train_data = train_df.loc[:,'Adj Close'].to_numpy()\n",
    "print(train_data.shape) # 1258 "
   ]
  },
  {
   "cell_type": "code",
   "execution_count": 13,
   "metadata": {},
   "outputs": [
    {
     "data": {
      "text/plain": [
       "array([16441.34960938, 16469.99023438, 16425.09960938, ...,\n",
       "       28621.390625  , 28645.25976562, 28462.140625  ])"
      ]
     },
     "execution_count": 13,
     "metadata": {},
     "output_type": "execute_result"
    }
   ],
   "source": [
    "train_data"
   ]
  },
  {
   "cell_type": "code",
   "execution_count": 16,
   "metadata": {},
   "outputs": [],
   "source": [
    "# Normalizo los datos antes de alimentar la red LSTM:\n",
    "from sklearn.preprocessing import MinMaxScaler\n",
    "\n",
    "scaler = MinMaxScaler()\n",
    "train_data = train_data.reshape(-1,1)\n",
    "\n",
    "scaler.fit(train_data)\n",
    "train_data = scaler.transform(train_data)"
   ]
  },
  {
   "cell_type": "markdown",
   "metadata": {},
   "source": [
    "## Normalizando: \n",
    "* Aquí creo los datos de entrenamiento y los normalizo. Utilizo sklearn para crear un objeto MinMaxScaler ().\n",
    "* MinMaxScaler funciona reduciendo el rango de los valores a un valor entre 0 y 1\n",
    "* A continuación se presento la ecuación para el escalador min-max:\n",
    "<img src=\"Images/MinMax.png\">\n",
    "* Esta es la ecuación que sklearn está haciendo en segundo plano para convertir nuestros datos en el rango deseado. "
   ]
  },
  {
   "cell_type": "code",
   "execution_count": 17,
   "metadata": {},
   "outputs": [],
   "source": [
    "'''Función que crea un dataset para ser alimentado en una red LSTM'''\n",
    "def crear_LSTM_dataset(dataset, rango):\n",
    "    dataX, dataY = [], []\n",
    "    for i in range(len(dataset)-rango):\n",
    "        a = dataset[i:(i + rango), 0]\n",
    "        dataX.append(a)\n",
    "        dataY.append(dataset[i + rango, 0])\n",
    "    return np.array(dataX), np.array(dataY)"
   ]
  },
  {
   "cell_type": "code",
   "execution_count": 18,
   "metadata": {},
   "outputs": [
    {
     "name": "stdout",
     "output_type": "stream",
     "text": [
      "(1473, 36, 1)\n"
     ]
    }
   ],
   "source": [
    "# Genero los datos de entrenamiento para el entrenamiento del modelo:\n",
    "time_steps = 36\n",
    "X_train, y_train = crear_LSTM_dataset(train_data, time_steps)\n",
    "\n",
    "# Lo redimensiono [samples, time steps, features]\n",
    "X_train = np.reshape(X_train, (X_train.shape[0], 36, 1))\n",
    "\n",
    "print(X_train.shape)"
   ]
  },
  {
   "cell_type": "code",
   "execution_count": 19,
   "metadata": {},
   "outputs": [
    {
     "name": "stdout",
     "output_type": "stream",
     "text": [
      "X_train:\n",
      "[[16441.34960938]\n",
      " [16469.99023438]\n",
      " [16425.09960938]\n",
      " [16530.93945312]\n",
      " [16462.74023438]\n",
      " [16444.75976562]\n",
      " [16437.05078125]\n",
      " [16257.94042969]\n",
      " [16373.86035156]\n",
      " [16481.93945312]\n",
      " [16417.00976562]\n",
      " [16458.56054688]\n",
      " [16414.43945312]\n",
      " [16373.33984375]\n",
      " [16197.34960938]\n",
      " [15879.11035156]\n",
      " [15837.87988281]\n",
      " [15928.55957031]\n",
      " [15738.79003906]\n",
      " [15848.61035156]\n",
      " [15698.84960938]\n",
      " [15372.79980469]\n",
      " [15445.24023438]\n",
      " [15440.23046875]\n",
      " [15628.53027344]\n",
      " [15794.08007812]\n",
      " [15801.79003906]\n",
      " [15994.76953125]\n",
      " [15963.94042969]\n",
      " [16027.58984375]\n",
      " [16154.38964844]\n",
      " [16130.40039062]\n",
      " [16040.55957031]\n",
      " [16133.23046875]\n",
      " [16103.29980469]\n",
      " [16207.13964844]]\n",
      "\n",
      "\n",
      "y_train: [[16179.66015625]]\n",
      "\n"
     ]
    }
   ],
   "source": [
    "# Visualizo los datos: \n",
    "print('X_train:')\n",
    "print(str(scaler.inverse_transform(X_train[0])))\n",
    "print(\"\\n\")\n",
    "print('y_train: ' + str(scaler.inverse_transform(y_train[0].reshape(-1,1)))+'\\n')"
   ]
  },
  {
   "cell_type": "markdown",
   "metadata": {},
   "source": [
    "## Preparando los datos para la red neuronal: \n",
    "* Aquí he creado la función 'crear_LSTM_dataset'. Esta función realiza un bucle desde (0 hasta la longitud de nuestro conjunto de datos: el número de time steps). \n",
    "* Cada índice en la matriz X_train contiene una matriz de 36 días de precios de cierre y la matriz y_train contiene el precio de cierre un día después de nuestros time steps.\n",
    "* Es decir se alimenta la red neuronal con los precios de cierre de los 36 días previos y la red debe ser capaz de realizar la predicción del precio de cierre de las acciones del día inmediatamente posterior."
   ]
  },
  {
   "cell_type": "code",
   "execution_count": 25,
   "metadata": {},
   "outputs": [
    {
     "name": "stdout",
     "output_type": "stream",
     "text": [
      "Train on 1031 samples, validate on 442 samples\n",
      "Epoch 1/20\n",
      "1031/1031 [==============================] - 5s 5ms/step - loss: 0.0052 - val_loss: 0.0017\n",
      "Epoch 2/20\n",
      "1031/1031 [==============================] - 5s 4ms/step - loss: 0.0020 - val_loss: 0.0016\n",
      "Epoch 3/20\n",
      "1031/1031 [==============================] - 5s 5ms/step - loss: 0.0014 - val_loss: 0.0012\n",
      "Epoch 4/20\n",
      "1031/1031 [==============================] - 5s 5ms/step - loss: 0.0015 - val_loss: 0.0062\n",
      "Epoch 5/20\n",
      "1031/1031 [==============================] - 5s 4ms/step - loss: 0.0020 - val_loss: 0.0025\n",
      "Epoch 6/20\n",
      "1031/1031 [==============================] - 5s 4ms/step - loss: 0.0015 - val_loss: 0.0027\n",
      "Epoch 7/20\n",
      "1031/1031 [==============================] - 5s 4ms/step - loss: 0.0014 - val_loss: 0.0010\n",
      "Epoch 8/20\n",
      "1031/1031 [==============================] - 5s 5ms/step - loss: 0.0012 - val_loss: 0.0016\n",
      "Epoch 9/20\n",
      "1031/1031 [==============================] - 5s 5ms/step - loss: 0.0013 - val_loss: 0.0061\n",
      "Epoch 10/20\n",
      "1031/1031 [==============================] - 5s 5ms/step - loss: 0.0010 - val_loss: 9.7089e-04\n",
      "Epoch 11/20\n",
      "1031/1031 [==============================] - 5s 4ms/step - loss: 0.0011 - val_loss: 0.0017\n",
      "Epoch 12/20\n",
      "1031/1031 [==============================] - 5s 4ms/step - loss: 0.0013 - val_loss: 0.0013\n",
      "Epoch 13/20\n",
      "1031/1031 [==============================] - 4s 4ms/step - loss: 0.0010 - val_loss: 7.6305e-04\n",
      "Epoch 14/20\n",
      "1031/1031 [==============================] - 5s 4ms/step - loss: 0.0010 - val_loss: 9.8455e-04\n",
      "Epoch 15/20\n",
      "1031/1031 [==============================] - 4s 4ms/step - loss: 0.0013 - val_loss: 0.0039\n",
      "Epoch 16/20\n",
      "1031/1031 [==============================] - 5s 5ms/step - loss: 0.0011 - val_loss: 0.0018\n",
      "Epoch 17/20\n",
      "1031/1031 [==============================] - 6s 6ms/step - loss: 9.2943e-04 - val_loss: 0.0014\n",
      "Epoch 18/20\n",
      "1031/1031 [==============================] - 6s 5ms/step - loss: 8.9559e-04 - val_loss: 0.0040\n",
      "Epoch 19/20\n",
      "1031/1031 [==============================] - 6s 5ms/step - loss: 7.9323e-04 - val_loss: 0.0018\n",
      "Epoch 20/20\n",
      "1031/1031 [==============================] - 5s 5ms/step - loss: 0.0010 - val_loss: 7.8253e-04\n"
     ]
    }
   ],
   "source": [
    "# Construyo el modelo \n",
    "model = keras.Sequential()\n",
    "\n",
    "model.add(LSTM(units = 100, return_sequences = True, input_shape = (X_train.shape[1], 1)))\n",
    "model.add(Dropout(0.4))\n",
    "\n",
    "model.add(LSTM(units = 100))\n",
    "model.add(Dropout(0.3))\n",
    "\n",
    "# Capa de salida\n",
    "model.add(Dense(units = 1))\n",
    "\n",
    "# Compilando el modelo\n",
    "model.compile(optimizer = 'adam', loss = 'mean_squared_error')\n",
    "\n",
    "# Ajustando el modelo al conjunto de entrenamiento\n",
    "history = model.fit(X_train, y_train, epochs = 20, batch_size = 10, validation_split=.30)"
   ]
  },
  {
   "cell_type": "markdown",
   "metadata": {},
   "source": [
    "## Tutorial de redes recurrentes y LSTM: \n",
    "* LSTM significa Memoria a corto y largo plazo. Las LSTM son una versión avanzada de las redes neuronales recurrentes. Las redes neuronales recurrentes (RNN) son un tipo especial de red neuronal. Las RNN toman la salida anterior como entrada. En los RNN, la salida anterior influye en la siguiente salida. A continuación se muestra una imagen útil de cómo se vería una RNN de este increíble [artículo](https://colah.github.io/posts/2015-08-Understanding-LSTMs/) escrito por Christopher Olah: \n",
    "\n",
    "<img src=\"Images/RNN-unrolled.png\" width = 600 height = 400>\n",
    "\n",
    "* \"Una red neuronal recurrente puede considerarse como múltiples copias de una misma red, y cada una pasa un mensaje a su sucesora\". -Chris Olah\n",
    "* Las redes neuronales recurrentes sufren el problema de fuga del gradiente. Durante la retropropagación (el proceso recursivo de actualizar los pesos en una red neuronal) se actualizan los pesos de cada capa. Sin embargo, con las redes RNN y la fuga del gradiente, el gradiente se vuelve tan pequeño que continúa actualizando cada capa. A medida que la propagación hacia atrás se propaga a través de las capas, para cuando llega a la primera capa, el valor del gradiente es un valor tan pequeño que hace cambios casi imperceptibles en los pesos. Dado que se realizan cambios mínimos, estas capas iniciales no están aprendiendo o cambiando.\n",
    "* En otras palabras, con secuencias de datos más largas, las RNN olvidan lo que han visto en las capas anteriores y no aprenden correctamente debido al problema de fuga del gradiente. Por ejemplo, si tuviera varios párrafos de texto e intentara predecir la siguiente palabra en una oración, las RNN no recordarían palabras de párrafos anteriores que el modelo ya haya visto. Aquí es donde los LSTM son útiles.\n",
    "\n",
    "## LSTM: \n",
    "Las LSTM son un tipo de RNN con puertas dentro de cada celda LSTM. Estas puertas dentro de las celdas LSTM ayudan a la red a decidir qué datos son importantes para recordar y qué datos pueden olvidarse incluso en series largas de datos.\n",
    "Los tipos de puertas existentes son, la puerta de olvidar o forget gate, la puerta de entrada y la puerta de salida. A continuación se muestra una visualización de cómo se ven estas células LSTM a partir de esto\n",
    "\n",
    "[video](https://www.youtube.com/watch?v=8HyCNIVRbSU). Esta explicación está inspirada en este video y en este artículo [article](https://colah.github.io/posts/2015-08-Understanding-LSTMs/) gracias a lasfantásticas explicaciones existentes en el mismo\n",
    "\n",
    "<img src=\"Images/Gates.png\" width=400 height=400>\n",
    "Por lo tanto, las redes LSTM son secuenciales al igual que las RNN. La salida de la celda anterior se pasa como entrada a la celda siguiente. A continuación se analiza lo que ocurre en el interior de cada puerta perteneciente a una celda LSTM:\n",
    "\n",
    "Las puertas contienen funciones de activación sigmoideas. La función de activación sigmoidea puede considerarse como una función de \"aplastamiento\". Toma datos numéricos y divide los números en un rango de 0 a 1. Esto es importante ya que nos permite evitar que los números en nuestra red se vuelvan masivos y causen errores en el aprendizaje.\n",
    "\n",
    "### Forget gate: \n",
    "La forget gate toma el estado oculto anterior de la celda LSTM anterior y la entrada actual y los multiplica. Los valores más cercanos a 0 significan olvidar los datos, y los valores más cercanos a 1 significa mantener estos datos. \n",
    "\n",
    "* **Las matemáticas:** \n",
    "<img src=\"Images/f.png\" width = 600 height = 600>\n",
    "* La forget gate es la matriz de peso de la forget gate multiplicada por el estado oculto anterior y luego el estado de entrada + algunos sesgos, todos pasados a una función de activación sigmoidea. Después de calcular esto, se pasa al estado de la celda. \n",
    "\n",
    "### Input gate: \n",
    "Esta puerta actualiza el estado de la celda con los nuevos datos que queremos almacenar en el estado de la celda. La puerta de entrada toma el estado oculto anterior multiplicado por la entrada y lo pasa a través de un sigmoide. Los valores más cercanos a 0 no son importantes y los valores más cercanos a 1 son importantes. Luego, el estado oculto anterior se multiplica por la entrada y se pasa a una función de activación que divide los valores en un rango de -1 a 1. Luego, la salida sigmoidea se multiplica por la salida de la función de activación anterior. La salida sigmoide decide qué información es importante mantener de la salida de la función de activación.\n",
    "\n",
    "\n",
    "\n",
    "* **Las matemáticas:**\n",
    "<img src=\"Images/Input_g.png\" width = 600 height = 600>\n",
    "\n",
    "### Cell State: \n",
    "Memoria de la red. Esto puede considerarse como una \"autopista de la información\" que transporta los recuerdos de las celdas anteriores a las celdas futuras. Las puertas realizan cambios en el estado de la celda y luego pasan esa información a la siguiente celda. Una vez que se han calculado la puerta de olvidar y la puerta de entrada, podemos calcular el valor del estado de la celda.\n",
    "\n",
    "\n",
    "\n",
    "* **Las matemáticas:**\n",
    "<img src=\"Images/cell_st.png\" width = 600 height = 600>\n",
    "* El estado de la celda es la salida de la forget gate * estado de la celda anterior + la salida de la puerta de entrada * los valores del estado de la celda pasados ​​desde la celda anterior. Esto es para eliminar ciertos valores que están más cerca de cero que queremos olvidar. Luego se agregan los valores de la puerta de entrada a nuestro valor de estado de celda que queremos pasar a la siguiente celda.  \n",
    "\n",
    "#### Output gate: \n",
    "La puerta de salida decide cuál debería ser el siguiente estado oculto. Tomamos el estado oculto anterior, lo multiplicamos por la entrada y pasamos a una función de activación sigmoidea. Luego pasamos el valor del estado de la celda a una función de activación. Se Multiplica la salida de la función de activación por la salida sigmoidea para decidir qué datos debe llevar el estado oculto a la siguiente celda LSTM.\n",
    "\n",
    "\n",
    "\n",
    "* **Las matemáticas:**\n",
    "<img src=\"Images/output_g.png\" width = 600 height = 600>\n",
    "\n",
    "### Dropout:\n",
    "* Es una técnica de regularización utilizada en el aprendizaje profundo y las redes neuronales.\n",
    "* La regularización es una técnica utilizada para ayudar a las redes a no sobreajustar nuestros datos.\n",
    "* El sobreajuste se produce cuando nuestra red neuronal funciona bien en nuestros datos de entrenamiento pero muy mal en nuestros datos de prueba. Esto significa que la red no generaliza bien, lo que significa que clasifica nuevas imágenes que no ha visto antes de forma incorrecta / deficiente\n",
    "* Básicamente se desactivan algunas neuronas en una capa para que no aprendan ninguna información durante las actualizaciones (retropropagación) de los pesos de la red. Esto permite que otras neuronas activas aprendan mejor y reduzcan el error.\n",
    "### El código: \n",
    "* Secuencial: aquí Construyo la red neuronal. Creo el modelo como secuencial. Secuencial significa que puede crear un modelo capa por capa. Secuencial significa que hay una sola entrada y una única salida, casi como una tubería.\n",
    "* Capas LSTM: Defino dos capas LSTM con un dropout del 20% después de cada capa.\n",
    "* La primera capa defino return_sequences = true. Hago esto porque he apilado capas LSTM y quiero que la segunda capa LSTM tenga una entrada de secuencia tridimensional.\n",
    "* También defino input_shape que lo he configurado como el x.shape para asegurarme de que tenga la misma forma 3D de los datos.\n",
    "* Capa de salida: Un nodo que retorna un número entre 0 y 1.\n",
    "* Compilación: Compilo el modelo. Utilizo el optimizador Adam, que es un tipo de algoritmo de optimización de descenso de gradiente y defino la función de pérdida como el error cuadrático medio. Utilizo Adam para minimizar la función de coste del error cuadrático medio.\n",
    "* Ajuste del modelo: por último, ajusto el modelo utilizando la retropropagación y nuestro optimizador Adam. Defino 20 épocas y un tamaño de lote de 10. También utilizamos la función de división Keras incorporada para dividir nuestros datos en un 70% de entrenamiento y un 30% de prueba.\n",
    "\n"
   ]
  },
  {
   "cell_type": "code",
   "execution_count": 26,
   "metadata": {},
   "outputs": [
    {
     "data": {
      "image/png": "[encoded data removed]",
      "text/plain": [
       "<Figure size 432x288 with 1 Axes>"
      ]
     },
     "metadata": {
      "needs_background": "light"
     },
     "output_type": "display_data"
    }
   ],
   "source": [
    "# Visualización de los valores de  training & validation loss\n",
    "plt.plot(history.history['loss'])\n",
    "plt.plot(history.history['val_loss'])\n",
    "plt.title('Model loss')\n",
    "plt.ylabel('Loss')\n",
    "plt.xlabel('Epoch')\n",
    "plt.legend(['Train', 'Test'], loc='upper left')\n",
    "plt.show()"
   ]
  },
  {
   "cell_type": "markdown",
   "metadata": {},
   "source": [
    "## Dibujando la loss: \n",
    "* Aquí utilizo el código de [keras api](https://keras.io/visualization/)para trazar la pérdida del modelo. A medida que se alcanza a la vigésima época, la pérdida de la prueba y la pérdida del tren están muy cerca y se minimizan."
   ]
  },
  {
   "cell_type": "code",
   "execution_count": 27,
   "metadata": {},
   "outputs": [],
   "source": [
    "# Obtengo los precios de cierre para 2020 para hacer la predicción\n",
    "test_data = test_df['Adj Close'].values\n",
    "test_data = test_data.reshape(-1,1)\n",
    "test_data = scaler.transform(test_data)\n",
    "\n",
    "# Creo lso datos de test del modelo:\n",
    "time_steps = 36\n",
    "X_test, y_test = crear_LSTM_dataset(test_data, time_steps)\n",
    "\n",
    "# Almaceno los valores originales\n",
    "y_test = y_test.reshape(-1,1)\n",
    "org_y = scaler.inverse_transform(y_test)\n",
    "\n",
    "# Los redimensiono [samples, time steps, features]\n",
    "X_test = np.reshape(X_test, (X_test.shape[0], 36, 1))\n",
    "\n",
    "# Realizo la predicción de los precios con el modelo\n",
    "predicted_y = model.predict(X_test)\n",
    "predicted_y = scaler.inverse_transform(predicted_y)"
   ]
  },
  {
   "cell_type": "code",
   "execution_count": 28,
   "metadata": {},
   "outputs": [
    {
     "data": {
      "text/plain": [
       "array([[16179.66015625],\n",
       "       [16198.41015625],\n",
       "       [16272.65039062],\n",
       "       ...,\n",
       "       [27005.83984375],\n",
       "       [26652.33007812],\n",
       "       [26469.890625  ]])"
      ]
     },
     "execution_count": 28,
     "metadata": {},
     "output_type": "execute_result"
    }
   ],
   "source": [
    "org_y"
   ]
  },
  {
   "cell_type": "code",
   "execution_count": 29,
   "metadata": {},
   "outputs": [
    {
     "data": {
      "image/png": "[encoded data removed]",
      "text/plain": [
       "<Figure size 432x288 with 1 Axes>"
      ]
     },
     "metadata": {
      "needs_background": "light"
     },
     "output_type": "display_data"
    }
   ],
   "source": [
    "plt.plot(org_y, color = 'red', label = 'Real DOWJONES Stock Price')\n",
    "plt.plot(predicted_y, color = 'blue', label = 'Predicted DOWJONES Stock Price')\n",
    "plt.title('DOWJONES Stock Price Prediction')\n",
    "plt.xlabel('Time')\n",
    "plt.ylabel('DOWJONES Stock Price')\n",
    "plt.legend()\n",
    "plt.show()"
   ]
  },
  {
   "cell_type": "markdown",
   "metadata": {},
   "source": [
    "## Realizando la predicción: \n",
    "* Aquí tenemos nuestra red neuronal para hacer predicciones sobre los datos de stock de del índice Dow Jones no vistos por la red en el año 2020.\n",
    "* Primero obtengo los datos de precios de cierre de acciones de 2020 del dataframe de prueba y los transformo en valores entre 0 y 1.\n",
    "* Utilizo mi función crear_LSTM_dataset nuevamente para convertir los datos de test en lotes de 36 precios de acciones. \n",
    "* Almaceno los valores y originales en una variable org_y. \n",
    "* Por último, La red realiza las predicciones de precios.\n",
    "* Como puede observarse en el gráfico de predicción anterior, el modelo funcionó bastante bien y siguió el comportamiento durante todo el año de datos no vistos.\n",
    "\n"
   ]
  },
  {
   "cell_type": "markdown",
   "metadata": {},
   "source": [
    "## Conclusion:\n",
    "* LSTMs are very fascinating and so many useful applications. They allow for accurate predictions on long series of sequential data. I hope you enjoyed this article and I hope you learned something. If you have any questions, concerns, or constructive criticism please reach out to me on [linkedin](https://www.linkedin.com/in/drew-scatterday-415146147/) and check out the code for this project on [github](https://github.com/DrewScatterday). "
   ]
  },
  {
   "cell_type": "markdown",
   "metadata": {},
   "source": [
    "## Resources: \n",
    "- https://pythonprogramming.net/getting-stock-prices-python-programming-for-finance/\n",
    "- https://towardsdatascience.com/in-12-minutes-stocks-analysis-with-pandas-and-scikit-learn-a8d8a7b50ee7\n",
    "- https://www.youtube.com/watch?v=4R2CDbw4g88\n",
    "- https://medium.com/coinmonks/support-vector-regression-or-svr-8eb3acf6d0ff\n",
    "- http://www.saedsayad.com/support_vector_machine_reg.htm?source=post_page-----8eb3acf6d0ff----------------------\n",
    "- https://medium.com/machine-learning-101/chapter-2-svm-support-vector-machine-theory-f0812effc72\n",
    "- https://www.youtube.com/watch?v=SSu00IRRraY\n",
    "- http://benalexkeen.com/feature-scaling-with-scikit-learn/\n",
    "- https://colah.github.io/posts/2015-08-Understanding-LSTMs/\n",
    "- https://www.youtube.com/watch?v=8HyCNIVRbSU\n",
    "- https://towardsdatascience.com/playing-with-time-series-data-in-python-959e2485bff8\n",
    "- https://github.com/krishnaik06/Stock-Price-Prediction-using-Keras-and-Recurrent-Neural-Networ/blob/master/rnn.py"
   ]
  }
 ],
 "metadata": {
  "kernelspec": {
   "display_name": "Python 3",
   "language": "python",
   "name": "python3"
  },
  "language_info": {
   "codemirror_mode": {
    "name": "ipython",
    "version": 3
   },
   "file_extension": ".py",
   "mimetype": "text/x-python",
   "name": "python",
   "nbconvert_exporter": "python",
   "pygments_lexer": "ipython3",
   "version": "3.7.6"
  }
 },
 "nbformat": 4,
 "nbformat_minor": 2
}
