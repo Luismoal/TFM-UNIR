{
 "cells": [
  {
   "cell_type": "markdown",
   "metadata": {},
   "source": [
    "# Modelo predictivo LSTM del indice Dow Jones\n",
    "El Dow Jones Industrial Average (DJIA) es un índice que rastrea 30 grandes empresas públicas que cotizan en la Bolsa de Nueva York (NYSE) y el NASDAQ. La parte \"industrial\" del nombre es en gran parte histórica, ya que la mayoría de los 30 componentes modernos tienen poco o nada que ver con la industria pesada tradicional. Utiliza el índice de precio ponderado, lo que significa que las acciones con un precio de acción más alto tienen un mayor peso en el índice que las acciones con un precio de acción bajo.\n",
    "\n",
    "En este notebook experimentaré con la red LSTM y los datos históricos desde el año 2014, e investigaré , con qué precisión es posible predecir el precio de cierre futuro. Para no complicar mucho la tarea ya que nos es el fin principal del proyecto TFM, no realizaré mucha ingeniería de características aquí, sino que relizará un pronóstico del índice de precios de cierre basado en apertura histórica, cierre, alto, bajo y volumen y algunos otros indicadores."
   ]
  },
  {
   "cell_type": "code",
   "execution_count": 1,
   "metadata": {},
   "outputs": [
    {
     "name": "stderr",
     "output_type": "stream",
     "text": [
      "Using TensorFlow backend.\n",
      "C:\\ProgramData\\Anaconda3\\lib\\site-packages\\pandas_datareader\\compat\\__init__.py:7: FutureWarning: pandas.util.testing is deprecated. Use the functions in the public API at pandas.testing instead.\n",
      "  from pandas.util.testing import assert_frame_equal\n"
     ]
    }
   ],
   "source": [
    "import keras\n",
    "from keras.layers import Dropout\n",
    "import pandas as pd\n",
    "from keras.layers import Dense\n",
    "from keras.layers import LSTM\n",
    "import pandas_datareader.data as web\n",
    "import numpy as np\n",
    "import datetime\n",
    "from matplotlib import style\n",
    "\n",
    "# ignore warnings \n",
    "import warnings\n",
    "warnings.filterwarnings('ignore')"
   ]
  },
  {
   "cell_type": "markdown",
   "metadata": {},
   "source": [
    "## Imports:\n",
    "A continuación importo las siguintes librerías: \n",
    "* Keras para crear la red neuronal\n",
    "* pandas y pandas_data reader para obtener y analizar el stock\n",
    "* datetime para fijar las fechas de stock para el análisis de datos\n",
    "* numpy para redimensionar los datos a alimentar en la red neuronal\n",
    "* matplotlib para trazar y visualizar los datos"
   ]
  },
  {
   "cell_type": "code",
   "execution_count": 2,
   "metadata": {},
   "outputs": [],
   "source": [
    "# Obtengo los datos de stock a través del API de yahoo:\n",
    "style.use('ggplot')\n",
    "\n",
    "# Extraigo los datos desde el  2014 al 2019 para entrenar el modelo\n",
    "inicio = datetime.datetime(2014,12,31)\n",
    "fin = datetime.datetime(2019,12,31)\n",
    "train_df = web.DataReader(\"^DJI\", 'yahoo', inicio, fin) \n",
    "\n",
    "# Extraigo los datos del 2020 para testear el modelo \n",
    "start = datetime.datetime(2020,1,1)\n",
    "end = datetime.datetime(2020,7,24)\n",
    "#fin = datetime.date.today()\n",
    "test_df = web.DataReader(\"^DJI\", 'yahoo', start, end) "
   ]
  },
  {
   "cell_type": "code",
   "execution_count": 3,
   "metadata": {},
   "outputs": [],
   "source": [
    "test_df.to_csv('datosTESTDOWJONES.csv',encoding='utf-8')"
   ]
  },
  {
   "cell_type": "code",
   "execution_count": 4,
   "metadata": {},
   "outputs": [
    {
     "data": {
      "text/html": [
       "<div>\n",
       "<style scoped>\n",
       "    .dataframe tbody tr th:only-of-type {\n",
       "        vertical-align: middle;\n",
       "    }\n",
       "\n",
       "    .dataframe tbody tr th {\n",
       "        vertical-align: top;\n",
       "    }\n",
       "\n",
       "    .dataframe thead th {\n",
       "        text-align: right;\n",
       "    }\n",
       "</style>\n",
       "<table border=\"1\" class=\"dataframe\">\n",
       "  <thead>\n",
       "    <tr style=\"text-align: right;\">\n",
       "      <th></th>\n",
       "      <th>High</th>\n",
       "      <th>Low</th>\n",
       "      <th>Open</th>\n",
       "      <th>Close</th>\n",
       "      <th>Volume</th>\n",
       "      <th>Adj Close</th>\n",
       "    </tr>\n",
       "    <tr>\n",
       "      <th>Date</th>\n",
       "      <th></th>\n",
       "      <th></th>\n",
       "      <th></th>\n",
       "      <th></th>\n",
       "      <th></th>\n",
       "      <th></th>\n",
       "    </tr>\n",
       "  </thead>\n",
       "  <tbody>\n",
       "    <tr>\n",
       "      <th>2014-12-31</th>\n",
       "      <td>18043.220703</td>\n",
       "      <td>17820.880859</td>\n",
       "      <td>17987.660156</td>\n",
       "      <td>17823.070312</td>\n",
       "      <td>82840000</td>\n",
       "      <td>17823.070312</td>\n",
       "    </tr>\n",
       "    <tr>\n",
       "      <th>2015-01-02</th>\n",
       "      <td>17951.779297</td>\n",
       "      <td>17731.300781</td>\n",
       "      <td>17823.070312</td>\n",
       "      <td>17832.990234</td>\n",
       "      <td>76270000</td>\n",
       "      <td>17832.990234</td>\n",
       "    </tr>\n",
       "    <tr>\n",
       "      <th>2015-01-05</th>\n",
       "      <td>17821.300781</td>\n",
       "      <td>17475.929688</td>\n",
       "      <td>17821.300781</td>\n",
       "      <td>17501.650391</td>\n",
       "      <td>116160000</td>\n",
       "      <td>17501.650391</td>\n",
       "    </tr>\n",
       "    <tr>\n",
       "      <th>2015-01-06</th>\n",
       "      <td>17581.050781</td>\n",
       "      <td>17262.369141</td>\n",
       "      <td>17504.179688</td>\n",
       "      <td>17371.640625</td>\n",
       "      <td>101870000</td>\n",
       "      <td>17371.640625</td>\n",
       "    </tr>\n",
       "    <tr>\n",
       "      <th>2015-01-07</th>\n",
       "      <td>17597.080078</td>\n",
       "      <td>17374.779297</td>\n",
       "      <td>17374.779297</td>\n",
       "      <td>17584.519531</td>\n",
       "      <td>91030000</td>\n",
       "      <td>17584.519531</td>\n",
       "    </tr>\n",
       "    <tr>\n",
       "      <th>...</th>\n",
       "      <td>...</td>\n",
       "      <td>...</td>\n",
       "      <td>...</td>\n",
       "      <td>...</td>\n",
       "      <td>...</td>\n",
       "      <td>...</td>\n",
       "    </tr>\n",
       "    <tr>\n",
       "      <th>2019-12-24</th>\n",
       "      <td>28576.800781</td>\n",
       "      <td>28503.210938</td>\n",
       "      <td>28572.570312</td>\n",
       "      <td>28515.449219</td>\n",
       "      <td>86150000</td>\n",
       "      <td>28515.449219</td>\n",
       "    </tr>\n",
       "    <tr>\n",
       "      <th>2019-12-26</th>\n",
       "      <td>28624.099609</td>\n",
       "      <td>28535.150391</td>\n",
       "      <td>28539.460938</td>\n",
       "      <td>28621.390625</td>\n",
       "      <td>155970000</td>\n",
       "      <td>28621.390625</td>\n",
       "    </tr>\n",
       "    <tr>\n",
       "      <th>2019-12-27</th>\n",
       "      <td>28701.660156</td>\n",
       "      <td>28608.980469</td>\n",
       "      <td>28675.339844</td>\n",
       "      <td>28645.259766</td>\n",
       "      <td>182280000</td>\n",
       "      <td>28645.259766</td>\n",
       "    </tr>\n",
       "    <tr>\n",
       "      <th>2019-12-30</th>\n",
       "      <td>28664.689453</td>\n",
       "      <td>28428.980469</td>\n",
       "      <td>28654.759766</td>\n",
       "      <td>28462.140625</td>\n",
       "      <td>181600000</td>\n",
       "      <td>28462.140625</td>\n",
       "    </tr>\n",
       "    <tr>\n",
       "      <th>2019-12-31</th>\n",
       "      <td>28547.349609</td>\n",
       "      <td>28376.490234</td>\n",
       "      <td>28414.640625</td>\n",
       "      <td>28538.439453</td>\n",
       "      <td>193340000</td>\n",
       "      <td>28538.439453</td>\n",
       "    </tr>\n",
       "  </tbody>\n",
       "</table>\n",
       "<p>1259 rows × 6 columns</p>\n",
       "</div>"
      ],
      "text/plain": [
       "                    High           Low          Open         Close     Volume  \\\n",
       "Date                                                                            \n",
       "2014-12-31  18043.220703  17820.880859  17987.660156  17823.070312   82840000   \n",
       "2015-01-02  17951.779297  17731.300781  17823.070312  17832.990234   76270000   \n",
       "2015-01-05  17821.300781  17475.929688  17821.300781  17501.650391  116160000   \n",
       "2015-01-06  17581.050781  17262.369141  17504.179688  17371.640625  101870000   \n",
       "2015-01-07  17597.080078  17374.779297  17374.779297  17584.519531   91030000   \n",
       "...                  ...           ...           ...           ...        ...   \n",
       "2019-12-24  28576.800781  28503.210938  28572.570312  28515.449219   86150000   \n",
       "2019-12-26  28624.099609  28535.150391  28539.460938  28621.390625  155970000   \n",
       "2019-12-27  28701.660156  28608.980469  28675.339844  28645.259766  182280000   \n",
       "2019-12-30  28664.689453  28428.980469  28654.759766  28462.140625  181600000   \n",
       "2019-12-31  28547.349609  28376.490234  28414.640625  28538.439453  193340000   \n",
       "\n",
       "               Adj Close  \n",
       "Date                      \n",
       "2014-12-31  17823.070312  \n",
       "2015-01-02  17832.990234  \n",
       "2015-01-05  17501.650391  \n",
       "2015-01-06  17371.640625  \n",
       "2015-01-07  17584.519531  \n",
       "...                  ...  \n",
       "2019-12-24  28515.449219  \n",
       "2019-12-26  28621.390625  \n",
       "2019-12-27  28645.259766  \n",
       "2019-12-30  28462.140625  \n",
       "2019-12-31  28538.439453  \n",
       "\n",
       "[1259 rows x 6 columns]"
      ]
     },
     "execution_count": 4,
     "metadata": {},
     "output_type": "execute_result"
    }
   ],
   "source": [
    "train_df"
   ]
  },
  {
   "cell_type": "code",
   "execution_count": 5,
   "metadata": {},
   "outputs": [
    {
     "data": {
      "text/html": [
       "<div>\n",
       "<style scoped>\n",
       "    .dataframe tbody tr th:only-of-type {\n",
       "        vertical-align: middle;\n",
       "    }\n",
       "\n",
       "    .dataframe tbody tr th {\n",
       "        vertical-align: top;\n",
       "    }\n",
       "\n",
       "    .dataframe thead th {\n",
       "        text-align: right;\n",
       "    }\n",
       "</style>\n",
       "<table border=\"1\" class=\"dataframe\">\n",
       "  <thead>\n",
       "    <tr style=\"text-align: right;\">\n",
       "      <th></th>\n",
       "      <th>High</th>\n",
       "      <th>Low</th>\n",
       "      <th>Open</th>\n",
       "      <th>Close</th>\n",
       "      <th>Volume</th>\n",
       "      <th>Adj Close</th>\n",
       "    </tr>\n",
       "    <tr>\n",
       "      <th>Date</th>\n",
       "      <th></th>\n",
       "      <th></th>\n",
       "      <th></th>\n",
       "      <th></th>\n",
       "      <th></th>\n",
       "      <th></th>\n",
       "    </tr>\n",
       "  </thead>\n",
       "  <tbody>\n",
       "    <tr>\n",
       "      <th>2020-01-02</th>\n",
       "      <td>28872.800781</td>\n",
       "      <td>28627.769531</td>\n",
       "      <td>28638.970703</td>\n",
       "      <td>28868.800781</td>\n",
       "      <td>251820000</td>\n",
       "      <td>28868.800781</td>\n",
       "    </tr>\n",
       "    <tr>\n",
       "      <th>2020-01-03</th>\n",
       "      <td>28716.310547</td>\n",
       "      <td>28500.359375</td>\n",
       "      <td>28553.330078</td>\n",
       "      <td>28634.880859</td>\n",
       "      <td>239590000</td>\n",
       "      <td>28634.880859</td>\n",
       "    </tr>\n",
       "    <tr>\n",
       "      <th>2020-01-06</th>\n",
       "      <td>28708.019531</td>\n",
       "      <td>28418.630859</td>\n",
       "      <td>28465.500000</td>\n",
       "      <td>28703.380859</td>\n",
       "      <td>252760000</td>\n",
       "      <td>28703.380859</td>\n",
       "    </tr>\n",
       "    <tr>\n",
       "      <th>2020-01-07</th>\n",
       "      <td>28685.500000</td>\n",
       "      <td>28565.279297</td>\n",
       "      <td>28639.179688</td>\n",
       "      <td>28583.679688</td>\n",
       "      <td>258900000</td>\n",
       "      <td>28583.679688</td>\n",
       "    </tr>\n",
       "    <tr>\n",
       "      <th>2020-01-08</th>\n",
       "      <td>28866.179688</td>\n",
       "      <td>28522.509766</td>\n",
       "      <td>28556.140625</td>\n",
       "      <td>28745.089844</td>\n",
       "      <td>291750000</td>\n",
       "      <td>28745.089844</td>\n",
       "    </tr>\n",
       "    <tr>\n",
       "      <th>...</th>\n",
       "      <td>...</td>\n",
       "      <td>...</td>\n",
       "      <td>...</td>\n",
       "      <td>...</td>\n",
       "      <td>...</td>\n",
       "      <td>...</td>\n",
       "    </tr>\n",
       "    <tr>\n",
       "      <th>2020-07-20</th>\n",
       "      <td>26765.019531</td>\n",
       "      <td>26504.199219</td>\n",
       "      <td>26660.289062</td>\n",
       "      <td>26680.869141</td>\n",
       "      <td>309390000</td>\n",
       "      <td>26680.869141</td>\n",
       "    </tr>\n",
       "    <tr>\n",
       "      <th>2020-07-21</th>\n",
       "      <td>27025.380859</td>\n",
       "      <td>26766.220703</td>\n",
       "      <td>26833.140625</td>\n",
       "      <td>26840.400391</td>\n",
       "      <td>364930000</td>\n",
       "      <td>26840.400391</td>\n",
       "    </tr>\n",
       "    <tr>\n",
       "      <th>2020-07-22</th>\n",
       "      <td>27035.240234</td>\n",
       "      <td>26794.189453</td>\n",
       "      <td>26824.560547</td>\n",
       "      <td>27005.839844</td>\n",
       "      <td>404340000</td>\n",
       "      <td>27005.839844</td>\n",
       "    </tr>\n",
       "    <tr>\n",
       "      <th>2020-07-23</th>\n",
       "      <td>26973.849609</td>\n",
       "      <td>26560.039062</td>\n",
       "      <td>26955.970703</td>\n",
       "      <td>26652.330078</td>\n",
       "      <td>419800000</td>\n",
       "      <td>26652.330078</td>\n",
       "    </tr>\n",
       "    <tr>\n",
       "      <th>2020-07-24</th>\n",
       "      <td>26625.699219</td>\n",
       "      <td>26402.859375</td>\n",
       "      <td>26533.410156</td>\n",
       "      <td>26469.890625</td>\n",
       "      <td>494170000</td>\n",
       "      <td>26469.890625</td>\n",
       "    </tr>\n",
       "  </tbody>\n",
       "</table>\n",
       "<p>142 rows × 6 columns</p>\n",
       "</div>"
      ],
      "text/plain": [
       "                    High           Low          Open         Close     Volume  \\\n",
       "Date                                                                            \n",
       "2020-01-02  28872.800781  28627.769531  28638.970703  28868.800781  251820000   \n",
       "2020-01-03  28716.310547  28500.359375  28553.330078  28634.880859  239590000   \n",
       "2020-01-06  28708.019531  28418.630859  28465.500000  28703.380859  252760000   \n",
       "2020-01-07  28685.500000  28565.279297  28639.179688  28583.679688  258900000   \n",
       "2020-01-08  28866.179688  28522.509766  28556.140625  28745.089844  291750000   \n",
       "...                  ...           ...           ...           ...        ...   \n",
       "2020-07-20  26765.019531  26504.199219  26660.289062  26680.869141  309390000   \n",
       "2020-07-21  27025.380859  26766.220703  26833.140625  26840.400391  364930000   \n",
       "2020-07-22  27035.240234  26794.189453  26824.560547  27005.839844  404340000   \n",
       "2020-07-23  26973.849609  26560.039062  26955.970703  26652.330078  419800000   \n",
       "2020-07-24  26625.699219  26402.859375  26533.410156  26469.890625  494170000   \n",
       "\n",
       "               Adj Close  \n",
       "Date                      \n",
       "2020-01-02  28868.800781  \n",
       "2020-01-03  28634.880859  \n",
       "2020-01-06  28703.380859  \n",
       "2020-01-07  28583.679688  \n",
       "2020-01-08  28745.089844  \n",
       "...                  ...  \n",
       "2020-07-20  26680.869141  \n",
       "2020-07-21  26840.400391  \n",
       "2020-07-22  27005.839844  \n",
       "2020-07-23  26652.330078  \n",
       "2020-07-24  26469.890625  \n",
       "\n",
       "[142 rows x 6 columns]"
      ]
     },
     "execution_count": 5,
     "metadata": {},
     "output_type": "execute_result"
    }
   ],
   "source": [
    "test_df"
   ]
  },
  {
   "cell_type": "code",
   "execution_count": 6,
   "metadata": {},
   "outputs": [
    {
     "data": {
      "image/png": "[encoded data removed]",
      "text/plain": [
       "<Figure size 432x288 with 1 Axes>"
      ]
     },
     "metadata": {
      "needs_background": "light"
     },
     "output_type": "display_data"
    }
   ],
   "source": [
    "import matplotlib.pyplot as plt\n",
    "train_df['High'].plot(legend=True)\n",
    "test_df['High'].plot(legend=True)\n",
    "\n",
    "\n",
    "plt.legend(['Entrenamiento (2014-2019)', 'Validación (2020)'])\n",
    "plt.show()"
   ]
  },
  {
   "cell_type": "markdown",
   "metadata": {},
   "source": [
    "## Obteniendo los datos de las acciones: \n",
    "* Este código cambia nuestro estilo de trazado a ggplot.   En el siguiente link existe más información sobre ggplot [aqui](https://matplotlib.org/3.1.1/gallery/style_sheets/ggplot.html). \n",
    "* Utilizo pandas_datareader como \"web\" para obtener los datos de los precios de las acciones utilizando la función DataReader que obtiene los datos financieros y los almacena en un dataframe.\n",
    "* Obtengo los datos del índice DowJones desde el 2014 hasta el 2019 para el entrenamiento del modelo.\n",
    "* Obtengo los datos del índice DowJones desde el año 2020 hasta la actualidad para testearlo.\n",
    "* \"^DJI\" es el símbolo de cotización de las acciones para el índice Dow Jones y especifico 'yahoo' para obtener los datos utilizando la API de finanzas de Yahoo."
   ]
  },
  {
   "cell_type": "code",
   "execution_count": 7,
   "metadata": {},
   "outputs": [
    {
     "data": {
      "text/html": [
       "<div>\n",
       "<style scoped>\n",
       "    .dataframe tbody tr th:only-of-type {\n",
       "        vertical-align: middle;\n",
       "    }\n",
       "\n",
       "    .dataframe tbody tr th {\n",
       "        vertical-align: top;\n",
       "    }\n",
       "\n",
       "    .dataframe thead th {\n",
       "        text-align: right;\n",
       "    }\n",
       "</style>\n",
       "<table border=\"1\" class=\"dataframe\">\n",
       "  <thead>\n",
       "    <tr style=\"text-align: right;\">\n",
       "      <th></th>\n",
       "      <th>High</th>\n",
       "      <th>Low</th>\n",
       "      <th>Open</th>\n",
       "      <th>Close</th>\n",
       "      <th>Volume</th>\n",
       "      <th>Adj Close</th>\n",
       "    </tr>\n",
       "    <tr>\n",
       "      <th>Date</th>\n",
       "      <th></th>\n",
       "      <th></th>\n",
       "      <th></th>\n",
       "      <th></th>\n",
       "      <th></th>\n",
       "      <th></th>\n",
       "    </tr>\n",
       "  </thead>\n",
       "  <tbody>\n",
       "    <tr>\n",
       "      <th>2019-12-24</th>\n",
       "      <td>28576.800781</td>\n",
       "      <td>28503.210938</td>\n",
       "      <td>28572.570312</td>\n",
       "      <td>28515.449219</td>\n",
       "      <td>86150000</td>\n",
       "      <td>28515.449219</td>\n",
       "    </tr>\n",
       "    <tr>\n",
       "      <th>2019-12-26</th>\n",
       "      <td>28624.099609</td>\n",
       "      <td>28535.150391</td>\n",
       "      <td>28539.460938</td>\n",
       "      <td>28621.390625</td>\n",
       "      <td>155970000</td>\n",
       "      <td>28621.390625</td>\n",
       "    </tr>\n",
       "    <tr>\n",
       "      <th>2019-12-27</th>\n",
       "      <td>28701.660156</td>\n",
       "      <td>28608.980469</td>\n",
       "      <td>28675.339844</td>\n",
       "      <td>28645.259766</td>\n",
       "      <td>182280000</td>\n",
       "      <td>28645.259766</td>\n",
       "    </tr>\n",
       "    <tr>\n",
       "      <th>2019-12-30</th>\n",
       "      <td>28664.689453</td>\n",
       "      <td>28428.980469</td>\n",
       "      <td>28654.759766</td>\n",
       "      <td>28462.140625</td>\n",
       "      <td>181600000</td>\n",
       "      <td>28462.140625</td>\n",
       "    </tr>\n",
       "    <tr>\n",
       "      <th>2019-12-31</th>\n",
       "      <td>28547.349609</td>\n",
       "      <td>28376.490234</td>\n",
       "      <td>28414.640625</td>\n",
       "      <td>28538.439453</td>\n",
       "      <td>193340000</td>\n",
       "      <td>28538.439453</td>\n",
       "    </tr>\n",
       "  </tbody>\n",
       "</table>\n",
       "</div>"
      ],
      "text/plain": [
       "                    High           Low          Open         Close     Volume  \\\n",
       "Date                                                                            \n",
       "2019-12-24  28576.800781  28503.210938  28572.570312  28515.449219   86150000   \n",
       "2019-12-26  28624.099609  28535.150391  28539.460938  28621.390625  155970000   \n",
       "2019-12-27  28701.660156  28608.980469  28675.339844  28645.259766  182280000   \n",
       "2019-12-30  28664.689453  28428.980469  28654.759766  28462.140625  181600000   \n",
       "2019-12-31  28547.349609  28376.490234  28414.640625  28538.439453  193340000   \n",
       "\n",
       "               Adj Close  \n",
       "Date                      \n",
       "2019-12-24  28515.449219  \n",
       "2019-12-26  28621.390625  \n",
       "2019-12-27  28645.259766  \n",
       "2019-12-30  28462.140625  \n",
       "2019-12-31  28538.439453  "
      ]
     },
     "execution_count": 7,
     "metadata": {},
     "output_type": "execute_result"
    }
   ],
   "source": [
    "# ordeno por fecha\n",
    "train_df = train_df.sort_values('Date')\n",
    "test_df = test_df.sort_values('Date')\n",
    "\n",
    "# corrigo la fecha \n",
    "train_df.reset_index(inplace=True)\n",
    "train_df.set_index(\"Date\", inplace=True)\n",
    "test_df.reset_index(inplace=True)\n",
    "test_df.set_index(\"Date\", inplace=True)\n",
    "\n",
    "train_df.tail()"
   ]
  },
  {
   "cell_type": "markdown",
   "metadata": {},
   "source": [
    "## Nuevas features"
   ]
  },
  {
   "cell_type": "markdown",
   "metadata": {},
   "source": [
    "Nuevas features para entrenar el modelo aplicadas a los datos de train"
   ]
  },
  {
   "cell_type": "code",
   "execution_count": 8,
   "metadata": {},
   "outputs": [
    {
     "data": {
      "text/html": [
       "<div>\n",
       "<style scoped>\n",
       "    .dataframe tbody tr th:only-of-type {\n",
       "        vertical-align: middle;\n",
       "    }\n",
       "\n",
       "    .dataframe tbody tr th {\n",
       "        vertical-align: top;\n",
       "    }\n",
       "\n",
       "    .dataframe thead th {\n",
       "        text-align: right;\n",
       "    }\n",
       "</style>\n",
       "<table border=\"1\" class=\"dataframe\">\n",
       "  <thead>\n",
       "    <tr style=\"text-align: right;\">\n",
       "      <th></th>\n",
       "      <th>High</th>\n",
       "      <th>Low</th>\n",
       "      <th>Open</th>\n",
       "      <th>Volume</th>\n",
       "      <th>Adj Close</th>\n",
       "      <th>h_o</th>\n",
       "      <th>pct_chng</th>\n",
       "    </tr>\n",
       "    <tr>\n",
       "      <th>Date</th>\n",
       "      <th></th>\n",
       "      <th></th>\n",
       "      <th></th>\n",
       "      <th></th>\n",
       "      <th></th>\n",
       "      <th></th>\n",
       "      <th></th>\n",
       "    </tr>\n",
       "  </thead>\n",
       "  <tbody>\n",
       "    <tr>\n",
       "      <th>2019-12-24</th>\n",
       "      <td>28576.800781</td>\n",
       "      <td>28503.210938</td>\n",
       "      <td>28572.570312</td>\n",
       "      <td>86150000</td>\n",
       "      <td>28515.449219</td>\n",
       "      <td>0.002152</td>\n",
       "      <td>-0.001999</td>\n",
       "    </tr>\n",
       "    <tr>\n",
       "      <th>2019-12-26</th>\n",
       "      <td>28624.099609</td>\n",
       "      <td>28535.150391</td>\n",
       "      <td>28539.460938</td>\n",
       "      <td>155970000</td>\n",
       "      <td>28621.390625</td>\n",
       "      <td>0.000095</td>\n",
       "      <td>0.002871</td>\n",
       "    </tr>\n",
       "    <tr>\n",
       "      <th>2019-12-27</th>\n",
       "      <td>28701.660156</td>\n",
       "      <td>28608.980469</td>\n",
       "      <td>28675.339844</td>\n",
       "      <td>182280000</td>\n",
       "      <td>28645.259766</td>\n",
       "      <td>0.001969</td>\n",
       "      <td>-0.001049</td>\n",
       "    </tr>\n",
       "    <tr>\n",
       "      <th>2019-12-30</th>\n",
       "      <td>28664.689453</td>\n",
       "      <td>28428.980469</td>\n",
       "      <td>28654.759766</td>\n",
       "      <td>181600000</td>\n",
       "      <td>28462.140625</td>\n",
       "      <td>0.007116</td>\n",
       "      <td>-0.006722</td>\n",
       "    </tr>\n",
       "    <tr>\n",
       "      <th>2019-12-31</th>\n",
       "      <td>28547.349609</td>\n",
       "      <td>28376.490234</td>\n",
       "      <td>28414.640625</td>\n",
       "      <td>193340000</td>\n",
       "      <td>28538.439453</td>\n",
       "      <td>0.000312</td>\n",
       "      <td>0.004357</td>\n",
       "    </tr>\n",
       "  </tbody>\n",
       "</table>\n",
       "</div>"
      ],
      "text/plain": [
       "                    High           Low          Open     Volume     Adj Close  \\\n",
       "Date                                                                            \n",
       "2019-12-24  28576.800781  28503.210938  28572.570312   86150000  28515.449219   \n",
       "2019-12-26  28624.099609  28535.150391  28539.460938  155970000  28621.390625   \n",
       "2019-12-27  28701.660156  28608.980469  28675.339844  182280000  28645.259766   \n",
       "2019-12-30  28664.689453  28428.980469  28654.759766  181600000  28462.140625   \n",
       "2019-12-31  28547.349609  28376.490234  28414.640625  193340000  28538.439453   \n",
       "\n",
       "                 h_o  pct_chng  \n",
       "Date                            \n",
       "2019-12-24  0.002152 -0.001999  \n",
       "2019-12-26  0.000095  0.002871  \n",
       "2019-12-27  0.001969 -0.001049  \n",
       "2019-12-30  0.007116 -0.006722  \n",
       "2019-12-31  0.000312  0.004357  "
      ]
     },
     "execution_count": 8,
     "metadata": {},
     "output_type": "execute_result"
    }
   ],
   "source": [
    "Aux=train_df.copy()\n",
    "Aux['h_o'] = (Aux['High'] - Aux['Close'])/Aux['Close']  #porcentaje máximo de ganancia en el día respecto al cierre\n",
    "Aux['pct_chng'] = (Aux['Close'] - Aux['Open'])/Aux['Open'] #porcentaje de variación diaria \n",
    "train_df = Aux[['High','Low','Open','Volume','Adj Close','h_o','pct_chng']]\n",
    "#df = A[['Close','pct_chng']]\n",
    "train_df.tail()"
   ]
  },
  {
   "cell_type": "markdown",
   "metadata": {},
   "source": [
    "# 1 Commodity Channel Index (CCI)"
   ]
  },
  {
   "cell_type": "markdown",
   "metadata": {},
   "source": [
    "Índice de canal de productos básicos (CCI)\n",
    "\n",
    "\n",
    "En el siguiente código, se utilizan las funciones Series, rollingmean, rollingstd y join para calcular el índice del canal de productos básicos. La función Serie se usa para formar una serie que es un objeto de matriz unidimensional que contiene una matriz de datos. La función rollingmean toma una serie temporal o un marco de datos junto con el número de períodos y calcula la media. La función rollingstd calcula la desviación estándar en función del precio proporcionado. La función de unión une una serie dada con una serie / marco de datos específico.\n",
    "\n"
   ]
  },
  {
   "cell_type": "code",
   "execution_count": 9,
   "metadata": {},
   "outputs": [
    {
     "data": {
      "text/plain": [
       "[None,\n",
       " None,\n",
       " None,\n",
       " None,\n",
       " None,\n",
       " None,\n",
       " None,\n",
       " None,\n",
       " None,\n",
       " None,\n",
       " None,\n",
       " None,\n",
       " None,\n",
       " None]"
      ]
     },
     "execution_count": 9,
     "metadata": {},
     "output_type": "execute_result"
    },
    {
     "data": {
      "image/png": "[encoded data removed]",
      "text/plain": [
       "<Figure size 504x360 with 2 Axes>"
      ]
     },
     "metadata": {
      "needs_background": "light"
     },
     "output_type": "display_data"
    }
   ],
   "source": [
    "# Cargo los paquetes y módulos necesarios\n",
    "from pandas_datareader import data as pdr\n",
    "import matplotlib.pyplot as plt\n",
    "import yfinance\n",
    "import pandas as pd\n",
    "\n",
    "# Commodity Channel Index \n",
    "def CCI(data, ndays): \n",
    "    TP = (data['High'] + data['Low'] + data['Adj Close']) / 3 \n",
    "    CCI = pd.Series((TP - TP.rolling(ndays).mean()) / (0.015 * TP.rolling(ndays).std()),\n",
    "                    name = 'CCI') \n",
    "    data = data.join(CCI) \n",
    "    return data\n",
    "\n",
    "\n",
    "\n",
    "# Calculo el Commodity Channel Index(CCI) para DJ basándome en la Moving average de 3 días\n",
    "n = 3\n",
    "DJ_CCI = CCI(train_df, n)\n",
    "CCIAux = DJ_CCI['CCI']\n",
    "train_df['CCI']=DJ_CCI['CCI']\n",
    "\n",
    "# Plotting the Price Series chart and the Commodity Channel index below\n",
    "fig = plt.figure(figsize=(7,5))\n",
    "ax = fig.add_subplot(2, 1, 1)\n",
    "ax.set_xticklabels([])\n",
    "plt.plot(train_df['Adj Close'],lw=1)\n",
    "plt.title('DJ Price Chart')\n",
    "plt.ylabel('Close Price')\n",
    "plt.grid(True)\n",
    "bx = fig.add_subplot(2, 1, 2)\n",
    "plt.plot(CCIAux,'k',lw=0.75,linestyle='-',label='CCI')\n",
    "plt.legend(loc=2,prop={'size':9.5})\n",
    "plt.ylabel('CCI values')\n",
    "plt.grid(True)\n",
    "plt.setp(plt.gca().get_xticklabels(), rotation=30)"
   ]
  },
  {
   "cell_type": "markdown",
   "metadata": {},
   "source": [
    "# 2 Ease of Movement (EVM)"
   ]
  },
  {
   "cell_type": "markdown",
   "metadata": {},
   "source": [
    "EVM indica la facilidad con la que los precios suben o bajan teniendo en cuenta el volumen de la seguridad. \n",
    "En el siguiente código, Utilizo las funciones Series, rollingmean, shift y join para calcular el indicador de Facilidad de movimiento (EMV). La función Serie se usa para formar una serie que es un objeto de matriz unidimensional que contiene una matriz de datos. La función rollingmean toma una serie temporal o un marco de datos junto con el número de períodos y calcula la media. La función de desplazamiento se utiliza para obtener el precio máximo y mínimo del día anterior. La función de unión une una serie dada con una serie / marco de datos específico.\n",
    "\n"
   ]
  },
  {
   "cell_type": "code",
   "execution_count": 10,
   "metadata": {},
   "outputs": [
    {
     "data": {
      "text/plain": [
       "[None,\n",
       " None,\n",
       " None,\n",
       " None,\n",
       " None,\n",
       " None,\n",
       " None,\n",
       " None,\n",
       " None,\n",
       " None,\n",
       " None,\n",
       " None,\n",
       " None,\n",
       " None]"
      ]
     },
     "execution_count": 10,
     "metadata": {},
     "output_type": "execute_result"
    },
    {
     "data": {
      "image/png": "[encoded data removed]",
      "text/plain": [
       "<Figure size 504x360 with 2 Axes>"
      ]
     },
     "metadata": {
      "needs_background": "light"
     },
     "output_type": "display_data"
    }
   ],
   "source": [
    "# Ease Of Movement (EVM) Code\n",
    "\n",
    "\n",
    " \n",
    "# Ease of Movement \n",
    "def EVM(data, ndays): \n",
    " dm = ((data['High'] + data['Low'])/2) - ((data['High'].shift(1) + data['Low'].shift(1))/2)\n",
    " br = (data['Volume'] / 100000000) / ((data['High'] - data['Low']))\n",
    " EVM = dm / br \n",
    " EVM_MA = pd.Series(EVM.rolling(ndays).mean(), name = 'EVM') \n",
    " data = data.join(EVM_MA) \n",
    " return data \n",
    " \n",
    "\n",
    "# Calculo Ease of Movement for DJ en 3 días\n",
    "n = 3\n",
    "DJ_EVM = EVM(train_df, n)\n",
    "EVMAux = DJ_EVM['EVM']\n",
    "train_df['EVM']=DJ_EVM['EVM']\n",
    "\n",
    "\n",
    "# Plotting the Price Series chart and the Ease Of Movement below\n",
    "fig = plt.figure(figsize=(7,5))\n",
    "ax = fig.add_subplot(2, 1, 1)\n",
    "ax.set_xticklabels([])\n",
    "plt.plot(train_df['Adj Close'],lw=1)\n",
    "plt.title('DJ Price Chart')\n",
    "plt.ylabel('Close Price')\n",
    "plt.grid(True)\n",
    "bx = fig.add_subplot(2, 1, 2)\n",
    "plt.plot(EVMAux,'k',lw=0.75,linestyle='-',label='EVM(3)')\n",
    "plt.legend(loc=2,prop={'size':9})\n",
    "plt.ylabel('EVM values')\n",
    "plt.grid(True)\n",
    "plt.setp(plt.gca().get_xticklabels(), rotation=30)"
   ]
  },
  {
   "cell_type": "markdown",
   "metadata": {},
   "source": [
    "# 3 Moving Average (MA)"
   ]
  },
  {
   "cell_type": "markdown",
   "metadata": {},
   "source": [
    "La media móvil es uno de los indicadores técnicos más utilizados. Se usa junto con otros indicadores técnicos o puede formar el bloque de construcción para el cálculo de otros indicadores técnicos.\n",
    "\n",
    "\n",
    "En el siguiente código, utilizo las funciones Serie, media móvil y unión para crear las funciones SMA y EWMA. La función Serie se usa para formar una serie que es un objeto de matriz unidimensional que contiene una matriz de datos. La función rolling_mean toma una serie temporal o un marco de datos junto con el número de períodos y calcula la media. La función de unión une una serie dada con una serie / marco de datos específico.\n",
    "\n",
    "\n"
   ]
  },
  {
   "cell_type": "code",
   "execution_count": 11,
   "metadata": {},
   "outputs": [
    {
     "data": {
      "text/plain": [
       "[None,\n",
       " None,\n",
       " None,\n",
       " None,\n",
       " None,\n",
       " None,\n",
       " None,\n",
       " None,\n",
       " None,\n",
       " None,\n",
       " None,\n",
       " None,\n",
       " None,\n",
       " None]"
      ]
     },
     "execution_count": 11,
     "metadata": {},
     "output_type": "execute_result"
    },
    {
     "data": {
      "image/png": "[encoded data removed]",
      "text/plain": [
       "<Figure size 648x360 with 1 Axes>"
      ]
     },
     "metadata": {
      "needs_background": "light"
     },
     "output_type": "display_data"
    }
   ],
   "source": [
    "# Simple Moving Average \n",
    "def SMA(data, ndays): \n",
    " SMA = pd.Series(train_df['Adj Close'].rolling(ndays).mean(), name = 'SMA') \n",
    " data = data.join(SMA) \n",
    " return data\n",
    "\n",
    "# Exponentially-weighted Moving Average \n",
    "def EWMA(data, ndays): \n",
    " EMA = pd.Series(data['Adj Close'].ewm(span = ndays, min_periods = ndays - 1).mean(), \n",
    "                 name = 'EWMA_' + str(ndays)) \n",
    " data = data.join(EMA) \n",
    " return data\n",
    "\n",
    "close = train_df['Adj Close']\n",
    "\n",
    "# calculo 50 días SMA para DJ\n",
    "n = 50\n",
    "SMA_DJ = SMA(train_df,n)\n",
    "SMA_DJ = SMA_DJ.dropna()\n",
    "SMAAux = SMA_DJ['SMA']\n",
    "train_df['SMA']=SMA_DJ['SMA']\n",
    "\n",
    "\n",
    "# calculo 200 días SMA para DJ\n",
    "ew = 200\n",
    "EWMA_DJ = EWMA(train_df,ew)\n",
    "EWMA_DJ = EWMA_DJ.dropna()\n",
    "EWMAAux = EWMA_DJ['EWMA_200']\n",
    "train_df['EWMA']=EWMAAux\n",
    "\n",
    "\n",
    "\n",
    "# Plotting the DowJones Price Series chart and Moving Averages below\n",
    "plt.figure(figsize=(9,5))\n",
    "plt.plot(train_df['Adj Close'],lw=1, label='DJ Prices')\n",
    "plt.plot(SMAAux,'g',lw=1, label='50-day SMA (green)')\n",
    "plt.plot(EWMAAux,'r', lw=1, label='200-day EWMA (red)')\n",
    "plt.legend(loc=2,prop={'size':11})\n",
    "plt.grid(True)\n",
    "plt.setp(plt.gca().get_xticklabels(), rotation=30)"
   ]
  },
  {
   "cell_type": "markdown",
   "metadata": {},
   "source": [
    "# 4 Rate of Change (ROC)"
   ]
  },
  {
   "cell_type": "markdown",
   "metadata": {},
   "source": [
    "La tasa de cambio (ROC) es un indicador técnico que mide el cambio porcentual entre el precio más reciente y el precio \"n\" del día anterior. El indicador fluctúa alrededor de la línea cero.\n",
    "\n",
    "En el siguiente código, utilizamos las funciones Series, diff, shift y join para calcular la Velocidad de cambio (ROC). La función Serie se usa para formar una serie que es un objeto de matriz unidimensional que contiene una matriz de datos. La función diff calcula la diferencia de precios entre el precio del día actual y el precio \"n\" del día anterior. La función de desplazamiento se utiliza para obtener el precio del día \"n\" anterior. La función de unión une una serie dada con una serie / marco de datos específico."
   ]
  },
  {
   "cell_type": "code",
   "execution_count": 12,
   "metadata": {},
   "outputs": [
    {
     "data": {
      "text/plain": [
       "[None,\n",
       " None,\n",
       " None,\n",
       " None,\n",
       " None,\n",
       " None,\n",
       " None,\n",
       " None,\n",
       " None,\n",
       " None,\n",
       " None,\n",
       " None,\n",
       " None,\n",
       " None]"
      ]
     },
     "execution_count": 12,
     "metadata": {},
     "output_type": "execute_result"
    },
    {
     "data": {
      "image/png": "[encoded data removed]",
      "text/plain": [
       "<Figure size 504x360 with 2 Axes>"
      ]
     },
     "metadata": {
      "needs_background": "light"
     },
     "output_type": "display_data"
    }
   ],
   "source": [
    "# Rate of Change (ROC)\n",
    "def ROC(data,n):\n",
    " N = data['Adj Close'].diff(n)\n",
    " D = data['Adj Close'].shift(n)\n",
    " ROC = pd.Series(N/D,name='Rate of Change')\n",
    " data = data.join(ROC)\n",
    " return data \n",
    " \n",
    "\n",
    "\n",
    "# Selecciono un periodo de 3\n",
    "n = 3\n",
    "DJ_ROC = ROC(train_df,n)\n",
    "ROCAux = DJ_ROC['Rate of Change']\n",
    "train_df['ROC']=DJ_ROC['Rate of Change']\n",
    "\n",
    "# Plotting the Price Series chart and the Ease Of Movement below\n",
    "fig = plt.figure(figsize=(7,5))\n",
    "ax = fig.add_subplot(2, 1, 1)\n",
    "ax.set_xticklabels([])\n",
    "plt.plot(train_df['Adj Close'],lw=1)\n",
    "plt.title('DJ Price Chart')\n",
    "plt.ylabel('Close Price')\n",
    "plt.grid(True)\n",
    "bx = fig.add_subplot(2, 1, 2)\n",
    "plt.plot(ROCAux,'k',lw=0.75,linestyle='-',label='ROC')\n",
    "plt.legend(loc=2,prop={'size':9})\n",
    "plt.ylabel('ROC values')\n",
    "plt.grid(True)\n",
    "plt.setp(plt.gca().get_xticklabels(), rotation=30)"
   ]
  },
  {
   "cell_type": "markdown",
   "metadata": {},
   "source": [
    "# 5 Bollinger Bands"
   ]
  },
  {
   "cell_type": "markdown",
   "metadata": {},
   "source": [
    "El concepto de las bandas de Bollinger fue desarrollado por John Bollinger. Estas bandas se componen de una banda superior de Bollinger y una banda inferior de Bollinger y se colocan dos desviaciones estándar por encima y por debajo de un promedio móvil.\n",
    "\n",
    "En el siguiente código, ejecuto la función para crear la función de banda de Bollinger. La media y los métodos de desviación estándar se utilizan para calcular estas métricas respectivas utilizando el precio de cierre. Una vez que hemos calculado la media y la desviación estándar, calculamos la banda superior de Bollinger y la banda inferior de Bollinger. La función de banda de Bollinger se llama en los datos de precios del DJ utilizando la ventana de promedio móvil de 3 días."
   ]
  },
  {
   "cell_type": "code",
   "execution_count": 13,
   "metadata": {},
   "outputs": [
    {
     "data": {
      "text/plain": [
       "<matplotlib.axes._subplots.AxesSubplot at 0x1aa6a0fb1c8>"
      ]
     },
     "execution_count": 13,
     "metadata": {},
     "output_type": "execute_result"
    },
    {
     "data": {
      "image/png": "[encoded data removed]",
      "text/plain": [
       "<Figure size 648x360 with 1 Axes>"
      ]
     },
     "metadata": {
      "needs_background": "light"
     },
     "output_type": "display_data"
    }
   ],
   "source": [
    "# Compute the Bollinger Bands \n",
    "def BBANDS(data, window=n):\n",
    "    MA = data['Adj Close'].rolling(window=n).mean()\n",
    "    SD =data['Adj Close'].rolling(window=n).std()\n",
    "    data['UpperBB'] = MA + (2 * SD) \n",
    "    data['LowerBB'] = MA - (2 * SD)\n",
    "    return data\n",
    " \n",
    "\n",
    "\n",
    "# Calculo Bollinger Bands para DJ utilizando Moving average de 3 días\n",
    "n = 3\n",
    "DJ_BBANDS = BBANDS(train_df, n)\n",
    "train_df['UpperBB']=DJ_BBANDS['UpperBB']\n",
    "train_df['LowerBB']=DJ_BBANDS['LowerBB']\n",
    "\n",
    "\n",
    "# Create the plot\n",
    "pd.concat([DJ_BBANDS['Adj Close'],DJ_BBANDS.UpperBB,DJ_BBANDS.LowerBB],axis=1).plot(figsize=(9,5),grid=True)\n"
   ]
  },
  {
   "cell_type": "markdown",
   "metadata": {},
   "source": [
    "# 6 Force Index"
   ]
  },
  {
   "cell_type": "markdown",
   "metadata": {},
   "source": [
    "El índice de fuerza tiene en cuenta la dirección del precio de las acciones, la extensión del movimiento del precio de las acciones y el volumen. Usando estos tres elementos, forma un oscilador que mide la presión de compra y venta.\n",
    "\n",
    "En el siguiente código, utilizamos las funciones Series, diff y join para calcular el índice de fuerza. La función Serie se usa para formar una serie que es un objeto de matriz unidimensional que contiene una matriz de datos. La función diff calcula la diferencia entre el punto de datos actual y el punto de datos \"n\" con períodos / días de diferencia. La función de unión une una serie dada con una serie / marco de datos específico.\n",
    "\n"
   ]
  },
  {
   "cell_type": "code",
   "execution_count": 14,
   "metadata": {},
   "outputs": [
    {
     "name": "stdout",
     "output_type": "stream",
     "text": [
      "                    High           Low          Open     Volume     Adj Close  \\\n",
      "Date                                                                            \n",
      "2014-12-31  18043.220703  17820.880859  17987.660156   82840000  17823.070312   \n",
      "2015-01-02  17951.779297  17731.300781  17823.070312   76270000  17832.990234   \n",
      "2015-01-05  17821.300781  17475.929688  17821.300781  116160000  17501.650391   \n",
      "2015-01-06  17581.050781  17262.369141  17504.179688  101870000  17371.640625   \n",
      "2015-01-07  17597.080078  17374.779297  17374.779297   91030000  17584.519531   \n",
      "...                  ...           ...           ...        ...           ...   \n",
      "2019-12-24  28576.800781  28503.210938  28572.570312   86150000  28515.449219   \n",
      "2019-12-26  28624.099609  28535.150391  28539.460938  155970000  28621.390625   \n",
      "2019-12-27  28701.660156  28608.980469  28675.339844  182280000  28645.259766   \n",
      "2019-12-30  28664.689453  28428.980469  28654.759766  181600000  28462.140625   \n",
      "2019-12-31  28547.349609  28376.490234  28414.640625  193340000  28538.439453   \n",
      "\n",
      "                 h_o  pct_chng        CCI           EVM           SMA  \\\n",
      "Date                                                                    \n",
      "2014-12-31  0.012352 -0.009150        NaN           NaN           NaN   \n",
      "2015-01-02  0.006661  0.000557        NaN           NaN           NaN   \n",
      "2015-01-05  0.018264 -0.017936 -75.701131           NaN           NaN   \n",
      "2015-01-06  0.012055 -0.007572 -64.276144 -51502.923401           NaN   \n",
      "2015-01-07  0.000714  0.012072   7.486926 -37553.803479           NaN   \n",
      "...              ...       ...        ...           ...           ...   \n",
      "2019-12-24  0.002152 -0.001999  20.520221   1992.778893  27672.241094   \n",
      "2019-12-26  0.000095  0.002871  76.076943    970.374535  27704.172891   \n",
      "2019-12-27  0.001969 -0.001049  66.046735   2117.807425  27737.038477   \n",
      "2019-12-30  0.007116 -0.006722 -69.243026  -2657.586668  27765.763672   \n",
      "2019-12-31  0.000312  0.004357 -49.763571  -5912.127054  27801.128477   \n",
      "\n",
      "                    EWMA       ROC       UpperBB       LowerBB    ForceIndex  \n",
      "Date                                                                          \n",
      "2014-12-31           NaN       NaN           NaN           NaN           NaN  \n",
      "2015-01-02           NaN       NaN           NaN           NaN           NaN  \n",
      "2015-01-05           NaN       NaN  18096.238538  17342.235420           NaN  \n",
      "2015-01-06           NaN -0.025328  18044.527932  17092.992901 -4.598714e+10  \n",
      "2015-01-07           NaN -0.013933  17700.548533  17271.325165 -2.261829e+10  \n",
      "...                  ...       ...           ...           ...           ...  \n",
      "2019-12-24  26742.644691  0.004880  28604.808995  28409.903245  1.193077e+10  \n",
      "2019-12-26  26761.338746  0.005844  28670.511450  28455.067977  2.593793e+10  \n",
      "2019-12-27  26780.084293  0.003283  28732.221711  28455.844695  1.708519e+10  \n",
      "2019-12-30  26796.821230 -0.001869  28775.366523  28377.160821 -9.680841e+09  \n",
      "2019-12-31  26814.150824 -0.002898  28732.578332  28364.648230 -1.603778e+10  \n",
      "\n",
      "[1259 rows x 15 columns]\n"
     ]
    }
   ],
   "source": [
    "# Force Index \n",
    "def ForceIndex(data, ndays): \n",
    "    FI = pd.Series(data['Adj Close'].diff(ndays) * data['Volume'], name = 'ForceIndex') \n",
    "    data = data.join(FI) \n",
    "    return data\n",
    "\n",
    "\n",
    "\n",
    "\n",
    "# Calculo el Force Index para DJ\n",
    "n = 3\n",
    "DJ_ForceIndex = ForceIndex(train_df,n)\n",
    "train_df['ForceIndex']=DJ_ForceIndex['ForceIndex']\n",
    "\n",
    "print(DJ_ForceIndex)"
   ]
  },
  {
   "cell_type": "code",
   "execution_count": 15,
   "metadata": {},
   "outputs": [
    {
     "data": {
      "text/html": [
       "<div>\n",
       "<style scoped>\n",
       "    .dataframe tbody tr th:only-of-type {\n",
       "        vertical-align: middle;\n",
       "    }\n",
       "\n",
       "    .dataframe tbody tr th {\n",
       "        vertical-align: top;\n",
       "    }\n",
       "\n",
       "    .dataframe thead th {\n",
       "        text-align: right;\n",
       "    }\n",
       "</style>\n",
       "<table border=\"1\" class=\"dataframe\">\n",
       "  <thead>\n",
       "    <tr style=\"text-align: right;\">\n",
       "      <th></th>\n",
       "      <th>High</th>\n",
       "      <th>Low</th>\n",
       "      <th>Open</th>\n",
       "      <th>Volume</th>\n",
       "      <th>Adj Close</th>\n",
       "      <th>h_o</th>\n",
       "      <th>pct_chng</th>\n",
       "      <th>CCI</th>\n",
       "      <th>EVM</th>\n",
       "      <th>SMA</th>\n",
       "      <th>EWMA</th>\n",
       "      <th>ROC</th>\n",
       "      <th>UpperBB</th>\n",
       "      <th>LowerBB</th>\n",
       "      <th>ForceIndex</th>\n",
       "    </tr>\n",
       "    <tr>\n",
       "      <th>Date</th>\n",
       "      <th></th>\n",
       "      <th></th>\n",
       "      <th></th>\n",
       "      <th></th>\n",
       "      <th></th>\n",
       "      <th></th>\n",
       "      <th></th>\n",
       "      <th></th>\n",
       "      <th></th>\n",
       "      <th></th>\n",
       "      <th></th>\n",
       "      <th></th>\n",
       "      <th></th>\n",
       "      <th></th>\n",
       "      <th></th>\n",
       "    </tr>\n",
       "  </thead>\n",
       "  <tbody>\n",
       "    <tr>\n",
       "      <th>2014-12-31</th>\n",
       "      <td>18043.220703</td>\n",
       "      <td>17820.880859</td>\n",
       "      <td>17987.660156</td>\n",
       "      <td>82840000</td>\n",
       "      <td>17823.070312</td>\n",
       "      <td>0.012352</td>\n",
       "      <td>-0.009150</td>\n",
       "      <td>NaN</td>\n",
       "      <td>NaN</td>\n",
       "      <td>NaN</td>\n",
       "      <td>NaN</td>\n",
       "      <td>NaN</td>\n",
       "      <td>NaN</td>\n",
       "      <td>NaN</td>\n",
       "      <td>NaN</td>\n",
       "    </tr>\n",
       "    <tr>\n",
       "      <th>2015-01-02</th>\n",
       "      <td>17951.779297</td>\n",
       "      <td>17731.300781</td>\n",
       "      <td>17823.070312</td>\n",
       "      <td>76270000</td>\n",
       "      <td>17832.990234</td>\n",
       "      <td>0.006661</td>\n",
       "      <td>0.000557</td>\n",
       "      <td>NaN</td>\n",
       "      <td>NaN</td>\n",
       "      <td>NaN</td>\n",
       "      <td>NaN</td>\n",
       "      <td>NaN</td>\n",
       "      <td>NaN</td>\n",
       "      <td>NaN</td>\n",
       "      <td>NaN</td>\n",
       "    </tr>\n",
       "    <tr>\n",
       "      <th>2015-01-05</th>\n",
       "      <td>17821.300781</td>\n",
       "      <td>17475.929688</td>\n",
       "      <td>17821.300781</td>\n",
       "      <td>116160000</td>\n",
       "      <td>17501.650391</td>\n",
       "      <td>0.018264</td>\n",
       "      <td>-0.017936</td>\n",
       "      <td>-75.701131</td>\n",
       "      <td>NaN</td>\n",
       "      <td>NaN</td>\n",
       "      <td>NaN</td>\n",
       "      <td>NaN</td>\n",
       "      <td>18096.238538</td>\n",
       "      <td>17342.235420</td>\n",
       "      <td>NaN</td>\n",
       "    </tr>\n",
       "    <tr>\n",
       "      <th>2015-01-06</th>\n",
       "      <td>17581.050781</td>\n",
       "      <td>17262.369141</td>\n",
       "      <td>17504.179688</td>\n",
       "      <td>101870000</td>\n",
       "      <td>17371.640625</td>\n",
       "      <td>0.012055</td>\n",
       "      <td>-0.007572</td>\n",
       "      <td>-64.276144</td>\n",
       "      <td>-51502.923401</td>\n",
       "      <td>NaN</td>\n",
       "      <td>NaN</td>\n",
       "      <td>-0.025328</td>\n",
       "      <td>18044.527932</td>\n",
       "      <td>17092.992901</td>\n",
       "      <td>-4.598714e+10</td>\n",
       "    </tr>\n",
       "    <tr>\n",
       "      <th>2015-01-07</th>\n",
       "      <td>17597.080078</td>\n",
       "      <td>17374.779297</td>\n",
       "      <td>17374.779297</td>\n",
       "      <td>91030000</td>\n",
       "      <td>17584.519531</td>\n",
       "      <td>0.000714</td>\n",
       "      <td>0.012072</td>\n",
       "      <td>7.486926</td>\n",
       "      <td>-37553.803479</td>\n",
       "      <td>NaN</td>\n",
       "      <td>NaN</td>\n",
       "      <td>-0.013933</td>\n",
       "      <td>17700.548533</td>\n",
       "      <td>17271.325165</td>\n",
       "      <td>-2.261829e+10</td>\n",
       "    </tr>\n",
       "    <tr>\n",
       "      <th>...</th>\n",
       "      <td>...</td>\n",
       "      <td>...</td>\n",
       "      <td>...</td>\n",
       "      <td>...</td>\n",
       "      <td>...</td>\n",
       "      <td>...</td>\n",
       "      <td>...</td>\n",
       "      <td>...</td>\n",
       "      <td>...</td>\n",
       "      <td>...</td>\n",
       "      <td>...</td>\n",
       "      <td>...</td>\n",
       "      <td>...</td>\n",
       "      <td>...</td>\n",
       "      <td>...</td>\n",
       "    </tr>\n",
       "    <tr>\n",
       "      <th>2019-12-24</th>\n",
       "      <td>28576.800781</td>\n",
       "      <td>28503.210938</td>\n",
       "      <td>28572.570312</td>\n",
       "      <td>86150000</td>\n",
       "      <td>28515.449219</td>\n",
       "      <td>0.002152</td>\n",
       "      <td>-0.001999</td>\n",
       "      <td>20.520221</td>\n",
       "      <td>1992.778893</td>\n",
       "      <td>27672.241094</td>\n",
       "      <td>26742.644691</td>\n",
       "      <td>0.004880</td>\n",
       "      <td>28604.808995</td>\n",
       "      <td>28409.903245</td>\n",
       "      <td>1.193077e+10</td>\n",
       "    </tr>\n",
       "    <tr>\n",
       "      <th>2019-12-26</th>\n",
       "      <td>28624.099609</td>\n",
       "      <td>28535.150391</td>\n",
       "      <td>28539.460938</td>\n",
       "      <td>155970000</td>\n",
       "      <td>28621.390625</td>\n",
       "      <td>0.000095</td>\n",
       "      <td>0.002871</td>\n",
       "      <td>76.076943</td>\n",
       "      <td>970.374535</td>\n",
       "      <td>27704.172891</td>\n",
       "      <td>26761.338746</td>\n",
       "      <td>0.005844</td>\n",
       "      <td>28670.511450</td>\n",
       "      <td>28455.067977</td>\n",
       "      <td>2.593793e+10</td>\n",
       "    </tr>\n",
       "    <tr>\n",
       "      <th>2019-12-27</th>\n",
       "      <td>28701.660156</td>\n",
       "      <td>28608.980469</td>\n",
       "      <td>28675.339844</td>\n",
       "      <td>182280000</td>\n",
       "      <td>28645.259766</td>\n",
       "      <td>0.001969</td>\n",
       "      <td>-0.001049</td>\n",
       "      <td>66.046735</td>\n",
       "      <td>2117.807425</td>\n",
       "      <td>27737.038477</td>\n",
       "      <td>26780.084293</td>\n",
       "      <td>0.003283</td>\n",
       "      <td>28732.221711</td>\n",
       "      <td>28455.844695</td>\n",
       "      <td>1.708519e+10</td>\n",
       "    </tr>\n",
       "    <tr>\n",
       "      <th>2019-12-30</th>\n",
       "      <td>28664.689453</td>\n",
       "      <td>28428.980469</td>\n",
       "      <td>28654.759766</td>\n",
       "      <td>181600000</td>\n",
       "      <td>28462.140625</td>\n",
       "      <td>0.007116</td>\n",
       "      <td>-0.006722</td>\n",
       "      <td>-69.243026</td>\n",
       "      <td>-2657.586668</td>\n",
       "      <td>27765.763672</td>\n",
       "      <td>26796.821230</td>\n",
       "      <td>-0.001869</td>\n",
       "      <td>28775.366523</td>\n",
       "      <td>28377.160821</td>\n",
       "      <td>-9.680841e+09</td>\n",
       "    </tr>\n",
       "    <tr>\n",
       "      <th>2019-12-31</th>\n",
       "      <td>28547.349609</td>\n",
       "      <td>28376.490234</td>\n",
       "      <td>28414.640625</td>\n",
       "      <td>193340000</td>\n",
       "      <td>28538.439453</td>\n",
       "      <td>0.000312</td>\n",
       "      <td>0.004357</td>\n",
       "      <td>-49.763571</td>\n",
       "      <td>-5912.127054</td>\n",
       "      <td>27801.128477</td>\n",
       "      <td>26814.150824</td>\n",
       "      <td>-0.002898</td>\n",
       "      <td>28732.578332</td>\n",
       "      <td>28364.648230</td>\n",
       "      <td>-1.603778e+10</td>\n",
       "    </tr>\n",
       "  </tbody>\n",
       "</table>\n",
       "<p>1259 rows × 15 columns</p>\n",
       "</div>"
      ],
      "text/plain": [
       "                    High           Low          Open     Volume     Adj Close  \\\n",
       "Date                                                                            \n",
       "2014-12-31  18043.220703  17820.880859  17987.660156   82840000  17823.070312   \n",
       "2015-01-02  17951.779297  17731.300781  17823.070312   76270000  17832.990234   \n",
       "2015-01-05  17821.300781  17475.929688  17821.300781  116160000  17501.650391   \n",
       "2015-01-06  17581.050781  17262.369141  17504.179688  101870000  17371.640625   \n",
       "2015-01-07  17597.080078  17374.779297  17374.779297   91030000  17584.519531   \n",
       "...                  ...           ...           ...        ...           ...   \n",
       "2019-12-24  28576.800781  28503.210938  28572.570312   86150000  28515.449219   \n",
       "2019-12-26  28624.099609  28535.150391  28539.460938  155970000  28621.390625   \n",
       "2019-12-27  28701.660156  28608.980469  28675.339844  182280000  28645.259766   \n",
       "2019-12-30  28664.689453  28428.980469  28654.759766  181600000  28462.140625   \n",
       "2019-12-31  28547.349609  28376.490234  28414.640625  193340000  28538.439453   \n",
       "\n",
       "                 h_o  pct_chng        CCI           EVM           SMA  \\\n",
       "Date                                                                    \n",
       "2014-12-31  0.012352 -0.009150        NaN           NaN           NaN   \n",
       "2015-01-02  0.006661  0.000557        NaN           NaN           NaN   \n",
       "2015-01-05  0.018264 -0.017936 -75.701131           NaN           NaN   \n",
       "2015-01-06  0.012055 -0.007572 -64.276144 -51502.923401           NaN   \n",
       "2015-01-07  0.000714  0.012072   7.486926 -37553.803479           NaN   \n",
       "...              ...       ...        ...           ...           ...   \n",
       "2019-12-24  0.002152 -0.001999  20.520221   1992.778893  27672.241094   \n",
       "2019-12-26  0.000095  0.002871  76.076943    970.374535  27704.172891   \n",
       "2019-12-27  0.001969 -0.001049  66.046735   2117.807425  27737.038477   \n",
       "2019-12-30  0.007116 -0.006722 -69.243026  -2657.586668  27765.763672   \n",
       "2019-12-31  0.000312  0.004357 -49.763571  -5912.127054  27801.128477   \n",
       "\n",
       "                    EWMA       ROC       UpperBB       LowerBB    ForceIndex  \n",
       "Date                                                                          \n",
       "2014-12-31           NaN       NaN           NaN           NaN           NaN  \n",
       "2015-01-02           NaN       NaN           NaN           NaN           NaN  \n",
       "2015-01-05           NaN       NaN  18096.238538  17342.235420           NaN  \n",
       "2015-01-06           NaN -0.025328  18044.527932  17092.992901 -4.598714e+10  \n",
       "2015-01-07           NaN -0.013933  17700.548533  17271.325165 -2.261829e+10  \n",
       "...                  ...       ...           ...           ...           ...  \n",
       "2019-12-24  26742.644691  0.004880  28604.808995  28409.903245  1.193077e+10  \n",
       "2019-12-26  26761.338746  0.005844  28670.511450  28455.067977  2.593793e+10  \n",
       "2019-12-27  26780.084293  0.003283  28732.221711  28455.844695  1.708519e+10  \n",
       "2019-12-30  26796.821230 -0.001869  28775.366523  28377.160821 -9.680841e+09  \n",
       "2019-12-31  26814.150824 -0.002898  28732.578332  28364.648230 -1.603778e+10  \n",
       "\n",
       "[1259 rows x 15 columns]"
      ]
     },
     "execution_count": 15,
     "metadata": {},
     "output_type": "execute_result"
    }
   ],
   "source": [
    "train_df"
   ]
  },
  {
   "cell_type": "markdown",
   "metadata": {},
   "source": [
    "# Nuevas features para entrenar el modelo aplicadas a los datos de test"
   ]
  },
  {
   "cell_type": "code",
   "execution_count": 16,
   "metadata": {},
   "outputs": [
    {
     "data": {
      "text/html": [
       "<div>\n",
       "<style scoped>\n",
       "    .dataframe tbody tr th:only-of-type {\n",
       "        vertical-align: middle;\n",
       "    }\n",
       "\n",
       "    .dataframe tbody tr th {\n",
       "        vertical-align: top;\n",
       "    }\n",
       "\n",
       "    .dataframe thead th {\n",
       "        text-align: right;\n",
       "    }\n",
       "</style>\n",
       "<table border=\"1\" class=\"dataframe\">\n",
       "  <thead>\n",
       "    <tr style=\"text-align: right;\">\n",
       "      <th></th>\n",
       "      <th>High</th>\n",
       "      <th>Low</th>\n",
       "      <th>Open</th>\n",
       "      <th>Volume</th>\n",
       "      <th>Adj Close</th>\n",
       "      <th>h_o</th>\n",
       "      <th>pct_chng</th>\n",
       "    </tr>\n",
       "    <tr>\n",
       "      <th>Date</th>\n",
       "      <th></th>\n",
       "      <th></th>\n",
       "      <th></th>\n",
       "      <th></th>\n",
       "      <th></th>\n",
       "      <th></th>\n",
       "      <th></th>\n",
       "    </tr>\n",
       "  </thead>\n",
       "  <tbody>\n",
       "    <tr>\n",
       "      <th>2020-07-20</th>\n",
       "      <td>26765.019531</td>\n",
       "      <td>26504.199219</td>\n",
       "      <td>26660.289062</td>\n",
       "      <td>309390000</td>\n",
       "      <td>26680.869141</td>\n",
       "      <td>0.003154</td>\n",
       "      <td>0.000772</td>\n",
       "    </tr>\n",
       "    <tr>\n",
       "      <th>2020-07-21</th>\n",
       "      <td>27025.380859</td>\n",
       "      <td>26766.220703</td>\n",
       "      <td>26833.140625</td>\n",
       "      <td>364930000</td>\n",
       "      <td>26840.400391</td>\n",
       "      <td>0.006892</td>\n",
       "      <td>0.000271</td>\n",
       "    </tr>\n",
       "    <tr>\n",
       "      <th>2020-07-22</th>\n",
       "      <td>27035.240234</td>\n",
       "      <td>26794.189453</td>\n",
       "      <td>26824.560547</td>\n",
       "      <td>404340000</td>\n",
       "      <td>27005.839844</td>\n",
       "      <td>0.001089</td>\n",
       "      <td>0.006758</td>\n",
       "    </tr>\n",
       "    <tr>\n",
       "      <th>2020-07-23</th>\n",
       "      <td>26973.849609</td>\n",
       "      <td>26560.039062</td>\n",
       "      <td>26955.970703</td>\n",
       "      <td>419800000</td>\n",
       "      <td>26652.330078</td>\n",
       "      <td>0.012063</td>\n",
       "      <td>-0.011264</td>\n",
       "    </tr>\n",
       "    <tr>\n",
       "      <th>2020-07-24</th>\n",
       "      <td>26625.699219</td>\n",
       "      <td>26402.859375</td>\n",
       "      <td>26533.410156</td>\n",
       "      <td>494170000</td>\n",
       "      <td>26469.890625</td>\n",
       "      <td>0.005886</td>\n",
       "      <td>-0.002394</td>\n",
       "    </tr>\n",
       "  </tbody>\n",
       "</table>\n",
       "</div>"
      ],
      "text/plain": [
       "                    High           Low          Open     Volume     Adj Close  \\\n",
       "Date                                                                            \n",
       "2020-07-20  26765.019531  26504.199219  26660.289062  309390000  26680.869141   \n",
       "2020-07-21  27025.380859  26766.220703  26833.140625  364930000  26840.400391   \n",
       "2020-07-22  27035.240234  26794.189453  26824.560547  404340000  27005.839844   \n",
       "2020-07-23  26973.849609  26560.039062  26955.970703  419800000  26652.330078   \n",
       "2020-07-24  26625.699219  26402.859375  26533.410156  494170000  26469.890625   \n",
       "\n",
       "                 h_o  pct_chng  \n",
       "Date                            \n",
       "2020-07-20  0.003154  0.000772  \n",
       "2020-07-21  0.006892  0.000271  \n",
       "2020-07-22  0.001089  0.006758  \n",
       "2020-07-23  0.012063 -0.011264  \n",
       "2020-07-24  0.005886 -0.002394  "
      ]
     },
     "execution_count": 16,
     "metadata": {},
     "output_type": "execute_result"
    }
   ],
   "source": [
    "Aux=test_df.copy()\n",
    "Aux['h_o'] = (Aux['High'] - Aux['Close'])/Aux['Close']  #porcentaje máximo de ganancia en el día respecto al cierre\n",
    "Aux['pct_chng'] = (Aux['Close'] - Aux['Open'])/Aux['Open'] #porcentaje de variación diaria \n",
    "test_df = Aux[['High','Low','Open','Volume','Adj Close','h_o','pct_chng']]\n",
    "#df = A[['Close','pct_chng']]\n",
    "test_df.tail()"
   ]
  },
  {
   "cell_type": "code",
   "execution_count": 17,
   "metadata": {},
   "outputs": [],
   "source": [
    "# Calculo el Commodity Channel Index(CCI) para DJ basándome en la Moving average de 3 días\n",
    "n = 3\n",
    "DJ_CCI_TEST = CCI(test_df, n)\n",
    "CCI_TEST = DJ_CCI_TEST['CCI']\n",
    "test_df['CCI']= CCI_TEST\n",
    "\n",
    "# Calculo Ease of Movement for DJ en 3 días\n",
    "n = 3\n",
    "DJ_EVM = EVM(test_df, n)\n",
    "EVM = DJ_EVM['EVM']\n",
    "test_df['EVM']=EVM\n",
    "\n",
    "\n",
    "# calculo 50 días SMA para DJ\n",
    "n = 50\n",
    "SMA_DJ = SMA(test_df,n)\n",
    "SMA_DJ = SMA_DJ.dropna()\n",
    "SMA = SMA_DJ['SMA']\n",
    "test_df['SMA']=SMA\n",
    "\n",
    "\n",
    "# calculo 200 días SMA para DJ\n",
    "ew = 200\n",
    "EWMA_DJ = EWMA(test_df,ew)\n",
    "EWMA_DJ = EWMA_DJ.dropna()\n",
    "EWMA = EWMA_DJ['EWMA_200']\n",
    "test_df['EWMA']=EWMA\n",
    "\n",
    "# Selecciono un periodo de 3\n",
    "n = 3\n",
    "DJ_ROC = ROC(test_df,n)\n",
    "ROC = DJ_ROC['Rate of Change']\n",
    "test_df['ROC']=ROC\n",
    "\n",
    "# Calculo Bollinger Bands para DJ utilizando Moving average de 3 días\n",
    "n = 3\n",
    "DJ_BBANDS = BBANDS(test_df, n)\n",
    "test_df['UpperBB']=DJ_BBANDS['UpperBB']\n",
    "test_df['LowerBB']=DJ_BBANDS['LowerBB']\n",
    "\n",
    "# Calculo el Force Index para DJ\n",
    "n = 3\n",
    "DJ_ForceIndex = ForceIndex(test_df,n)\n",
    "test_df['ForceIndex']=DJ_ForceIndex['ForceIndex']\n"
   ]
  },
  {
   "cell_type": "code",
   "execution_count": 18,
   "metadata": {},
   "outputs": [
    {
     "data": {
      "text/html": [
       "<div>\n",
       "<style scoped>\n",
       "    .dataframe tbody tr th:only-of-type {\n",
       "        vertical-align: middle;\n",
       "    }\n",
       "\n",
       "    .dataframe tbody tr th {\n",
       "        vertical-align: top;\n",
       "    }\n",
       "\n",
       "    .dataframe thead th {\n",
       "        text-align: right;\n",
       "    }\n",
       "</style>\n",
       "<table border=\"1\" class=\"dataframe\">\n",
       "  <thead>\n",
       "    <tr style=\"text-align: right;\">\n",
       "      <th></th>\n",
       "      <th>High</th>\n",
       "      <th>Low</th>\n",
       "      <th>Open</th>\n",
       "      <th>Volume</th>\n",
       "      <th>Adj Close</th>\n",
       "      <th>h_o</th>\n",
       "      <th>pct_chng</th>\n",
       "      <th>CCI</th>\n",
       "      <th>EVM</th>\n",
       "      <th>SMA</th>\n",
       "      <th>EWMA</th>\n",
       "      <th>ROC</th>\n",
       "      <th>UpperBB</th>\n",
       "      <th>LowerBB</th>\n",
       "      <th>ForceIndex</th>\n",
       "    </tr>\n",
       "    <tr>\n",
       "      <th>Date</th>\n",
       "      <th></th>\n",
       "      <th></th>\n",
       "      <th></th>\n",
       "      <th></th>\n",
       "      <th></th>\n",
       "      <th></th>\n",
       "      <th></th>\n",
       "      <th></th>\n",
       "      <th></th>\n",
       "      <th></th>\n",
       "      <th></th>\n",
       "      <th></th>\n",
       "      <th></th>\n",
       "      <th></th>\n",
       "      <th></th>\n",
       "    </tr>\n",
       "  </thead>\n",
       "  <tbody>\n",
       "    <tr>\n",
       "      <th>2020-01-02</th>\n",
       "      <td>28872.800781</td>\n",
       "      <td>28627.769531</td>\n",
       "      <td>28638.970703</td>\n",
       "      <td>251820000</td>\n",
       "      <td>28868.800781</td>\n",
       "      <td>0.000139</td>\n",
       "      <td>0.008025</td>\n",
       "      <td>NaN</td>\n",
       "      <td>NaN</td>\n",
       "      <td>NaN</td>\n",
       "      <td>NaN</td>\n",
       "      <td>NaN</td>\n",
       "      <td>NaN</td>\n",
       "      <td>NaN</td>\n",
       "      <td>NaN</td>\n",
       "    </tr>\n",
       "    <tr>\n",
       "      <th>2020-01-03</th>\n",
       "      <td>28716.310547</td>\n",
       "      <td>28500.359375</td>\n",
       "      <td>28553.330078</td>\n",
       "      <td>239590000</td>\n",
       "      <td>28634.880859</td>\n",
       "      <td>0.002844</td>\n",
       "      <td>0.002856</td>\n",
       "      <td>NaN</td>\n",
       "      <td>NaN</td>\n",
       "      <td>NaN</td>\n",
       "      <td>NaN</td>\n",
       "      <td>NaN</td>\n",
       "      <td>NaN</td>\n",
       "      <td>NaN</td>\n",
       "      <td>NaN</td>\n",
       "    </tr>\n",
       "    <tr>\n",
       "      <th>2020-01-06</th>\n",
       "      <td>28708.019531</td>\n",
       "      <td>28418.630859</td>\n",
       "      <td>28465.500000</td>\n",
       "      <td>252760000</td>\n",
       "      <td>28703.380859</td>\n",
       "      <td>0.000162</td>\n",
       "      <td>0.008357</td>\n",
       "      <td>-40.815163</td>\n",
       "      <td>NaN</td>\n",
       "      <td>NaN</td>\n",
       "      <td>NaN</td>\n",
       "      <td>NaN</td>\n",
       "      <td>28976.207119</td>\n",
       "      <td>28495.167881</td>\n",
       "      <td>NaN</td>\n",
       "    </tr>\n",
       "    <tr>\n",
       "      <th>2020-01-07</th>\n",
       "      <td>28685.500000</td>\n",
       "      <td>28565.279297</td>\n",
       "      <td>28639.179688</td>\n",
       "      <td>258900000</td>\n",
       "      <td>28583.679688</td>\n",
       "      <td>0.003562</td>\n",
       "      <td>-0.001938</td>\n",
       "      <td>-24.764779</td>\n",
       "      <td>-5021.915689</td>\n",
       "      <td>NaN</td>\n",
       "      <td>NaN</td>\n",
       "      <td>-0.009876</td>\n",
       "      <td>28760.764246</td>\n",
       "      <td>28520.530024</td>\n",
       "      <td>-7.381785e+10</td>\n",
       "    </tr>\n",
       "    <tr>\n",
       "      <th>2020-01-08</th>\n",
       "      <td>28866.179688</td>\n",
       "      <td>28522.509766</td>\n",
       "      <td>28556.140625</td>\n",
       "      <td>291750000</td>\n",
       "      <td>28745.089844</td>\n",
       "      <td>0.004213</td>\n",
       "      <td>0.006617</td>\n",
       "      <td>76.973812</td>\n",
       "      <td>1950.458110</td>\n",
       "      <td>NaN</td>\n",
       "      <td>NaN</td>\n",
       "      <td>0.003849</td>\n",
       "      <td>28844.956828</td>\n",
       "      <td>28509.810100</td>\n",
       "      <td>3.215347e+10</td>\n",
       "    </tr>\n",
       "    <tr>\n",
       "      <th>...</th>\n",
       "      <td>...</td>\n",
       "      <td>...</td>\n",
       "      <td>...</td>\n",
       "      <td>...</td>\n",
       "      <td>...</td>\n",
       "      <td>...</td>\n",
       "      <td>...</td>\n",
       "      <td>...</td>\n",
       "      <td>...</td>\n",
       "      <td>...</td>\n",
       "      <td>...</td>\n",
       "      <td>...</td>\n",
       "      <td>...</td>\n",
       "      <td>...</td>\n",
       "      <td>...</td>\n",
       "    </tr>\n",
       "    <tr>\n",
       "      <th>2020-07-20</th>\n",
       "      <td>26765.019531</td>\n",
       "      <td>26504.199219</td>\n",
       "      <td>26660.289062</td>\n",
       "      <td>309390000</td>\n",
       "      <td>26680.869141</td>\n",
       "      <td>0.003154</td>\n",
       "      <td>0.000772</td>\n",
       "      <td>-70.349313</td>\n",
       "      <td>-7610.177540</td>\n",
       "      <td>NaN</td>\n",
       "      <td>NaN</td>\n",
       "      <td>-0.007042</td>\n",
       "      <td>26763.752536</td>\n",
       "      <td>26627.933662</td>\n",
       "      <td>-5.854601e+10</td>\n",
       "    </tr>\n",
       "    <tr>\n",
       "      <th>2020-07-21</th>\n",
       "      <td>27025.380859</td>\n",
       "      <td>26766.220703</td>\n",
       "      <td>26833.140625</td>\n",
       "      <td>364930000</td>\n",
       "      <td>26840.400391</td>\n",
       "      <td>0.006892</td>\n",
       "      <td>0.000271</td>\n",
       "      <td>75.270806</td>\n",
       "      <td>3514.569312</td>\n",
       "      <td>NaN</td>\n",
       "      <td>NaN</td>\n",
       "      <td>0.003953</td>\n",
       "      <td>26920.643628</td>\n",
       "      <td>26541.502205</td>\n",
       "      <td>3.856925e+10</td>\n",
       "    </tr>\n",
       "    <tr>\n",
       "      <th>2020-07-22</th>\n",
       "      <td>27035.240234</td>\n",
       "      <td>26794.189453</td>\n",
       "      <td>26824.560547</td>\n",
       "      <td>404340000</td>\n",
       "      <td>27005.839844</td>\n",
       "      <td>0.001089</td>\n",
       "      <td>0.006758</td>\n",
       "      <td>52.167273</td>\n",
       "      <td>4323.538690</td>\n",
       "      <td>NaN</td>\n",
       "      <td>NaN</td>\n",
       "      <td>0.012518</td>\n",
       "      <td>27167.358397</td>\n",
       "      <td>26517.381186</td>\n",
       "      <td>1.350053e+11</td>\n",
       "    </tr>\n",
       "    <tr>\n",
       "      <th>2020-07-23</th>\n",
       "      <td>26973.849609</td>\n",
       "      <td>26560.039062</td>\n",
       "      <td>26955.970703</td>\n",
       "      <td>419800000</td>\n",
       "      <td>26652.330078</td>\n",
       "      <td>0.012063</td>\n",
       "      <td>-0.011264</td>\n",
       "      <td>-73.284095</td>\n",
       "      <td>1703.410454</td>\n",
       "      <td>NaN</td>\n",
       "      <td>NaN</td>\n",
       "      <td>-0.001070</td>\n",
       "      <td>27186.607916</td>\n",
       "      <td>26479.105625</td>\n",
       "      <td>-1.198070e+10</td>\n",
       "    </tr>\n",
       "    <tr>\n",
       "      <th>2020-07-24</th>\n",
       "      <td>26625.699219</td>\n",
       "      <td>26402.859375</td>\n",
       "      <td>26533.410156</td>\n",
       "      <td>494170000</td>\n",
       "      <td>26469.890625</td>\n",
       "      <td>0.005886</td>\n",
       "      <td>-0.002394</td>\n",
       "      <td>-67.300887</td>\n",
       "      <td>-8277.419905</td>\n",
       "      <td>NaN</td>\n",
       "      <td>NaN</td>\n",
       "      <td>-0.013804</td>\n",
       "      <td>27254.327444</td>\n",
       "      <td>26164.379587</td>\n",
       "      <td>-1.830948e+11</td>\n",
       "    </tr>\n",
       "  </tbody>\n",
       "</table>\n",
       "<p>142 rows × 15 columns</p>\n",
       "</div>"
      ],
      "text/plain": [
       "                    High           Low          Open     Volume     Adj Close  \\\n",
       "Date                                                                            \n",
       "2020-01-02  28872.800781  28627.769531  28638.970703  251820000  28868.800781   \n",
       "2020-01-03  28716.310547  28500.359375  28553.330078  239590000  28634.880859   \n",
       "2020-01-06  28708.019531  28418.630859  28465.500000  252760000  28703.380859   \n",
       "2020-01-07  28685.500000  28565.279297  28639.179688  258900000  28583.679688   \n",
       "2020-01-08  28866.179688  28522.509766  28556.140625  291750000  28745.089844   \n",
       "...                  ...           ...           ...        ...           ...   \n",
       "2020-07-20  26765.019531  26504.199219  26660.289062  309390000  26680.869141   \n",
       "2020-07-21  27025.380859  26766.220703  26833.140625  364930000  26840.400391   \n",
       "2020-07-22  27035.240234  26794.189453  26824.560547  404340000  27005.839844   \n",
       "2020-07-23  26973.849609  26560.039062  26955.970703  419800000  26652.330078   \n",
       "2020-07-24  26625.699219  26402.859375  26533.410156  494170000  26469.890625   \n",
       "\n",
       "                 h_o  pct_chng        CCI          EVM  SMA  EWMA       ROC  \\\n",
       "Date                                                                          \n",
       "2020-01-02  0.000139  0.008025        NaN          NaN  NaN   NaN       NaN   \n",
       "2020-01-03  0.002844  0.002856        NaN          NaN  NaN   NaN       NaN   \n",
       "2020-01-06  0.000162  0.008357 -40.815163          NaN  NaN   NaN       NaN   \n",
       "2020-01-07  0.003562 -0.001938 -24.764779 -5021.915689  NaN   NaN -0.009876   \n",
       "2020-01-08  0.004213  0.006617  76.973812  1950.458110  NaN   NaN  0.003849   \n",
       "...              ...       ...        ...          ...  ...   ...       ...   \n",
       "2020-07-20  0.003154  0.000772 -70.349313 -7610.177540  NaN   NaN -0.007042   \n",
       "2020-07-21  0.006892  0.000271  75.270806  3514.569312  NaN   NaN  0.003953   \n",
       "2020-07-22  0.001089  0.006758  52.167273  4323.538690  NaN   NaN  0.012518   \n",
       "2020-07-23  0.012063 -0.011264 -73.284095  1703.410454  NaN   NaN -0.001070   \n",
       "2020-07-24  0.005886 -0.002394 -67.300887 -8277.419905  NaN   NaN -0.013804   \n",
       "\n",
       "                 UpperBB       LowerBB    ForceIndex  \n",
       "Date                                                  \n",
       "2020-01-02           NaN           NaN           NaN  \n",
       "2020-01-03           NaN           NaN           NaN  \n",
       "2020-01-06  28976.207119  28495.167881           NaN  \n",
       "2020-01-07  28760.764246  28520.530024 -7.381785e+10  \n",
       "2020-01-08  28844.956828  28509.810100  3.215347e+10  \n",
       "...                  ...           ...           ...  \n",
       "2020-07-20  26763.752536  26627.933662 -5.854601e+10  \n",
       "2020-07-21  26920.643628  26541.502205  3.856925e+10  \n",
       "2020-07-22  27167.358397  26517.381186  1.350053e+11  \n",
       "2020-07-23  27186.607916  26479.105625 -1.198070e+10  \n",
       "2020-07-24  27254.327444  26164.379587 -1.830948e+11  \n",
       "\n",
       "[142 rows x 15 columns]"
      ]
     },
     "execution_count": 18,
     "metadata": {},
     "output_type": "execute_result"
    }
   ],
   "source": [
    "test_df"
   ]
  },
  {
   "cell_type": "markdown",
   "metadata": {},
   "source": [
    "## Preparando los datos:\n",
    "*  Dado que estoy haciendo una predicción de series de tiempo, es necesario que los datos sean secuenciales. Clasifico los datos de entrenamiento y test por fecha. \n",
    "* Posteriormente reinicio el índice lo marco como el índice del dataframe"
   ]
  },
  {
   "cell_type": "code",
   "execution_count": 19,
   "metadata": {
    "scrolled": false
   },
   "outputs": [
    {
     "data": {
      "image/png": "[encoded data removed]",
      "text/plain": [
       "<Figure size 864x432 with 1 Axes>"
      ]
     },
     "metadata": {
      "needs_background": "light"
     },
     "output_type": "display_data"
    }
   ],
   "source": [
    "# Visualizo los datos de entrenamiento:\n",
    "import matplotlib.pyplot as plt\n",
    "%matplotlib inline\n",
    "\n",
    "plt.figure(figsize = (12,6))\n",
    "plt.plot(train_df[\"Adj Close\"])\n",
    "plt.xlabel('Date',fontsize=15)\n",
    "plt.ylabel('Adjusted Close Price',fontsize=15)\n",
    "plt.show()"
   ]
  },
  {
   "cell_type": "code",
   "execution_count": 20,
   "metadata": {
    "scrolled": true
   },
   "outputs": [
    {
     "data": {
      "text/plain": [
       "<matplotlib.legend.Legend at 0x1aa6b142708>"
      ]
     },
     "execution_count": 20,
     "metadata": {},
     "output_type": "execute_result"
    },
    {
     "data": {
      "image/png": "[encoded data removed]",
      "text/plain": [
       "<Figure size 864x432 with 1 Axes>"
      ]
     },
     "metadata": {
      "needs_background": "light"
     },
     "output_type": "display_data"
    }
   ],
   "source": [
    "# Rolling mean\n",
    "close_p = train_df['Adj Close']\n",
    "mavg = close_p.rolling(window=100).mean()\n",
    "\n",
    "plt.figure(figsize = (12,6))\n",
    "close_p.plot(label='DOW JONES')\n",
    "mavg.plot(label='mavg')\n",
    "plt.xlabel('Date')\n",
    "plt.ylabel('Price')\n",
    "plt.legend()"
   ]
  },
  {
   "cell_type": "markdown",
   "metadata": {},
   "source": [
    "## Rolling mean: \n",
    "* Obtengo los precios de cierre ajustados de nuestro dataframe y trazo una media móvil (Rolling mean)en nuestros datos.\n",
    "* Rolling mean también es conocida como moving average o media móvil. El promedio móvil nos ayuda a suavizar los datos que tienen muchas fluctuaciones y nos ayuda a ver mejor la tendencia a largo plazo de los datos.\n",
    "* Con el promedio móvil es posible definir un período de tiempo sobre el que tomar el promedio de lo que se conoce como nuestra ventana. En este caso la ventana definida es de 100. Defino 100 porque quiero ver el promedio móvil a largo plazo en los datos."
   ]
  },
  {
   "cell_type": "code",
   "execution_count": 21,
   "metadata": {},
   "outputs": [
    {
     "data": {
      "text/html": [
       "<div>\n",
       "<style scoped>\n",
       "    .dataframe tbody tr th:only-of-type {\n",
       "        vertical-align: middle;\n",
       "    }\n",
       "\n",
       "    .dataframe tbody tr th {\n",
       "        vertical-align: top;\n",
       "    }\n",
       "\n",
       "    .dataframe thead th {\n",
       "        text-align: right;\n",
       "    }\n",
       "</style>\n",
       "<table border=\"1\" class=\"dataframe\">\n",
       "  <thead>\n",
       "    <tr style=\"text-align: right;\">\n",
       "      <th></th>\n",
       "      <th>Date</th>\n",
       "      <th>High</th>\n",
       "      <th>Low</th>\n",
       "      <th>Open</th>\n",
       "      <th>Volume</th>\n",
       "      <th>Adj Close</th>\n",
       "      <th>h_o</th>\n",
       "      <th>pct_chng</th>\n",
       "      <th>CCI</th>\n",
       "      <th>EVM</th>\n",
       "      <th>SMA</th>\n",
       "      <th>EWMA</th>\n",
       "      <th>ROC</th>\n",
       "      <th>UpperBB</th>\n",
       "      <th>LowerBB</th>\n",
       "      <th>ForceIndex</th>\n",
       "    </tr>\n",
       "  </thead>\n",
       "  <tbody>\n",
       "    <tr>\n",
       "      <th>0</th>\n",
       "      <td>735598.0</td>\n",
       "      <td>18043.220703</td>\n",
       "      <td>17820.880859</td>\n",
       "      <td>17987.660156</td>\n",
       "      <td>82840000</td>\n",
       "      <td>17823.070312</td>\n",
       "      <td>0.012352</td>\n",
       "      <td>-0.009150</td>\n",
       "      <td>NaN</td>\n",
       "      <td>NaN</td>\n",
       "      <td>NaN</td>\n",
       "      <td>NaN</td>\n",
       "      <td>NaN</td>\n",
       "      <td>NaN</td>\n",
       "      <td>NaN</td>\n",
       "      <td>NaN</td>\n",
       "    </tr>\n",
       "    <tr>\n",
       "      <th>1</th>\n",
       "      <td>735600.0</td>\n",
       "      <td>17951.779297</td>\n",
       "      <td>17731.300781</td>\n",
       "      <td>17823.070312</td>\n",
       "      <td>76270000</td>\n",
       "      <td>17832.990234</td>\n",
       "      <td>0.006661</td>\n",
       "      <td>0.000557</td>\n",
       "      <td>NaN</td>\n",
       "      <td>NaN</td>\n",
       "      <td>NaN</td>\n",
       "      <td>NaN</td>\n",
       "      <td>NaN</td>\n",
       "      <td>NaN</td>\n",
       "      <td>NaN</td>\n",
       "      <td>NaN</td>\n",
       "    </tr>\n",
       "    <tr>\n",
       "      <th>2</th>\n",
       "      <td>735603.0</td>\n",
       "      <td>17821.300781</td>\n",
       "      <td>17475.929688</td>\n",
       "      <td>17821.300781</td>\n",
       "      <td>116160000</td>\n",
       "      <td>17501.650391</td>\n",
       "      <td>0.018264</td>\n",
       "      <td>-0.017936</td>\n",
       "      <td>-75.701131</td>\n",
       "      <td>NaN</td>\n",
       "      <td>NaN</td>\n",
       "      <td>NaN</td>\n",
       "      <td>NaN</td>\n",
       "      <td>18096.238538</td>\n",
       "      <td>17342.235420</td>\n",
       "      <td>NaN</td>\n",
       "    </tr>\n",
       "    <tr>\n",
       "      <th>3</th>\n",
       "      <td>735604.0</td>\n",
       "      <td>17581.050781</td>\n",
       "      <td>17262.369141</td>\n",
       "      <td>17504.179688</td>\n",
       "      <td>101870000</td>\n",
       "      <td>17371.640625</td>\n",
       "      <td>0.012055</td>\n",
       "      <td>-0.007572</td>\n",
       "      <td>-64.276144</td>\n",
       "      <td>-51502.923401</td>\n",
       "      <td>NaN</td>\n",
       "      <td>NaN</td>\n",
       "      <td>-0.025328</td>\n",
       "      <td>18044.527932</td>\n",
       "      <td>17092.992901</td>\n",
       "      <td>-4.598714e+10</td>\n",
       "    </tr>\n",
       "    <tr>\n",
       "      <th>4</th>\n",
       "      <td>735605.0</td>\n",
       "      <td>17597.080078</td>\n",
       "      <td>17374.779297</td>\n",
       "      <td>17374.779297</td>\n",
       "      <td>91030000</td>\n",
       "      <td>17584.519531</td>\n",
       "      <td>0.000714</td>\n",
       "      <td>0.012072</td>\n",
       "      <td>7.486926</td>\n",
       "      <td>-37553.803479</td>\n",
       "      <td>NaN</td>\n",
       "      <td>NaN</td>\n",
       "      <td>-0.013933</td>\n",
       "      <td>17700.548533</td>\n",
       "      <td>17271.325165</td>\n",
       "      <td>-2.261829e+10</td>\n",
       "    </tr>\n",
       "    <tr>\n",
       "      <th>...</th>\n",
       "      <td>...</td>\n",
       "      <td>...</td>\n",
       "      <td>...</td>\n",
       "      <td>...</td>\n",
       "      <td>...</td>\n",
       "      <td>...</td>\n",
       "      <td>...</td>\n",
       "      <td>...</td>\n",
       "      <td>...</td>\n",
       "      <td>...</td>\n",
       "      <td>...</td>\n",
       "      <td>...</td>\n",
       "      <td>...</td>\n",
       "      <td>...</td>\n",
       "      <td>...</td>\n",
       "      <td>...</td>\n",
       "    </tr>\n",
       "    <tr>\n",
       "      <th>1254</th>\n",
       "      <td>737417.0</td>\n",
       "      <td>28576.800781</td>\n",
       "      <td>28503.210938</td>\n",
       "      <td>28572.570312</td>\n",
       "      <td>86150000</td>\n",
       "      <td>28515.449219</td>\n",
       "      <td>0.002152</td>\n",
       "      <td>-0.001999</td>\n",
       "      <td>20.520221</td>\n",
       "      <td>1992.778893</td>\n",
       "      <td>27672.241094</td>\n",
       "      <td>26742.644691</td>\n",
       "      <td>0.004880</td>\n",
       "      <td>28604.808995</td>\n",
       "      <td>28409.903245</td>\n",
       "      <td>1.193077e+10</td>\n",
       "    </tr>\n",
       "    <tr>\n",
       "      <th>1255</th>\n",
       "      <td>737419.0</td>\n",
       "      <td>28624.099609</td>\n",
       "      <td>28535.150391</td>\n",
       "      <td>28539.460938</td>\n",
       "      <td>155970000</td>\n",
       "      <td>28621.390625</td>\n",
       "      <td>0.000095</td>\n",
       "      <td>0.002871</td>\n",
       "      <td>76.076943</td>\n",
       "      <td>970.374535</td>\n",
       "      <td>27704.172891</td>\n",
       "      <td>26761.338746</td>\n",
       "      <td>0.005844</td>\n",
       "      <td>28670.511450</td>\n",
       "      <td>28455.067977</td>\n",
       "      <td>2.593793e+10</td>\n",
       "    </tr>\n",
       "    <tr>\n",
       "      <th>1256</th>\n",
       "      <td>737420.0</td>\n",
       "      <td>28701.660156</td>\n",
       "      <td>28608.980469</td>\n",
       "      <td>28675.339844</td>\n",
       "      <td>182280000</td>\n",
       "      <td>28645.259766</td>\n",
       "      <td>0.001969</td>\n",
       "      <td>-0.001049</td>\n",
       "      <td>66.046735</td>\n",
       "      <td>2117.807425</td>\n",
       "      <td>27737.038477</td>\n",
       "      <td>26780.084293</td>\n",
       "      <td>0.003283</td>\n",
       "      <td>28732.221711</td>\n",
       "      <td>28455.844695</td>\n",
       "      <td>1.708519e+10</td>\n",
       "    </tr>\n",
       "    <tr>\n",
       "      <th>1257</th>\n",
       "      <td>737423.0</td>\n",
       "      <td>28664.689453</td>\n",
       "      <td>28428.980469</td>\n",
       "      <td>28654.759766</td>\n",
       "      <td>181600000</td>\n",
       "      <td>28462.140625</td>\n",
       "      <td>0.007116</td>\n",
       "      <td>-0.006722</td>\n",
       "      <td>-69.243026</td>\n",
       "      <td>-2657.586668</td>\n",
       "      <td>27765.763672</td>\n",
       "      <td>26796.821230</td>\n",
       "      <td>-0.001869</td>\n",
       "      <td>28775.366523</td>\n",
       "      <td>28377.160821</td>\n",
       "      <td>-9.680841e+09</td>\n",
       "    </tr>\n",
       "    <tr>\n",
       "      <th>1258</th>\n",
       "      <td>737424.0</td>\n",
       "      <td>28547.349609</td>\n",
       "      <td>28376.490234</td>\n",
       "      <td>28414.640625</td>\n",
       "      <td>193340000</td>\n",
       "      <td>28538.439453</td>\n",
       "      <td>0.000312</td>\n",
       "      <td>0.004357</td>\n",
       "      <td>-49.763571</td>\n",
       "      <td>-5912.127054</td>\n",
       "      <td>27801.128477</td>\n",
       "      <td>26814.150824</td>\n",
       "      <td>-0.002898</td>\n",
       "      <td>28732.578332</td>\n",
       "      <td>28364.648230</td>\n",
       "      <td>-1.603778e+10</td>\n",
       "    </tr>\n",
       "  </tbody>\n",
       "</table>\n",
       "<p>1259 rows × 16 columns</p>\n",
       "</div>"
      ],
      "text/plain": [
       "          Date          High           Low          Open     Volume  \\\n",
       "0     735598.0  18043.220703  17820.880859  17987.660156   82840000   \n",
       "1     735600.0  17951.779297  17731.300781  17823.070312   76270000   \n",
       "2     735603.0  17821.300781  17475.929688  17821.300781  116160000   \n",
       "3     735604.0  17581.050781  17262.369141  17504.179688  101870000   \n",
       "4     735605.0  17597.080078  17374.779297  17374.779297   91030000   \n",
       "...        ...           ...           ...           ...        ...   \n",
       "1254  737417.0  28576.800781  28503.210938  28572.570312   86150000   \n",
       "1255  737419.0  28624.099609  28535.150391  28539.460938  155970000   \n",
       "1256  737420.0  28701.660156  28608.980469  28675.339844  182280000   \n",
       "1257  737423.0  28664.689453  28428.980469  28654.759766  181600000   \n",
       "1258  737424.0  28547.349609  28376.490234  28414.640625  193340000   \n",
       "\n",
       "         Adj Close       h_o  pct_chng        CCI           EVM           SMA  \\\n",
       "0     17823.070312  0.012352 -0.009150        NaN           NaN           NaN   \n",
       "1     17832.990234  0.006661  0.000557        NaN           NaN           NaN   \n",
       "2     17501.650391  0.018264 -0.017936 -75.701131           NaN           NaN   \n",
       "3     17371.640625  0.012055 -0.007572 -64.276144 -51502.923401           NaN   \n",
       "4     17584.519531  0.000714  0.012072   7.486926 -37553.803479           NaN   \n",
       "...            ...       ...       ...        ...           ...           ...   \n",
       "1254  28515.449219  0.002152 -0.001999  20.520221   1992.778893  27672.241094   \n",
       "1255  28621.390625  0.000095  0.002871  76.076943    970.374535  27704.172891   \n",
       "1256  28645.259766  0.001969 -0.001049  66.046735   2117.807425  27737.038477   \n",
       "1257  28462.140625  0.007116 -0.006722 -69.243026  -2657.586668  27765.763672   \n",
       "1258  28538.439453  0.000312  0.004357 -49.763571  -5912.127054  27801.128477   \n",
       "\n",
       "              EWMA       ROC       UpperBB       LowerBB    ForceIndex  \n",
       "0              NaN       NaN           NaN           NaN           NaN  \n",
       "1              NaN       NaN           NaN           NaN           NaN  \n",
       "2              NaN       NaN  18096.238538  17342.235420           NaN  \n",
       "3              NaN -0.025328  18044.527932  17092.992901 -4.598714e+10  \n",
       "4              NaN -0.013933  17700.548533  17271.325165 -2.261829e+10  \n",
       "...            ...       ...           ...           ...           ...  \n",
       "1254  26742.644691  0.004880  28604.808995  28409.903245  1.193077e+10  \n",
       "1255  26761.338746  0.005844  28670.511450  28455.067977  2.593793e+10  \n",
       "1256  26780.084293  0.003283  28732.221711  28455.844695  1.708519e+10  \n",
       "1257  26796.821230 -0.001869  28775.366523  28377.160821 -9.680841e+09  \n",
       "1258  26814.150824 -0.002898  28732.578332  28364.648230 -1.603778e+10  \n",
       "\n",
       "[1259 rows x 16 columns]"
      ]
     },
     "execution_count": 21,
     "metadata": {},
     "output_type": "execute_result"
    }
   ],
   "source": [
    "import matplotlib.dates as mdates\n",
    "\n",
    "# Cambio las fechas a ints para el entrenamiento del modelo\n",
    "dates_df = train_df.copy()\n",
    "dates_df = dates_df.reset_index()\n",
    "\n",
    "# Almaceno las fechas originales para posteriormente pintar las predicciones.\n",
    "ini_dates = dates_df['Date']\n",
    "\n",
    "# Conviento a ints\n",
    "dates_df['Date'] = dates_df['Date'].map(mdates.date2num)\n",
    "\n",
    "dates_df"
   ]
  },
  {
   "cell_type": "code",
   "execution_count": 22,
   "metadata": {},
   "outputs": [
    {
     "name": "stdout",
     "output_type": "stream",
     "text": [
      "<class 'pandas.core.frame.DataFrame'>\n",
      "RangeIndex: 1259 entries, 0 to 1258\n",
      "Data columns (total 16 columns):\n",
      " #   Column      Non-Null Count  Dtype  \n",
      "---  ------      --------------  -----  \n",
      " 0   Date        1259 non-null   float64\n",
      " 1   High        1259 non-null   float64\n",
      " 2   Low         1259 non-null   float64\n",
      " 3   Open        1259 non-null   float64\n",
      " 4   Volume      1259 non-null   int64  \n",
      " 5   Adj Close   1259 non-null   float64\n",
      " 6   h_o         1259 non-null   float64\n",
      " 7   pct_chng    1259 non-null   float64\n",
      " 8   CCI         1257 non-null   float64\n",
      " 9   EVM         1256 non-null   float64\n",
      " 10  SMA         1210 non-null   float64\n",
      " 11  EWMA        1061 non-null   float64\n",
      " 12  ROC         1256 non-null   float64\n",
      " 13  UpperBB     1257 non-null   float64\n",
      " 14  LowerBB     1257 non-null   float64\n",
      " 15  ForceIndex  1256 non-null   float64\n",
      "dtypes: float64(15), int64(1)\n",
      "memory usage: 157.5 KB\n"
     ]
    }
   ],
   "source": [
    "dates_df.info()"
   ]
  },
  {
   "cell_type": "code",
   "execution_count": 23,
   "metadata": {},
   "outputs": [],
   "source": [
    "dates_df.dropna(inplace=True)"
   ]
  },
  {
   "cell_type": "markdown",
   "metadata": {},
   "source": [
    "## Convirtienfo las fechas: \n",
    "* Creo una copia del dataframe y lo llamo date_df. Almaceno las fechas originales en ini_dates. Posteriomente utilizaré ini_dates para trazar las predicciones y fechas.\n",
    "* A continuación transformo las fechas date_df a números enteros usando mdates.date2num. Es necesario transformar las fechas a números enteros para poder entrenar la red neuronales."
   ]
  },
  {
   "cell_type": "code",
   "execution_count": 24,
   "metadata": {},
   "outputs": [
    {
     "name": "stdout",
     "output_type": "stream",
     "text": [
      "(1259,)\n"
     ]
    }
   ],
   "source": [
    "# Extraigo los datos de entrenamiento de Adj Close\n",
    "train_data = train_df.loc[:,'Adj Close'].to_numpy()\n",
    "#train_data = train_df.loc[:,'h_o'].to_numpy()\n",
    "print(train_data.shape) # 1258 "
   ]
  },
  {
   "cell_type": "code",
   "execution_count": 25,
   "metadata": {},
   "outputs": [
    {
     "data": {
      "text/plain": [
       "array([17823.0703125 , 17832.99023438, 17501.65039062, ...,\n",
       "       28645.25976562, 28462.140625  , 28538.43945312])"
      ]
     },
     "execution_count": 25,
     "metadata": {},
     "output_type": "execute_result"
    }
   ],
   "source": [
    "train_data"
   ]
  },
  {
   "cell_type": "code",
   "execution_count": 26,
   "metadata": {},
   "outputs": [],
   "source": [
    "# Normalizo los datos antes de alimentar la red LSTM:\n",
    "from sklearn.preprocessing import MinMaxScaler\n",
    "\n",
    "scaler = MinMaxScaler()\n",
    "train_data = train_data.reshape(-1,1)\n",
    "\n",
    "scaler.fit(train_data)\n",
    "train_data = scaler.transform(train_data)"
   ]
  },
  {
   "cell_type": "markdown",
   "metadata": {},
   "source": [
    "## Normalizando: \n",
    "* Aquí creo los datos de entrenamiento y los normalizo. Utilizo sklearn para crear un objeto MinMaxScaler ().\n",
    "* MinMaxScaler funciona reduciendo el rango de los valores a un valor entre 0 y 1\n",
    "* A continuación se presento la ecuación para el escalador min-max:\n",
    "<img src=\"Images/MinMax.png\">\n",
    "* Esta es la ecuación que sklearn está haciendo en segundo plano para convertir nuestros datos en el rango deseado. "
   ]
  },
  {
   "cell_type": "code",
   "execution_count": 27,
   "metadata": {},
   "outputs": [],
   "source": [
    "'''Función que crea un dataset para ser alimentado en una red LSTM'''\n",
    "def crear_LSTM_dataset(dataset, rango):\n",
    "    dataX, dataY = [], []\n",
    "    for i in range(len(dataset)-rango):\n",
    "        a = dataset[i:(i + rango), 0]\n",
    "        dataX.append(a)\n",
    "        dataY.append(dataset[i + rango, 0])\n",
    "    return np.array(dataX), np.array(dataY)"
   ]
  },
  {
   "cell_type": "code",
   "execution_count": 28,
   "metadata": {},
   "outputs": [
    {
     "name": "stdout",
     "output_type": "stream",
     "text": [
      "(1256, 3, 1)\n"
     ]
    }
   ],
   "source": [
    "# Genero los datos de entrenamiento para el entrenamiento del modelo:\n",
    "time_steps = 3\n",
    "X_train, y_train = crear_LSTM_dataset(train_data, time_steps)\n",
    "\n",
    "# Lo redimensiono [samples, time steps, features]\n",
    "X_train = np.reshape(X_train, (X_train.shape[0], 3, 1))\n",
    "\n",
    "print(X_train.shape)"
   ]
  },
  {
   "cell_type": "code",
   "execution_count": 29,
   "metadata": {},
   "outputs": [
    {
     "name": "stdout",
     "output_type": "stream",
     "text": [
      "X_train:\n",
      "[[17823.0703125 ]\n",
      " [17832.99023438]\n",
      " [17501.65039062]]\n",
      "\n",
      "\n",
      "y_train: [[17371.640625]]\n",
      "\n"
     ]
    }
   ],
   "source": [
    "# Visualizo los datos: \n",
    "print('X_train:')\n",
    "print(str(scaler.inverse_transform(X_train[0])))\n",
    "print(\"\\n\")\n",
    "print('y_train: ' + str(scaler.inverse_transform(y_train[0].reshape(-1,1)))+'\\n')"
   ]
  },
  {
   "cell_type": "markdown",
   "metadata": {},
   "source": [
    "## Preparando los datos para la red neuronal: \n",
    "* Aquí he creado la función 'crear_LSTM_dataset'. Esta función realiza un bucle desde (0 hasta la longitud de nuestro conjunto de datos: el número de time steps). \n",
    "* Cada índice en la matriz X_train contiene una matriz de 3 días de precios de cierre y la matriz y_train contiene el precio de cierre un día después de nuestros time steps.\n",
    "* Es decir se alimenta la red neuronal con los precios de cierre de los 3 días previos y la red debe ser capaz de realizar la predicción del precio de cierre de las acciones del día inmediatamente posterior."
   ]
  },
  {
   "cell_type": "code",
   "execution_count": 31,
   "metadata": {},
   "outputs": [
    {
     "name": "stdout",
     "output_type": "stream",
     "text": [
      "Train on 879 samples, validate on 377 samples\n",
      "Epoch 1/20\n",
      "879/879 [==============================] - 1s 925us/step - loss: 0.0150 - val_loss: 7.6393e-04\n",
      "Epoch 2/20\n",
      "879/879 [==============================] - 0s 276us/step - loss: 0.0012 - val_loss: 8.0256e-04\n",
      "Epoch 3/20\n",
      "879/879 [==============================] - 0s 303us/step - loss: 0.0011 - val_loss: 6.7808e-04\n",
      "Epoch 4/20\n",
      "879/879 [==============================] - 0s 289us/step - loss: 0.0013 - val_loss: 7.7844e-04\n",
      "Epoch 5/20\n",
      "879/879 [==============================] - 0s 284us/step - loss: 0.0011 - val_loss: 0.0023\n",
      "Epoch 6/20\n",
      "879/879 [==============================] - 0s 313us/step - loss: 9.4348e-04 - val_loss: 8.2784e-04\n",
      "Epoch 7/20\n",
      "879/879 [==============================] - 0s 281us/step - loss: 0.0010 - val_loss: 6.4434e-04\n",
      "Epoch 8/20\n",
      "879/879 [==============================] - 0s 301us/step - loss: 9.5563e-04 - val_loss: 6.3630e-04\n",
      "Epoch 9/20\n",
      "879/879 [==============================] - 0s 288us/step - loss: 9.0497e-04 - val_loss: 0.0012\n",
      "Epoch 10/20\n",
      "879/879 [==============================] - 0s 285us/step - loss: 8.9022e-04 - val_loss: 0.0010\n",
      "Epoch 11/20\n",
      "879/879 [==============================] - 0s 283us/step - loss: 9.6181e-04 - val_loss: 9.6129e-04\n",
      "Epoch 12/20\n",
      "879/879 [==============================] - 0s 299us/step - loss: 0.0011 - val_loss: 0.0014\n",
      "Epoch 13/20\n",
      "879/879 [==============================] - 0s 294us/step - loss: 0.0010 - val_loss: 0.0015\n",
      "Epoch 14/20\n",
      "879/879 [==============================] - 0s 278us/step - loss: 7.8153e-04 - val_loss: 0.0015\n",
      "Epoch 15/20\n",
      "879/879 [==============================] - 0s 292us/step - loss: 8.4382e-04 - val_loss: 0.0030\n",
      "Epoch 16/20\n",
      "879/879 [==============================] - 0s 295us/step - loss: 9.9786e-04 - val_loss: 6.8086e-04\n",
      "Epoch 17/20\n",
      "879/879 [==============================] - 0s 295us/step - loss: 7.4719e-04 - val_loss: 5.8534e-04\n",
      "Epoch 18/20\n",
      "879/879 [==============================] - 0s 285us/step - loss: 7.6375e-04 - val_loss: 0.0013\n",
      "Epoch 19/20\n",
      "879/879 [==============================] - 0s 293us/step - loss: 9.2346e-04 - val_loss: 9.3175e-04\n",
      "Epoch 20/20\n",
      "879/879 [==============================] - 0s 319us/step - loss: 8.5060e-04 - val_loss: 0.0012\n"
     ]
    }
   ],
   "source": [
    "# Construyo el modelo \n",
    "model = keras.Sequential()\n",
    "\n",
    "model.add(LSTM(units = 100, return_sequences = True, input_shape = (X_train.shape[1], 1)))\n",
    "model.add(Dropout(0.2))\n",
    "\n",
    "model.add(LSTM(units = 100))\n",
    "model.add(Dropout(0.2))\n",
    "\n",
    "# Capa de salida\n",
    "model.add(Dense(units = 1))\n",
    "\n",
    "# Compilando el modelo\n",
    "model.compile(optimizer = 'adam', loss = 'mean_squared_error')\n",
    "\n",
    "# Ajustando el modelo al conjunto de entrenamiento\n",
    "history = model.fit(X_train, y_train, epochs = 20, batch_size = 10, validation_split=.30)"
   ]
  },
  {
   "cell_type": "markdown",
   "metadata": {},
   "source": [
    "### Dropout:\n",
    "* Es una técnica de regularización utilizada en el aprendizaje profundo y las redes neuronales.\n",
    "* La regularización es una técnica utilizada para ayudar a las redes a no sobreajustar nuestros datos.\n",
    "* El sobreajuste se produce cuando nuestra red neuronal funciona bien en nuestros datos de entrenamiento pero muy mal en nuestros datos de prueba. Esto significa que la red no generaliza bien, lo que significa que clasifica nuevas imágenes que no ha visto antes de forma incorrecta / deficiente\n",
    "* Básicamente se desactivan algunas neuronas en una capa para que no aprendan ninguna información durante las actualizaciones (retropropagación) de los pesos de la red. Esto permite que otras neuronas activas aprendan mejor y reduzcan el error.\n",
    "\n",
    "\n",
    "### El código:\n",
    "\n",
    "Secuencial: aquí Construyo la red neuronal. Creo el modelo como secuencial. Secuencial significa que puede crear un modelo capa por capa. Secuencial significa que hay una sola entrada y una única salida, casi como una tubería.\n",
    "Capas LSTM: Defino dos capas LSTM con un dropout del 20% después de cada capa.\n",
    "La primera capa defino return_sequences = true. Hago esto porque he apilado capas LSTM y quiero que la segunda capa LSTM tenga una entrada de secuencia tridimensional.\n",
    "También defino input_shape que lo he configurado como el x.shape para asegurarme de que tenga la misma forma 3D de los datos.\n",
    "Capa de salida: Un nodo que retorna un número entre 0 y 1.\n",
    "Compilación: Compilo el modelo. Utilizo el optimizador Adam, que es un tipo de algoritmo de optimización de descenso de gradiente y defino la función de pérdida como el error cuadrático medio. Utilizo Adam para minimizar la función de coste del error cuadrático medio.\n",
    "Ajuste del modelo: por último, ajusto el modelo utilizando la retropropagación y nuestro optimizador Adam. Defino 20 épocas y un tamaño de lote de 10. También utilizamos la función de división Keras incorporada para dividir nuestros datos en un 70% de entrenamiento y un 30% de prueba."
   ]
  },
  {
   "cell_type": "code",
   "execution_count": 32,
   "metadata": {},
   "outputs": [
    {
     "data": {
      "image/png": "[encoded data removed]",
      "text/plain": [
       "<Figure size 432x288 with 1 Axes>"
      ]
     },
     "metadata": {
      "needs_background": "light"
     },
     "output_type": "display_data"
    }
   ],
   "source": [
    "# Visualización de los valores de  training & validation loss\n",
    "plt.plot(history.history['loss'])\n",
    "plt.plot(history.history['val_loss'])\n",
    "plt.title('Model loss')\n",
    "plt.ylabel('Loss')\n",
    "plt.xlabel('Epoch')\n",
    "plt.legend(['Train', 'Test'], loc='upper left')\n",
    "plt.show()"
   ]
  },
  {
   "cell_type": "markdown",
   "metadata": {},
   "source": [
    "## Dibujando la loss: \n",
    "* Aquí utilizo el código de [keras api](https://keras.io/visualization/)para trazar la pérdida del modelo. A medida que se alcanza a la vigésima época, la pérdida de la prueba y la pérdida del tren están muy cerca y se minimizan."
   ]
  },
  {
   "cell_type": "code",
   "execution_count": 33,
   "metadata": {},
   "outputs": [],
   "source": [
    "# Obtengo los precios de cierre para 2020 para hacer la predicción\n",
    "test_data = test_df['Adj Close'].values\n",
    "#test_data = test_df['h_o'].values\n",
    "test_data = test_data.reshape(-1,1)\n",
    "test_data_scaled = scaler.transform(test_data)\n",
    "\n",
    "# Creo lso datos de test del modelo:\n",
    "time_steps = 3\n",
    "X_test, y_test = crear_LSTM_dataset(test_data_scaled, time_steps)\n",
    "\n",
    "# Almaceno los valores originales\n",
    "y_test = y_test.reshape(-1,1)\n",
    "org_y = scaler.inverse_transform(y_test)\n",
    "\n",
    "# Los redimensiono [samples, time steps, features]\n",
    "X_test = np.reshape(X_test, (X_test.shape[0],3, 1))\n",
    "\n",
    "# Realizo la predicción de los precios con el modelo\n",
    "predicted_y = model.predict(X_test)\n",
    "predicted_y_transform = scaler.inverse_transform(predicted_y)"
   ]
  },
  {
   "cell_type": "code",
   "execution_count": 34,
   "metadata": {},
   "outputs": [],
   "source": [
    "#Prediccion realizada por el modelo"
   ]
  },
  {
   "cell_type": "code",
   "execution_count": 35,
   "metadata": {},
   "outputs": [
    {
     "data": {
      "text/html": [
       "<div>\n",
       "<style scoped>\n",
       "    .dataframe tbody tr th:only-of-type {\n",
       "        vertical-align: middle;\n",
       "    }\n",
       "\n",
       "    .dataframe tbody tr th {\n",
       "        vertical-align: top;\n",
       "    }\n",
       "\n",
       "    .dataframe thead th {\n",
       "        text-align: right;\n",
       "    }\n",
       "</style>\n",
       "<table border=\"1\" class=\"dataframe\">\n",
       "  <thead>\n",
       "    <tr style=\"text-align: right;\">\n",
       "      <th></th>\n",
       "      <th>High</th>\n",
       "      <th>Low</th>\n",
       "      <th>Open</th>\n",
       "      <th>Volume</th>\n",
       "      <th>Adj Close</th>\n",
       "      <th>h_o</th>\n",
       "      <th>pct_chng</th>\n",
       "      <th>CCI</th>\n",
       "      <th>EVM</th>\n",
       "      <th>SMA</th>\n",
       "      <th>EWMA</th>\n",
       "      <th>ROC</th>\n",
       "      <th>UpperBB</th>\n",
       "      <th>LowerBB</th>\n",
       "      <th>ForceIndex</th>\n",
       "    </tr>\n",
       "    <tr>\n",
       "      <th>Date</th>\n",
       "      <th></th>\n",
       "      <th></th>\n",
       "      <th></th>\n",
       "      <th></th>\n",
       "      <th></th>\n",
       "      <th></th>\n",
       "      <th></th>\n",
       "      <th></th>\n",
       "      <th></th>\n",
       "      <th></th>\n",
       "      <th></th>\n",
       "      <th></th>\n",
       "      <th></th>\n",
       "      <th></th>\n",
       "      <th></th>\n",
       "    </tr>\n",
       "  </thead>\n",
       "  <tbody>\n",
       "    <tr>\n",
       "      <th>2020-01-07</th>\n",
       "      <td>28685.500000</td>\n",
       "      <td>28565.279297</td>\n",
       "      <td>28639.179688</td>\n",
       "      <td>258900000</td>\n",
       "      <td>28583.679688</td>\n",
       "      <td>0.003562</td>\n",
       "      <td>-0.001938</td>\n",
       "      <td>-24.764779</td>\n",
       "      <td>-5021.915689</td>\n",
       "      <td>NaN</td>\n",
       "      <td>NaN</td>\n",
       "      <td>-0.009876</td>\n",
       "      <td>28760.764246</td>\n",
       "      <td>28520.530024</td>\n",
       "      <td>-7.381785e+10</td>\n",
       "    </tr>\n",
       "    <tr>\n",
       "      <th>2020-01-08</th>\n",
       "      <td>28866.179688</td>\n",
       "      <td>28522.509766</td>\n",
       "      <td>28556.140625</td>\n",
       "      <td>291750000</td>\n",
       "      <td>28745.089844</td>\n",
       "      <td>0.004213</td>\n",
       "      <td>0.006617</td>\n",
       "      <td>76.973812</td>\n",
       "      <td>1950.458110</td>\n",
       "      <td>NaN</td>\n",
       "      <td>NaN</td>\n",
       "      <td>0.003849</td>\n",
       "      <td>28844.956828</td>\n",
       "      <td>28509.810100</td>\n",
       "      <td>3.215347e+10</td>\n",
       "    </tr>\n",
       "    <tr>\n",
       "      <th>2020-01-09</th>\n",
       "      <td>28988.009766</td>\n",
       "      <td>28844.310547</td>\n",
       "      <td>28851.970703</td>\n",
       "      <td>275060000</td>\n",
       "      <td>28956.900391</td>\n",
       "      <td>0.001074</td>\n",
       "      <td>0.003637</td>\n",
       "      <td>73.275614</td>\n",
       "      <td>7530.960741</td>\n",
       "      <td>NaN</td>\n",
       "      <td>NaN</td>\n",
       "      <td>0.008832</td>\n",
       "      <td>29136.243318</td>\n",
       "      <td>28387.536630</td>\n",
       "      <td>6.973308e+10</td>\n",
       "    </tr>\n",
       "    <tr>\n",
       "      <th>2020-01-10</th>\n",
       "      <td>29009.070312</td>\n",
       "      <td>28789.099609</td>\n",
       "      <td>28977.519531</td>\n",
       "      <td>237830000</td>\n",
       "      <td>28823.769531</td>\n",
       "      <td>0.006429</td>\n",
       "      <td>-0.005306</td>\n",
       "      <td>20.937990</td>\n",
       "      <td>6043.870121</td>\n",
       "      <td>NaN</td>\n",
       "      <td>NaN</td>\n",
       "      <td>0.008400</td>\n",
       "      <td>29056.050765</td>\n",
       "      <td>28627.789079</td>\n",
       "      <td>5.710057e+10</td>\n",
       "    </tr>\n",
       "    <tr>\n",
       "      <th>2020-01-13</th>\n",
       "      <td>28909.910156</td>\n",
       "      <td>28819.429688</td>\n",
       "      <td>28869.009766</td>\n",
       "      <td>249830000</td>\n",
       "      <td>28907.050781</td>\n",
       "      <td>0.000099</td>\n",
       "      <td>0.001318</td>\n",
       "      <td>-33.175950</td>\n",
       "      <td>2920.857569</td>\n",
       "      <td>NaN</td>\n",
       "      <td>NaN</td>\n",
       "      <td>0.005634</td>\n",
       "      <td>29030.429702</td>\n",
       "      <td>28761.384100</td>\n",
       "      <td>4.046270e+10</td>\n",
       "    </tr>\n",
       "    <tr>\n",
       "      <th>...</th>\n",
       "      <td>...</td>\n",
       "      <td>...</td>\n",
       "      <td>...</td>\n",
       "      <td>...</td>\n",
       "      <td>...</td>\n",
       "      <td>...</td>\n",
       "      <td>...</td>\n",
       "      <td>...</td>\n",
       "      <td>...</td>\n",
       "      <td>...</td>\n",
       "      <td>...</td>\n",
       "      <td>...</td>\n",
       "      <td>...</td>\n",
       "      <td>...</td>\n",
       "      <td>...</td>\n",
       "    </tr>\n",
       "    <tr>\n",
       "      <th>2020-07-20</th>\n",
       "      <td>26765.019531</td>\n",
       "      <td>26504.199219</td>\n",
       "      <td>26660.289062</td>\n",
       "      <td>309390000</td>\n",
       "      <td>26680.869141</td>\n",
       "      <td>0.003154</td>\n",
       "      <td>0.000772</td>\n",
       "      <td>-70.349313</td>\n",
       "      <td>-7610.177540</td>\n",
       "      <td>NaN</td>\n",
       "      <td>NaN</td>\n",
       "      <td>-0.007042</td>\n",
       "      <td>26763.752536</td>\n",
       "      <td>26627.933662</td>\n",
       "      <td>-5.854601e+10</td>\n",
       "    </tr>\n",
       "    <tr>\n",
       "      <th>2020-07-21</th>\n",
       "      <td>27025.380859</td>\n",
       "      <td>26766.220703</td>\n",
       "      <td>26833.140625</td>\n",
       "      <td>364930000</td>\n",
       "      <td>26840.400391</td>\n",
       "      <td>0.006892</td>\n",
       "      <td>0.000271</td>\n",
       "      <td>75.270806</td>\n",
       "      <td>3514.569312</td>\n",
       "      <td>NaN</td>\n",
       "      <td>NaN</td>\n",
       "      <td>0.003953</td>\n",
       "      <td>26920.643628</td>\n",
       "      <td>26541.502205</td>\n",
       "      <td>3.856925e+10</td>\n",
       "    </tr>\n",
       "    <tr>\n",
       "      <th>2020-07-22</th>\n",
       "      <td>27035.240234</td>\n",
       "      <td>26794.189453</td>\n",
       "      <td>26824.560547</td>\n",
       "      <td>404340000</td>\n",
       "      <td>27005.839844</td>\n",
       "      <td>0.001089</td>\n",
       "      <td>0.006758</td>\n",
       "      <td>52.167273</td>\n",
       "      <td>4323.538690</td>\n",
       "      <td>NaN</td>\n",
       "      <td>NaN</td>\n",
       "      <td>0.012518</td>\n",
       "      <td>27167.358397</td>\n",
       "      <td>26517.381186</td>\n",
       "      <td>1.350053e+11</td>\n",
       "    </tr>\n",
       "    <tr>\n",
       "      <th>2020-07-23</th>\n",
       "      <td>26973.849609</td>\n",
       "      <td>26560.039062</td>\n",
       "      <td>26955.970703</td>\n",
       "      <td>419800000</td>\n",
       "      <td>26652.330078</td>\n",
       "      <td>0.012063</td>\n",
       "      <td>-0.011264</td>\n",
       "      <td>-73.284095</td>\n",
       "      <td>1703.410454</td>\n",
       "      <td>NaN</td>\n",
       "      <td>NaN</td>\n",
       "      <td>-0.001070</td>\n",
       "      <td>27186.607916</td>\n",
       "      <td>26479.105625</td>\n",
       "      <td>-1.198070e+10</td>\n",
       "    </tr>\n",
       "    <tr>\n",
       "      <th>2020-07-24</th>\n",
       "      <td>26625.699219</td>\n",
       "      <td>26402.859375</td>\n",
       "      <td>26533.410156</td>\n",
       "      <td>494170000</td>\n",
       "      <td>26469.890625</td>\n",
       "      <td>0.005886</td>\n",
       "      <td>-0.002394</td>\n",
       "      <td>-67.300887</td>\n",
       "      <td>-8277.419905</td>\n",
       "      <td>NaN</td>\n",
       "      <td>NaN</td>\n",
       "      <td>-0.013804</td>\n",
       "      <td>27254.327444</td>\n",
       "      <td>26164.379587</td>\n",
       "      <td>-1.830948e+11</td>\n",
       "    </tr>\n",
       "  </tbody>\n",
       "</table>\n",
       "<p>139 rows × 15 columns</p>\n",
       "</div>"
      ],
      "text/plain": [
       "                    High           Low          Open     Volume     Adj Close  \\\n",
       "Date                                                                            \n",
       "2020-01-07  28685.500000  28565.279297  28639.179688  258900000  28583.679688   \n",
       "2020-01-08  28866.179688  28522.509766  28556.140625  291750000  28745.089844   \n",
       "2020-01-09  28988.009766  28844.310547  28851.970703  275060000  28956.900391   \n",
       "2020-01-10  29009.070312  28789.099609  28977.519531  237830000  28823.769531   \n",
       "2020-01-13  28909.910156  28819.429688  28869.009766  249830000  28907.050781   \n",
       "...                  ...           ...           ...        ...           ...   \n",
       "2020-07-20  26765.019531  26504.199219  26660.289062  309390000  26680.869141   \n",
       "2020-07-21  27025.380859  26766.220703  26833.140625  364930000  26840.400391   \n",
       "2020-07-22  27035.240234  26794.189453  26824.560547  404340000  27005.839844   \n",
       "2020-07-23  26973.849609  26560.039062  26955.970703  419800000  26652.330078   \n",
       "2020-07-24  26625.699219  26402.859375  26533.410156  494170000  26469.890625   \n",
       "\n",
       "                 h_o  pct_chng        CCI          EVM  SMA  EWMA       ROC  \\\n",
       "Date                                                                          \n",
       "2020-01-07  0.003562 -0.001938 -24.764779 -5021.915689  NaN   NaN -0.009876   \n",
       "2020-01-08  0.004213  0.006617  76.973812  1950.458110  NaN   NaN  0.003849   \n",
       "2020-01-09  0.001074  0.003637  73.275614  7530.960741  NaN   NaN  0.008832   \n",
       "2020-01-10  0.006429 -0.005306  20.937990  6043.870121  NaN   NaN  0.008400   \n",
       "2020-01-13  0.000099  0.001318 -33.175950  2920.857569  NaN   NaN  0.005634   \n",
       "...              ...       ...        ...          ...  ...   ...       ...   \n",
       "2020-07-20  0.003154  0.000772 -70.349313 -7610.177540  NaN   NaN -0.007042   \n",
       "2020-07-21  0.006892  0.000271  75.270806  3514.569312  NaN   NaN  0.003953   \n",
       "2020-07-22  0.001089  0.006758  52.167273  4323.538690  NaN   NaN  0.012518   \n",
       "2020-07-23  0.012063 -0.011264 -73.284095  1703.410454  NaN   NaN -0.001070   \n",
       "2020-07-24  0.005886 -0.002394 -67.300887 -8277.419905  NaN   NaN -0.013804   \n",
       "\n",
       "                 UpperBB       LowerBB    ForceIndex  \n",
       "Date                                                  \n",
       "2020-01-07  28760.764246  28520.530024 -7.381785e+10  \n",
       "2020-01-08  28844.956828  28509.810100  3.215347e+10  \n",
       "2020-01-09  29136.243318  28387.536630  6.973308e+10  \n",
       "2020-01-10  29056.050765  28627.789079  5.710057e+10  \n",
       "2020-01-13  29030.429702  28761.384100  4.046270e+10  \n",
       "...                  ...           ...           ...  \n",
       "2020-07-20  26763.752536  26627.933662 -5.854601e+10  \n",
       "2020-07-21  26920.643628  26541.502205  3.856925e+10  \n",
       "2020-07-22  27167.358397  26517.381186  1.350053e+11  \n",
       "2020-07-23  27186.607916  26479.105625 -1.198070e+10  \n",
       "2020-07-24  27254.327444  26164.379587 -1.830948e+11  \n",
       "\n",
       "[139 rows x 15 columns]"
      ]
     },
     "execution_count": 35,
     "metadata": {},
     "output_type": "execute_result"
    }
   ],
   "source": [
    "test_df.iloc[3:,:]"
   ]
  },
  {
   "cell_type": "code",
   "execution_count": 36,
   "metadata": {},
   "outputs": [
    {
     "data": {
      "text/plain": [
       "array([[28583.6796875 ],\n",
       "       [28745.08984375],\n",
       "       [28956.90039062],\n",
       "       [28823.76953125],\n",
       "       [28907.05078125],\n",
       "       [28939.66992188],\n",
       "       [29030.22070312],\n",
       "       [29297.640625  ],\n",
       "       [29348.09960937],\n",
       "       [29196.0390625 ],\n",
       "       [29186.26953125],\n",
       "       [29160.08984375],\n",
       "       [28989.73046875],\n",
       "       [28535.80078125],\n",
       "       [28722.84960937],\n",
       "       [28734.44921875],\n",
       "       [28859.43945312],\n",
       "       [28256.02929688],\n",
       "       [28399.81054688],\n",
       "       [28807.63085938],\n",
       "       [29290.84960938],\n",
       "       [29379.76953125],\n",
       "       [29102.50976563],\n",
       "       [29276.8203125 ],\n",
       "       [29276.33984375],\n",
       "       [29551.41992188],\n",
       "       [29423.31054688],\n",
       "       [29398.08007813],\n",
       "       [29232.18945312],\n",
       "       [29348.02929688],\n",
       "       [29219.98046875],\n",
       "       [28992.41015625],\n",
       "       [27960.80078125],\n",
       "       [27081.359375  ],\n",
       "       [26957.58984375],\n",
       "       [25766.640625  ],\n",
       "       [25409.359375  ],\n",
       "       [26703.3203125 ],\n",
       "       [25917.41015625],\n",
       "       [27090.859375  ],\n",
       "       [26121.27929688],\n",
       "       [25864.77929688],\n",
       "       [23851.01953125],\n",
       "       [25018.16015625],\n",
       "       [23553.22070312],\n",
       "       [21200.61914062],\n",
       "       [23185.61914062],\n",
       "       [20188.51953125],\n",
       "       [21237.38085938],\n",
       "       [19898.91992188],\n",
       "       [20087.18945312],\n",
       "       [19173.98046875],\n",
       "       [18591.9296875 ],\n",
       "       [20704.91015625],\n",
       "       [21200.55078125],\n",
       "       [22552.16992188],\n",
       "       [21636.77929688],\n",
       "       [22327.48046875],\n",
       "       [21917.16015625],\n",
       "       [20943.50976562],\n",
       "       [21413.43945312],\n",
       "       [21052.52929688],\n",
       "       [22679.99023438],\n",
       "       [22653.859375  ],\n",
       "       [23433.5703125 ],\n",
       "       [23719.36914062],\n",
       "       [23390.76953125],\n",
       "       [23949.75976562],\n",
       "       [23504.34960938],\n",
       "       [23537.6796875 ],\n",
       "       [24242.49023438],\n",
       "       [23650.43945312],\n",
       "       [23018.88085938],\n",
       "       [23475.8203125 ],\n",
       "       [23515.25976562],\n",
       "       [23775.26953125],\n",
       "       [24133.77929688],\n",
       "       [24101.55078125],\n",
       "       [24633.859375  ],\n",
       "       [24345.72070312],\n",
       "       [23723.68945312],\n",
       "       [23749.75976562],\n",
       "       [23883.08984375],\n",
       "       [23664.640625  ],\n",
       "       [23875.890625  ],\n",
       "       [24331.3203125 ],\n",
       "       [24221.99023438],\n",
       "       [23764.77929688],\n",
       "       [23247.97070312],\n",
       "       [23625.33984375],\n",
       "       [23685.41992188],\n",
       "       [24597.36914062],\n",
       "       [24206.859375  ],\n",
       "       [24575.90039062],\n",
       "       [24474.11914062],\n",
       "       [24465.16015625],\n",
       "       [24995.109375  ],\n",
       "       [25548.26953125],\n",
       "       [25400.640625  ],\n",
       "       [25383.109375  ],\n",
       "       [25475.01953125],\n",
       "       [25742.65039062],\n",
       "       [26269.890625  ],\n",
       "       [26281.8203125 ],\n",
       "       [27110.98046875],\n",
       "       [27572.43945312],\n",
       "       [27272.30078125],\n",
       "       [26989.99023438],\n",
       "       [25128.16992188],\n",
       "       [25605.5390625 ],\n",
       "       [25763.16015625],\n",
       "       [26289.98046875],\n",
       "       [26119.609375  ],\n",
       "       [26080.09960938],\n",
       "       [25871.4609375 ],\n",
       "       [26024.9609375 ],\n",
       "       [26156.09960938],\n",
       "       [25445.93945312],\n",
       "       [25745.59960938],\n",
       "       [25015.55078125],\n",
       "       [25595.80078125],\n",
       "       [25812.88085938],\n",
       "       [25734.97070312],\n",
       "       [25827.359375  ],\n",
       "       [26287.02929687],\n",
       "       [25890.1796875 ],\n",
       "       [26067.27929687],\n",
       "       [25706.08984375],\n",
       "       [26075.30078125],\n",
       "       [26085.80078125],\n",
       "       [26642.58984375],\n",
       "       [26870.09960938],\n",
       "       [26734.7109375 ],\n",
       "       [26671.94921875],\n",
       "       [26680.86914063],\n",
       "       [26840.40039063],\n",
       "       [27005.83984375],\n",
       "       [26652.33007813],\n",
       "       [26469.890625  ]])"
      ]
     },
     "execution_count": 36,
     "metadata": {},
     "output_type": "execute_result"
    }
   ],
   "source": [
    "org_y"
   ]
  },
  {
   "cell_type": "code",
   "execution_count": 37,
   "metadata": {},
   "outputs": [
    {
     "data": {
      "text/plain": [
       "array([[28242.133],\n",
       "       [28148.672],\n",
       "       [28167.615],\n",
       "       [28211.326],\n",
       "       [28318.68 ],\n",
       "       [28375.625],\n",
       "       [28355.533],\n",
       "       [28415.875],\n",
       "       [28507.477],\n",
       "       [28638.04 ],\n",
       "       [28731.445],\n",
       "       [28701.105],\n",
       "       [28633.139],\n",
       "       [28589.33 ],\n",
       "       [28440.27 ],\n",
       "       [28262.062],\n",
       "       [28143.588],\n",
       "       [28245.121],\n",
       "       [28177.352],\n",
       "       [28060.01 ],\n",
       "       [27941.48 ],\n",
       "       [28220.516],\n",
       "       [28553.762],\n",
       "       [28721.535],\n",
       "       [28700.572],\n",
       "       [28646.639],\n",
       "       [28766.184],\n",
       "       [28829.791],\n",
       "       [28892.564],\n",
       "       [28803.523],\n",
       "       [28762.254],\n",
       "       [28710.053],\n",
       "       [28672.793],\n",
       "       [28357.99 ],\n",
       "       [27771.477],\n",
       "       [27046.361],\n",
       "       [26420.998],\n",
       "       [25908.541],\n",
       "       [25543.97 ],\n",
       "       [25675.488],\n",
       "       [26174.732],\n",
       "       [26053.623],\n",
       "       [26167.758],\n",
       "       [25295.594],\n",
       "       [24739.018],\n",
       "       [23998.312],\n",
       "       [23542.158],\n",
       "       [22499.586],\n",
       "       [21575.256],\n",
       "       [21612.203],\n",
       "       [20402.076],\n",
       "       [20435.693],\n",
       "       [19732.627],\n",
       "       [19384.049],\n",
       "       [19194.777],\n",
       "       [19772.148],\n",
       "       [21138.768],\n",
       "       [21641.104],\n",
       "       [22048.182],\n",
       "       [21808.244],\n",
       "       [21775.809],\n",
       "       [21354.338],\n",
       "       [21020.777],\n",
       "       [21421.814],\n",
       "       [21821.156],\n",
       "       [22669.047],\n",
       "       [22980.543],\n",
       "       [23347.805],\n",
       "       [23467.14 ],\n",
       "       [23430.105],\n",
       "       [23523.748],\n",
       "       [23482.436],\n",
       "       [23620.824],\n",
       "       [23597.217],\n",
       "       [23218.621],\n",
       "       [23111.592],\n",
       "       [23371.41 ],\n",
       "       [23546.686],\n",
       "       [23772.96 ],\n",
       "       [24017.969],\n",
       "       [24128.43 ],\n",
       "       [24135.777],\n",
       "       [23808.088],\n",
       "       [23578.018],\n",
       "       [23591.867],\n",
       "       [23615.654],\n",
       "       [23683.088],\n",
       "       [23906.186],\n",
       "       [23973.648],\n",
       "       [23671.818],\n",
       "       [23374.686],\n",
       "       [23293.932],\n",
       "       [23653.531],\n",
       "       [23912.521],\n",
       "       [24238.732],\n",
       "       [24178.375],\n",
       "       [24298.4  ],\n",
       "       [24355.17 ],\n",
       "       [24637.338],\n",
       "       [25017.262],\n",
       "       [25195.9  ],\n",
       "       [25146.035],\n",
       "       [25221.041],\n",
       "       [25450.346],\n",
       "       [25739.537],\n",
       "       [26120.45 ],\n",
       "       [26487.402],\n",
       "       [26920.91 ],\n",
       "       [26957.04 ],\n",
       "       [26388.625],\n",
       "       [25747.77 ],\n",
       "       [25162.111],\n",
       "       [25515.393],\n",
       "       [25723.602],\n",
       "       [25877.717],\n",
       "       [25754.062],\n",
       "       [25697.754],\n",
       "       [25687.385],\n",
       "       [25658.488],\n",
       "       [25534.107],\n",
       "       [25197.72 ],\n",
       "       [25190.559],\n",
       "       [25121.334],\n",
       "       [25421.174],\n",
       "       [25503.336],\n",
       "       [25590.053],\n",
       "       [25705.234],\n",
       "       [25797.883],\n",
       "       [25622.871],\n",
       "       [25647.082],\n",
       "       [25621.97 ],\n",
       "       [25885.39 ],\n",
       "       [26117.88 ],\n",
       "       [26396.377],\n",
       "       [26433.188],\n",
       "       [26358.604],\n",
       "       [26366.17 ],\n",
       "       [26453.96 ],\n",
       "       [26506.572]], dtype=float32)"
      ]
     },
     "execution_count": 37,
     "metadata": {},
     "output_type": "execute_result"
    }
   ],
   "source": [
    "predicted_y_transform"
   ]
  },
  {
   "cell_type": "code",
   "execution_count": 38,
   "metadata": {},
   "outputs": [],
   "source": [
    "def ComparaValor(dataset):\n",
    "    result=[]\n",
    "    \n",
    "    i=0\n",
    "    for i in range(len(dataset)-1):\n",
    "        x = dataset[i]\n",
    "        y = dataset[i+1]\n",
    "        if x>y:\n",
    "            result.append(0)\n",
    "        elif x<y:\n",
    "            result.append(1)\n",
    "       \n",
    "    return result"
   ]
  },
  {
   "cell_type": "code",
   "execution_count": 39,
   "metadata": {},
   "outputs": [],
   "source": [
    "resultadoTest=ComparaValor(predicted_y_transform)\n",
    "resultadoReal=ComparaValor(org_y)\n",
    "\n",
    "               "
   ]
  },
  {
   "cell_type": "code",
   "execution_count": 40,
   "metadata": {},
   "outputs": [],
   "source": [
    "def calculoAcierto(datasetTest,datasetTrain):\n",
    "    c = np.equal(datasetTest,datasetTrain)\n",
    "    contUnos=0\n",
    "    contCeros=0\n",
    "    for i in range(len(c)):\n",
    "\n",
    "        if (c[i]==True):\n",
    "            c[i]=1\n",
    "            contUnos=contUnos+1\n",
    "        else:\n",
    "            c[i]=0\n",
    "            contCeros=contCeros+1\n",
    "    porcentaje=(contUnos/(contUnos+contCeros))*100\n",
    "    return porcentaje,contUnos,contCeros"
   ]
  },
  {
   "cell_type": "code",
   "execution_count": 41,
   "metadata": {},
   "outputs": [],
   "source": [
    "pAcierto,aciertos,fallos=calculoAcierto(resultadoTest,resultadoReal)"
   ]
  },
  {
   "cell_type": "code",
   "execution_count": 42,
   "metadata": {},
   "outputs": [
    {
     "data": {
      "text/plain": [
       "59"
      ]
     },
     "execution_count": 42,
     "metadata": {},
     "output_type": "execute_result"
    }
   ],
   "source": [
    "aciertos"
   ]
  },
  {
   "cell_type": "code",
   "execution_count": 43,
   "metadata": {},
   "outputs": [
    {
     "data": {
      "text/plain": [
       "79"
      ]
     },
     "execution_count": 43,
     "metadata": {},
     "output_type": "execute_result"
    }
   ],
   "source": [
    "fallos"
   ]
  },
  {
   "cell_type": "code",
   "execution_count": 44,
   "metadata": {},
   "outputs": [
    {
     "data": {
      "text/plain": [
       "42.7536231884058"
      ]
     },
     "execution_count": 44,
     "metadata": {},
     "output_type": "execute_result"
    }
   ],
   "source": [
    "pAcierto"
   ]
  },
  {
   "cell_type": "code",
   "execution_count": 50,
   "metadata": {},
   "outputs": [
    {
     "data": {
      "application/vnd.plotly.v1+json": {
       "config": {
        "plotlyServerURL": "https://plot.ly"
       },
       "data": [
        {
         "hole": 0.3,
         "labels": [
          "aciertos",
          "fallos"
         ],
         "marker": {
          "colors": [
           "lightgreen",
           "darkorange"
          ],
          "line": {
           "color": "#000000",
           "width": 2
          }
         },
         "type": "pie",
         "values": [
          42.7536231884058,
          57.2463768115942
         ]
        }
       ],
       "layout": {
        "template": {
         "data": {
          "bar": [
           {
            "error_x": {
             "color": "#2a3f5f"
            },
            "error_y": {
             "color": "#2a3f5f"
            },
            "marker": {
             "line": {
              "color": "#E5ECF6",
              "width": 0.5
             }
            },
            "type": "bar"
           }
          ],
          "barpolar": [
           {
            "marker": {
             "line": {
              "color": "#E5ECF6",
              "width": 0.5
             }
            },
            "type": "barpolar"
           }
          ],
          "carpet": [
           {
            "aaxis": {
             "endlinecolor": "#2a3f5f",
             "gridcolor": "white",
             "linecolor": "white",
             "minorgridcolor": "white",
             "startlinecolor": "#2a3f5f"
            },
            "baxis": {
             "endlinecolor": "#2a3f5f",
             "gridcolor": "white",
             "linecolor": "white",
             "minorgridcolor": "white",
             "startlinecolor": "#2a3f5f"
            },
            "type": "carpet"
           }
          ],
          "choropleth": [
           {
            "colorbar": {
             "outlinewidth": 0,
             "ticks": ""
            },
            "type": "choropleth"
           }
          ],
          "contour": [
           {
            "colorbar": {
             "outlinewidth": 0,
             "ticks": ""
            },
            "colorscale": [
             [
              0,
              "#0d0887"
             ],
             [
              0.1111111111111111,
              "#46039f"
             ],
             [
              0.2222222222222222,
              "#7201a8"
             ],
             [
              0.3333333333333333,
              "#9c179e"
             ],
             [
              0.4444444444444444,
              "#bd3786"
             ],
             [
              0.5555555555555556,
              "#d8576b"
             ],
             [
              0.6666666666666666,
              "#ed7953"
             ],
             [
              0.7777777777777778,
              "#fb9f3a"
             ],
             [
              0.8888888888888888,
              "#fdca26"
             ],
             [
              1,
              "#f0f921"
             ]
            ],
            "type": "contour"
           }
          ],
          "contourcarpet": [
           {
            "colorbar": {
             "outlinewidth": 0,
             "ticks": ""
            },
            "type": "contourcarpet"
           }
          ],
          "heatmap": [
           {
            "colorbar": {
             "outlinewidth": 0,
             "ticks": ""
            },
            "colorscale": [
             [
              0,
              "#0d0887"
             ],
             [
              0.1111111111111111,
              "#46039f"
             ],
             [
              0.2222222222222222,
              "#7201a8"
             ],
             [
              0.3333333333333333,
              "#9c179e"
             ],
             [
              0.4444444444444444,
              "#bd3786"
             ],
             [
              0.5555555555555556,
              "#d8576b"
             ],
             [
              0.6666666666666666,
              "#ed7953"
             ],
             [
              0.7777777777777778,
              "#fb9f3a"
             ],
             [
              0.8888888888888888,
              "#fdca26"
             ],
             [
              1,
              "#f0f921"
             ]
            ],
            "type": "heatmap"
           }
          ],
          "heatmapgl": [
           {
            "colorbar": {
             "outlinewidth": 0,
             "ticks": ""
            },
            "colorscale": [
             [
              0,
              "#0d0887"
             ],
             [
              0.1111111111111111,
              "#46039f"
             ],
             [
              0.2222222222222222,
              "#7201a8"
             ],
             [
              0.3333333333333333,
              "#9c179e"
             ],
             [
              0.4444444444444444,
              "#bd3786"
             ],
             [
              0.5555555555555556,
              "#d8576b"
             ],
             [
              0.6666666666666666,
              "#ed7953"
             ],
             [
              0.7777777777777778,
              "#fb9f3a"
             ],
             [
              0.8888888888888888,
              "#fdca26"
             ],
             [
              1,
              "#f0f921"
             ]
            ],
            "type": "heatmapgl"
           }
          ],
          "histogram": [
           {
            "marker": {
             "colorbar": {
              "outlinewidth": 0,
              "ticks": ""
             }
            },
            "type": "histogram"
           }
          ],
          "histogram2d": [
           {
            "colorbar": {
             "outlinewidth": 0,
             "ticks": ""
            },
            "colorscale": [
             [
              0,
              "#0d0887"
             ],
             [
              0.1111111111111111,
              "#46039f"
             ],
             [
              0.2222222222222222,
              "#7201a8"
             ],
             [
              0.3333333333333333,
              "#9c179e"
             ],
             [
              0.4444444444444444,
              "#bd3786"
             ],
             [
              0.5555555555555556,
              "#d8576b"
             ],
             [
              0.6666666666666666,
              "#ed7953"
             ],
             [
              0.7777777777777778,
              "#fb9f3a"
             ],
             [
              0.8888888888888888,
              "#fdca26"
             ],
             [
              1,
              "#f0f921"
             ]
            ],
            "type": "histogram2d"
           }
          ],
          "histogram2dcontour": [
           {
            "colorbar": {
             "outlinewidth": 0,
             "ticks": ""
            },
            "colorscale": [
             [
              0,
              "#0d0887"
             ],
             [
              0.1111111111111111,
              "#46039f"
             ],
             [
              0.2222222222222222,
              "#7201a8"
             ],
             [
              0.3333333333333333,
              "#9c179e"
             ],
             [
              0.4444444444444444,
              "#bd3786"
             ],
             [
              0.5555555555555556,
              "#d8576b"
             ],
             [
              0.6666666666666666,
              "#ed7953"
             ],
             [
              0.7777777777777778,
              "#fb9f3a"
             ],
             [
              0.8888888888888888,
              "#fdca26"
             ],
             [
              1,
              "#f0f921"
             ]
            ],
            "type": "histogram2dcontour"
           }
          ],
          "mesh3d": [
           {
            "colorbar": {
             "outlinewidth": 0,
             "ticks": ""
            },
            "type": "mesh3d"
           }
          ],
          "parcoords": [
           {
            "line": {
             "colorbar": {
              "outlinewidth": 0,
              "ticks": ""
             }
            },
            "type": "parcoords"
           }
          ],
          "pie": [
           {
            "automargin": true,
            "type": "pie"
           }
          ],
          "scatter": [
           {
            "marker": {
             "colorbar": {
              "outlinewidth": 0,
              "ticks": ""
             }
            },
            "type": "scatter"
           }
          ],
          "scatter3d": [
           {
            "line": {
             "colorbar": {
              "outlinewidth": 0,
              "ticks": ""
             }
            },
            "marker": {
             "colorbar": {
              "outlinewidth": 0,
              "ticks": ""
             }
            },
            "type": "scatter3d"
           }
          ],
          "scattercarpet": [
           {
            "marker": {
             "colorbar": {
              "outlinewidth": 0,
              "ticks": ""
             }
            },
            "type": "scattercarpet"
           }
          ],
          "scattergeo": [
           {
            "marker": {
             "colorbar": {
              "outlinewidth": 0,
              "ticks": ""
             }
            },
            "type": "scattergeo"
           }
          ],
          "scattergl": [
           {
            "marker": {
             "colorbar": {
              "outlinewidth": 0,
              "ticks": ""
             }
            },
            "type": "scattergl"
           }
          ],
          "scattermapbox": [
           {
            "marker": {
             "colorbar": {
              "outlinewidth": 0,
              "ticks": ""
             }
            },
            "type": "scattermapbox"
           }
          ],
          "scatterpolar": [
           {
            "marker": {
             "colorbar": {
              "outlinewidth": 0,
              "ticks": ""
             }
            },
            "type": "scatterpolar"
           }
          ],
          "scatterpolargl": [
           {
            "marker": {
             "colorbar": {
              "outlinewidth": 0,
              "ticks": ""
             }
            },
            "type": "scatterpolargl"
           }
          ],
          "scatterternary": [
           {
            "marker": {
             "colorbar": {
              "outlinewidth": 0,
              "ticks": ""
             }
            },
            "type": "scatterternary"
           }
          ],
          "surface": [
           {
            "colorbar": {
             "outlinewidth": 0,
             "ticks": ""
            },
            "colorscale": [
             [
              0,
              "#0d0887"
             ],
             [
              0.1111111111111111,
              "#46039f"
             ],
             [
              0.2222222222222222,
              "#7201a8"
             ],
             [
              0.3333333333333333,
              "#9c179e"
             ],
             [
              0.4444444444444444,
              "#bd3786"
             ],
             [
              0.5555555555555556,
              "#d8576b"
             ],
             [
              0.6666666666666666,
              "#ed7953"
             ],
             [
              0.7777777777777778,
              "#fb9f3a"
             ],
             [
              0.8888888888888888,
              "#fdca26"
             ],
             [
              1,
              "#f0f921"
             ]
            ],
            "type": "surface"
           }
          ],
          "table": [
           {
            "cells": {
             "fill": {
              "color": "#EBF0F8"
             },
             "line": {
              "color": "white"
             }
            },
            "header": {
             "fill": {
              "color": "#C8D4E3"
             },
             "line": {
              "color": "white"
             }
            },
            "type": "table"
           }
          ]
         },
         "layout": {
          "annotationdefaults": {
           "arrowcolor": "#2a3f5f",
           "arrowhead": 0,
           "arrowwidth": 1
          },
          "coloraxis": {
           "colorbar": {
            "outlinewidth": 0,
            "ticks": ""
           }
          },
          "colorscale": {
           "diverging": [
            [
             0,
             "#8e0152"
            ],
            [
             0.1,
             "#c51b7d"
            ],
            [
             0.2,
             "#de77ae"
            ],
            [
             0.3,
             "#f1b6da"
            ],
            [
             0.4,
             "#fde0ef"
            ],
            [
             0.5,
             "#f7f7f7"
            ],
            [
             0.6,
             "#e6f5d0"
            ],
            [
             0.7,
             "#b8e186"
            ],
            [
             0.8,
             "#7fbc41"
            ],
            [
             0.9,
             "#4d9221"
            ],
            [
             1,
             "#276419"
            ]
           ],
           "sequential": [
            [
             0,
             "#0d0887"
            ],
            [
             0.1111111111111111,
             "#46039f"
            ],
            [
             0.2222222222222222,
             "#7201a8"
            ],
            [
             0.3333333333333333,
             "#9c179e"
            ],
            [
             0.4444444444444444,
             "#bd3786"
            ],
            [
             0.5555555555555556,
             "#d8576b"
            ],
            [
             0.6666666666666666,
             "#ed7953"
            ],
            [
             0.7777777777777778,
             "#fb9f3a"
            ],
            [
             0.8888888888888888,
             "#fdca26"
            ],
            [
             1,
             "#f0f921"
            ]
           ],
           "sequentialminus": [
            [
             0,
             "#0d0887"
            ],
            [
             0.1111111111111111,
             "#46039f"
            ],
            [
             0.2222222222222222,
             "#7201a8"
            ],
            [
             0.3333333333333333,
             "#9c179e"
            ],
            [
             0.4444444444444444,
             "#bd3786"
            ],
            [
             0.5555555555555556,
             "#d8576b"
            ],
            [
             0.6666666666666666,
             "#ed7953"
            ],
            [
             0.7777777777777778,
             "#fb9f3a"
            ],
            [
             0.8888888888888888,
             "#fdca26"
            ],
            [
             1,
             "#f0f921"
            ]
           ]
          },
          "colorway": [
           "#636efa",
           "#EF553B",
           "#00cc96",
           "#ab63fa",
           "#FFA15A",
           "#19d3f3",
           "#FF6692",
           "#B6E880",
           "#FF97FF",
           "#FECB52"
          ],
          "font": {
           "color": "#2a3f5f"
          },
          "geo": {
           "bgcolor": "white",
           "lakecolor": "white",
           "landcolor": "#E5ECF6",
           "showlakes": true,
           "showland": true,
           "subunitcolor": "white"
          },
          "hoverlabel": {
           "align": "left"
          },
          "hovermode": "closest",
          "mapbox": {
           "style": "light"
          },
          "paper_bgcolor": "white",
          "plot_bgcolor": "#E5ECF6",
          "polar": {
           "angularaxis": {
            "gridcolor": "white",
            "linecolor": "white",
            "ticks": ""
           },
           "bgcolor": "#E5ECF6",
           "radialaxis": {
            "gridcolor": "white",
            "linecolor": "white",
            "ticks": ""
           }
          },
          "scene": {
           "xaxis": {
            "backgroundcolor": "#E5ECF6",
            "gridcolor": "white",
            "gridwidth": 2,
            "linecolor": "white",
            "showbackground": true,
            "ticks": "",
            "zerolinecolor": "white"
           },
           "yaxis": {
            "backgroundcolor": "#E5ECF6",
            "gridcolor": "white",
            "gridwidth": 2,
            "linecolor": "white",
            "showbackground": true,
            "ticks": "",
            "zerolinecolor": "white"
           },
           "zaxis": {
            "backgroundcolor": "#E5ECF6",
            "gridcolor": "white",
            "gridwidth": 2,
            "linecolor": "white",
            "showbackground": true,
            "ticks": "",
            "zerolinecolor": "white"
           }
          },
          "shapedefaults": {
           "line": {
            "color": "#2a3f5f"
           }
          },
          "ternary": {
           "aaxis": {
            "gridcolor": "white",
            "linecolor": "white",
            "ticks": ""
           },
           "baxis": {
            "gridcolor": "white",
            "linecolor": "white",
            "ticks": ""
           },
           "bgcolor": "#E5ECF6",
           "caxis": {
            "gridcolor": "white",
            "linecolor": "white",
            "ticks": ""
           }
          },
          "title": {
           "x": 0.05
          },
          "xaxis": {
           "automargin": true,
           "gridcolor": "white",
           "linecolor": "white",
           "ticks": "",
           "title": {
            "standoff": 15
           },
           "zerolinecolor": "white",
           "zerolinewidth": 2
          },
          "yaxis": {
           "automargin": true,
           "gridcolor": "white",
           "linecolor": "white",
           "ticks": "",
           "title": {
            "standoff": 15
           },
           "zerolinecolor": "white",
           "zerolinewidth": 2
          }
         }
        }
       }
      },
      "text/html": [
       "<div>\n",
       "        \n",
       "        \n",
       "            <div id=\"db4632ff-39f7-47e5-94ab-a41071d62edf\" class=\"plotly-graph-div\" style=\"height:525px; width:100%;\"></div>\n",
       "            <script type=\"text/javascript\">\n",
       "                require([\"plotly\"], function(Plotly) {\n",
       "                    window.PLOTLYENV=window.PLOTLYENV || {};\n",
       "                    \n",
       "                if (document.getElementById(\"db4632ff-39f7-47e5-94ab-a41071d62edf\")) {\n",
       "                    Plotly.newPlot(\n",
       "                        'db4632ff-39f7-47e5-94ab-a41071d62edf',\n",
       "                        [{\"hole\": 0.3, \"labels\": [\"aciertos\", \"fallos\"], \"marker\": {\"colors\": [\"lightgreen\", \"darkorange\"], \"line\": {\"color\": \"#000000\", \"width\": 2}}, \"type\": \"pie\", \"values\": [42.7536231884058, 57.2463768115942]}],\n",
       "                        {\"template\": {\"data\": {\"bar\": [{\"error_x\": {\"color\": \"#2a3f5f\"}, \"error_y\": {\"color\": \"#2a3f5f\"}, \"marker\": {\"line\": {\"color\": \"#E5ECF6\", \"width\": 0.5}}, \"type\": \"bar\"}], \"barpolar\": [{\"marker\": {\"line\": {\"color\": \"#E5ECF6\", \"width\": 0.5}}, \"type\": \"barpolar\"}], \"carpet\": [{\"aaxis\": {\"endlinecolor\": \"#2a3f5f\", \"gridcolor\": \"white\", \"linecolor\": \"white\", \"minorgridcolor\": \"white\", \"startlinecolor\": \"#2a3f5f\"}, \"baxis\": {\"endlinecolor\": \"#2a3f5f\", \"gridcolor\": \"white\", \"linecolor\": \"white\", \"minorgridcolor\": \"white\", \"startlinecolor\": \"#2a3f5f\"}, \"type\": \"carpet\"}], \"choropleth\": [{\"colorbar\": {\"outlinewidth\": 0, \"ticks\": \"\"}, \"type\": \"choropleth\"}], \"contour\": [{\"colorbar\": {\"outlinewidth\": 0, \"ticks\": \"\"}, \"colorscale\": [[0.0, \"#0d0887\"], [0.1111111111111111, \"#46039f\"], [0.2222222222222222, \"#7201a8\"], [0.3333333333333333, \"#9c179e\"], [0.4444444444444444, \"#bd3786\"], [0.5555555555555556, \"#d8576b\"], [0.6666666666666666, \"#ed7953\"], [0.7777777777777778, \"#fb9f3a\"], [0.8888888888888888, \"#fdca26\"], [1.0, \"#f0f921\"]], \"type\": \"contour\"}], \"contourcarpet\": [{\"colorbar\": {\"outlinewidth\": 0, \"ticks\": \"\"}, \"type\": \"contourcarpet\"}], \"heatmap\": [{\"colorbar\": {\"outlinewidth\": 0, \"ticks\": \"\"}, \"colorscale\": [[0.0, \"#0d0887\"], [0.1111111111111111, \"#46039f\"], [0.2222222222222222, \"#7201a8\"], [0.3333333333333333, \"#9c179e\"], [0.4444444444444444, \"#bd3786\"], [0.5555555555555556, \"#d8576b\"], [0.6666666666666666, \"#ed7953\"], [0.7777777777777778, \"#fb9f3a\"], [0.8888888888888888, \"#fdca26\"], [1.0, \"#f0f921\"]], \"type\": \"heatmap\"}], \"heatmapgl\": [{\"colorbar\": {\"outlinewidth\": 0, \"ticks\": \"\"}, \"colorscale\": [[0.0, \"#0d0887\"], [0.1111111111111111, \"#46039f\"], [0.2222222222222222, \"#7201a8\"], [0.3333333333333333, \"#9c179e\"], [0.4444444444444444, \"#bd3786\"], [0.5555555555555556, \"#d8576b\"], [0.6666666666666666, \"#ed7953\"], [0.7777777777777778, \"#fb9f3a\"], [0.8888888888888888, \"#fdca26\"], [1.0, \"#f0f921\"]], \"type\": \"heatmapgl\"}], \"histogram\": [{\"marker\": {\"colorbar\": {\"outlinewidth\": 0, \"ticks\": \"\"}}, \"type\": \"histogram\"}], \"histogram2d\": [{\"colorbar\": {\"outlinewidth\": 0, \"ticks\": \"\"}, \"colorscale\": [[0.0, \"#0d0887\"], [0.1111111111111111, \"#46039f\"], [0.2222222222222222, \"#7201a8\"], [0.3333333333333333, \"#9c179e\"], [0.4444444444444444, \"#bd3786\"], [0.5555555555555556, \"#d8576b\"], [0.6666666666666666, \"#ed7953\"], [0.7777777777777778, \"#fb9f3a\"], [0.8888888888888888, \"#fdca26\"], [1.0, \"#f0f921\"]], \"type\": \"histogram2d\"}], \"histogram2dcontour\": [{\"colorbar\": {\"outlinewidth\": 0, \"ticks\": \"\"}, \"colorscale\": [[0.0, \"#0d0887\"], [0.1111111111111111, \"#46039f\"], [0.2222222222222222, \"#7201a8\"], [0.3333333333333333, \"#9c179e\"], [0.4444444444444444, \"#bd3786\"], [0.5555555555555556, \"#d8576b\"], [0.6666666666666666, \"#ed7953\"], [0.7777777777777778, \"#fb9f3a\"], [0.8888888888888888, \"#fdca26\"], [1.0, \"#f0f921\"]], \"type\": \"histogram2dcontour\"}], \"mesh3d\": [{\"colorbar\": {\"outlinewidth\": 0, \"ticks\": \"\"}, \"type\": \"mesh3d\"}], \"parcoords\": [{\"line\": {\"colorbar\": {\"outlinewidth\": 0, \"ticks\": \"\"}}, \"type\": \"parcoords\"}], \"pie\": [{\"automargin\": true, \"type\": \"pie\"}], \"scatter\": [{\"marker\": {\"colorbar\": {\"outlinewidth\": 0, \"ticks\": \"\"}}, \"type\": \"scatter\"}], \"scatter3d\": [{\"line\": {\"colorbar\": {\"outlinewidth\": 0, \"ticks\": \"\"}}, \"marker\": {\"colorbar\": {\"outlinewidth\": 0, \"ticks\": \"\"}}, \"type\": \"scatter3d\"}], \"scattercarpet\": [{\"marker\": {\"colorbar\": {\"outlinewidth\": 0, \"ticks\": \"\"}}, \"type\": \"scattercarpet\"}], \"scattergeo\": [{\"marker\": {\"colorbar\": {\"outlinewidth\": 0, \"ticks\": \"\"}}, \"type\": \"scattergeo\"}], \"scattergl\": [{\"marker\": {\"colorbar\": {\"outlinewidth\": 0, \"ticks\": \"\"}}, \"type\": \"scattergl\"}], \"scattermapbox\": [{\"marker\": {\"colorbar\": {\"outlinewidth\": 0, \"ticks\": \"\"}}, \"type\": \"scattermapbox\"}], \"scatterpolar\": [{\"marker\": {\"colorbar\": {\"outlinewidth\": 0, \"ticks\": \"\"}}, \"type\": \"scatterpolar\"}], \"scatterpolargl\": [{\"marker\": {\"colorbar\": {\"outlinewidth\": 0, \"ticks\": \"\"}}, \"type\": \"scatterpolargl\"}], \"scatterternary\": [{\"marker\": {\"colorbar\": {\"outlinewidth\": 0, \"ticks\": \"\"}}, \"type\": \"scatterternary\"}], \"surface\": [{\"colorbar\": {\"outlinewidth\": 0, \"ticks\": \"\"}, \"colorscale\": [[0.0, \"#0d0887\"], [0.1111111111111111, \"#46039f\"], [0.2222222222222222, \"#7201a8\"], [0.3333333333333333, \"#9c179e\"], [0.4444444444444444, \"#bd3786\"], [0.5555555555555556, \"#d8576b\"], [0.6666666666666666, \"#ed7953\"], [0.7777777777777778, \"#fb9f3a\"], [0.8888888888888888, \"#fdca26\"], [1.0, \"#f0f921\"]], \"type\": \"surface\"}], \"table\": [{\"cells\": {\"fill\": {\"color\": \"#EBF0F8\"}, \"line\": {\"color\": \"white\"}}, \"header\": {\"fill\": {\"color\": \"#C8D4E3\"}, \"line\": {\"color\": \"white\"}}, \"type\": \"table\"}]}, \"layout\": {\"annotationdefaults\": {\"arrowcolor\": \"#2a3f5f\", \"arrowhead\": 0, \"arrowwidth\": 1}, \"coloraxis\": {\"colorbar\": {\"outlinewidth\": 0, \"ticks\": \"\"}}, \"colorscale\": {\"diverging\": [[0, \"#8e0152\"], [0.1, \"#c51b7d\"], [0.2, \"#de77ae\"], [0.3, \"#f1b6da\"], [0.4, \"#fde0ef\"], [0.5, \"#f7f7f7\"], [0.6, \"#e6f5d0\"], [0.7, \"#b8e186\"], [0.8, \"#7fbc41\"], [0.9, \"#4d9221\"], [1, \"#276419\"]], \"sequential\": [[0.0, \"#0d0887\"], [0.1111111111111111, \"#46039f\"], [0.2222222222222222, \"#7201a8\"], [0.3333333333333333, \"#9c179e\"], [0.4444444444444444, \"#bd3786\"], [0.5555555555555556, \"#d8576b\"], [0.6666666666666666, \"#ed7953\"], [0.7777777777777778, \"#fb9f3a\"], [0.8888888888888888, \"#fdca26\"], [1.0, \"#f0f921\"]], \"sequentialminus\": [[0.0, \"#0d0887\"], [0.1111111111111111, \"#46039f\"], [0.2222222222222222, \"#7201a8\"], [0.3333333333333333, \"#9c179e\"], [0.4444444444444444, \"#bd3786\"], [0.5555555555555556, \"#d8576b\"], [0.6666666666666666, \"#ed7953\"], [0.7777777777777778, \"#fb9f3a\"], [0.8888888888888888, \"#fdca26\"], [1.0, \"#f0f921\"]]}, \"colorway\": [\"#636efa\", \"#EF553B\", \"#00cc96\", \"#ab63fa\", \"#FFA15A\", \"#19d3f3\", \"#FF6692\", \"#B6E880\", \"#FF97FF\", \"#FECB52\"], \"font\": {\"color\": \"#2a3f5f\"}, \"geo\": {\"bgcolor\": \"white\", \"lakecolor\": \"white\", \"landcolor\": \"#E5ECF6\", \"showlakes\": true, \"showland\": true, \"subunitcolor\": \"white\"}, \"hoverlabel\": {\"align\": \"left\"}, \"hovermode\": \"closest\", \"mapbox\": {\"style\": \"light\"}, \"paper_bgcolor\": \"white\", \"plot_bgcolor\": \"#E5ECF6\", \"polar\": {\"angularaxis\": {\"gridcolor\": \"white\", \"linecolor\": \"white\", \"ticks\": \"\"}, \"bgcolor\": \"#E5ECF6\", \"radialaxis\": {\"gridcolor\": \"white\", \"linecolor\": \"white\", \"ticks\": \"\"}}, \"scene\": {\"xaxis\": {\"backgroundcolor\": \"#E5ECF6\", \"gridcolor\": \"white\", \"gridwidth\": 2, \"linecolor\": \"white\", \"showbackground\": true, \"ticks\": \"\", \"zerolinecolor\": \"white\"}, \"yaxis\": {\"backgroundcolor\": \"#E5ECF6\", \"gridcolor\": \"white\", \"gridwidth\": 2, \"linecolor\": \"white\", \"showbackground\": true, \"ticks\": \"\", \"zerolinecolor\": \"white\"}, \"zaxis\": {\"backgroundcolor\": \"#E5ECF6\", \"gridcolor\": \"white\", \"gridwidth\": 2, \"linecolor\": \"white\", \"showbackground\": true, \"ticks\": \"\", \"zerolinecolor\": \"white\"}}, \"shapedefaults\": {\"line\": {\"color\": \"#2a3f5f\"}}, \"ternary\": {\"aaxis\": {\"gridcolor\": \"white\", \"linecolor\": \"white\", \"ticks\": \"\"}, \"baxis\": {\"gridcolor\": \"white\", \"linecolor\": \"white\", \"ticks\": \"\"}, \"bgcolor\": \"#E5ECF6\", \"caxis\": {\"gridcolor\": \"white\", \"linecolor\": \"white\", \"ticks\": \"\"}}, \"title\": {\"x\": 0.05}, \"xaxis\": {\"automargin\": true, \"gridcolor\": \"white\", \"linecolor\": \"white\", \"ticks\": \"\", \"title\": {\"standoff\": 15}, \"zerolinecolor\": \"white\", \"zerolinewidth\": 2}, \"yaxis\": {\"automargin\": true, \"gridcolor\": \"white\", \"linecolor\": \"white\", \"ticks\": \"\", \"title\": {\"standoff\": 15}, \"zerolinecolor\": \"white\", \"zerolinewidth\": 2}}}},\n",
       "                        {\"responsive\": true}\n",
       "                    ).then(function(){\n",
       "                            \n",
       "var gd = document.getElementById('db4632ff-39f7-47e5-94ab-a41071d62edf');\n",
       "var x = new MutationObserver(function (mutations, observer) {{\n",
       "        var display = window.getComputedStyle(gd).display;\n",
       "        if (!display || display === 'none') {{\n",
       "            console.log([gd, 'removed!']);\n",
       "            Plotly.purge(gd);\n",
       "            observer.disconnect();\n",
       "        }}\n",
       "}});\n",
       "\n",
       "// Listen for the removal of the full notebook cells\n",
       "var notebookContainer = gd.closest('#notebook-container');\n",
       "if (notebookContainer) {{\n",
       "    x.observe(notebookContainer, {childList: true});\n",
       "}}\n",
       "\n",
       "// Listen for the clearing of the current output cell\n",
       "var outputEl = gd.closest('.output');\n",
       "if (outputEl) {{\n",
       "    x.observe(outputEl, {childList: true});\n",
       "}}\n",
       "\n",
       "                        })\n",
       "                };\n",
       "                });\n",
       "            </script>\n",
       "        </div>"
      ]
     },
     "metadata": {},
     "output_type": "display_data"
    }
   ],
   "source": [
    "import plotly.graph_objects as go\n",
    "labels=[\"aciertos\", \"fallos\"]\n",
    "values = [pAcierto, 100-pAcierto]\n",
    "colors = ['lightgreen', 'darkorange',]\n",
    "\n",
    "\n",
    "# Use `hole` to create a donut-like pie chart\n",
    "fig = go.Figure(data=[go.Pie(labels=labels, values=values, hole=.3)])\n",
    "fig.update_traces(marker=dict(colors=colors, line=dict(color='#000000', width=2)))\n",
    "fig.show()"
   ]
  },
  {
   "cell_type": "code",
   "execution_count": 51,
   "metadata": {},
   "outputs": [],
   "source": [
    "#valores reales de Y"
   ]
  },
  {
   "cell_type": "code",
   "execution_count": 52,
   "metadata": {},
   "outputs": [
    {
     "data": {
      "image/png": "[encoded data removed]",
      "text/plain": [
       "<Figure size 432x288 with 1 Axes>"
      ]
     },
     "metadata": {
      "needs_background": "light"
     },
     "output_type": "display_data"
    }
   ],
   "source": [
    "plt.plot(org_y, color = 'red', label = 'Real DOWJONES Stock Price')\n",
    "plt.plot(predicted_y_transform, color = 'blue', label = 'Predicted DOWJONES Stock Price')\n",
    "plt.title('DOWJONES Stock Price Prediction')\n",
    "plt.xlabel('Time')\n",
    "plt.ylabel('DOWJONES Stock Price')\n",
    "plt.legend()\n",
    "plt.show()"
   ]
  },
  {
   "cell_type": "markdown",
   "metadata": {},
   "source": [
    "## Realizando la predicción: \n",
    "* Aquí tenemos nuestra red neuronal para hacer predicciones sobre los datos de stock de del índice Dow Jones no vistos por la red en el año 2020.\n",
    "* Primero obtengo los datos de precios de cierre de acciones de 2020 del dataframe de prueba y los transformo en valores entre 0 y 1.\n",
    "* Utilizo mi función crear_LSTM_dataset nuevamente para convertir los datos de test en lotes de 3 precios de acciones. \n",
    "* Almaceno los valores y originales en una variable org_y. \n",
    "* Por último, La red realiza las predicciones de precios.\n",
    "* Como puede observarse en el gráfico de predicción anterior, el modelo funcionó bastante bien y siguió el comportamiento durante todo el año de datos no vistos.\n",
    "\n"
   ]
  },
  {
   "cell_type": "code",
   "execution_count": 53,
   "metadata": {},
   "outputs": [
    {
     "name": "stdout",
     "output_type": "stream",
     "text": [
      "scaled_mse = 6556.787133016448\n"
     ]
    }
   ],
   "source": [
    "# Calculate the error with MSE\n",
    "real_mse = np.mean(np.square(org_y - predicted_y_transform))\n",
    "scaled_mse = real_mse / (np.max(org_y) - np.min(org_y)) * 100\n",
    "\n",
    "print('scaled_mse = ' + str(scaled_mse))"
   ]
  },
  {
   "cell_type": "markdown",
   "metadata": {},
   "source": [
    "## Accuracy score"
   ]
  },
  {
   "cell_type": "code",
   "execution_count": 54,
   "metadata": {},
   "outputs": [
    {
     "name": "stdout",
     "output_type": "stream",
     "text": [
      "25585.438371178057 25309.742\n"
     ]
    }
   ],
   "source": [
    "mean_org_y = org_y.mean()\n",
    "mean_predicted_y = predicted_y_transform.mean()\n",
    "print(mean_org_y,mean_predicted_y)"
   ]
  },
  {
   "cell_type": "code",
   "execution_count": 55,
   "metadata": {},
   "outputs": [
    {
     "data": {
      "text/plain": [
       "101.0892887870435"
      ]
     },
     "execution_count": 55,
     "metadata": {},
     "output_type": "execute_result"
    }
   ],
   "source": [
    "accuracy = (mean_org_y / mean_predicted_y)*100\n",
    "accuracy"
   ]
  },
  {
   "cell_type": "code",
   "execution_count": 56,
   "metadata": {},
   "outputs": [
    {
     "data": {
      "text/plain": [
       "array([[101.20935227],\n",
       "       [102.11881389],\n",
       "       [102.80210145],\n",
       "       [102.17091304],\n",
       "       [102.07767841],\n",
       "       [101.98777973],\n",
       "       [102.37938569],\n",
       "       [103.10307399],\n",
       "       [102.94878098],\n",
       "       [101.94845743],\n",
       "       [101.58301893],\n",
       "       [101.5991871 ],\n",
       "       [101.24538145],\n",
       "       [ 99.81276477],\n",
       "       [100.99359142],\n",
       "       [101.67145168],\n",
       "       [102.54356895],\n",
       "       [100.03861978],\n",
       "       [100.78949572],\n",
       "       [102.66436505],\n",
       "       [104.82926859],\n",
       "       [104.10784098],\n",
       "       [101.92180649],\n",
       "       [101.9333408 ],\n",
       "       [102.00611881],\n",
       "       [103.1584203 ],\n",
       "       [102.28437308],\n",
       "       [101.9711869 ],\n",
       "       [101.17547544],\n",
       "       [101.89041407],\n",
       "       [101.59141409],\n",
       "       [100.98347929],\n",
       "       [ 97.516837  ],\n",
       "       [ 95.49816172],\n",
       "       [ 97.06934301],\n",
       "       [ 95.26841823],\n",
       "       [ 96.17108078],\n",
       "       [103.06763432],\n",
       "       [101.46194755],\n",
       "       [105.51253818],\n",
       "       [ 99.79578349],\n",
       "       [ 99.27517279],\n",
       "       [ 91.14659231],\n",
       "       [ 98.90323352],\n",
       "       [ 95.2067746 ],\n",
       "       [ 88.34212464],\n",
       "       [ 98.48552941],\n",
       "       [ 89.72840472],\n",
       "       [ 98.4339699 ],\n",
       "       [ 92.07261197],\n",
       "       [ 98.45659473],\n",
       "       [ 93.82593549],\n",
       "       [ 94.2192326 ],\n",
       "       [106.81416633],\n",
       "       [110.44957908],\n",
       "       [114.06029038],\n",
       "       [102.35591653],\n",
       "       [103.17163565],\n",
       "       [ 99.40574925],\n",
       "       [ 96.03482807],\n",
       "       [ 98.3359096 ],\n",
       "       [ 98.58666377],\n",
       "       [107.89320425],\n",
       "       [105.75135652],\n",
       "       [107.38922376],\n",
       "       [104.63328816],\n",
       "       [101.78510387],\n",
       "       [102.57820847],\n",
       "       [100.15855781],\n",
       "       [100.45912819],\n",
       "       [103.05538975],\n",
       "       [100.71544498],\n",
       "       [ 97.45164117],\n",
       "       [ 99.48554745],\n",
       "       [101.27758953],\n",
       "       [102.87162278],\n",
       "       [103.26197322],\n",
       "       [102.35644729],\n",
       "       [103.62133451],\n",
       "       [101.36461146],\n",
       "       [ 98.32255874],\n",
       "       [ 98.40064162],\n",
       "       [100.3150272 ],\n",
       "       [100.36738902],\n",
       "       [101.20390402],\n",
       "       [103.03047295],\n",
       "       [102.27547331],\n",
       "       [ 99.40849514],\n",
       "       [ 96.9730192 ],\n",
       "       [ 99.80365465],\n",
       "       [101.3293628 ],\n",
       "       [105.59560971],\n",
       "       [102.33930452],\n",
       "       [102.77419053],\n",
       "       [100.9711181 ],\n",
       "       [101.18612254],\n",
       "       [102.86730391],\n",
       "       [104.89875297],\n",
       "       [103.09815426],\n",
       "       [101.4623809 ],\n",
       "       [101.10779586],\n",
       "       [102.37260161],\n",
       "       [104.15862933],\n",
       "       [103.26704642],\n",
       "       [105.3281586 ],\n",
       "       [105.55882566],\n",
       "       [102.96328959],\n",
       "       [100.2566038 ],\n",
       "       [ 93.21561565],\n",
       "       [ 97.03248677],\n",
       "       [100.0597746 ],\n",
       "       [104.48241058],\n",
       "       [102.36804821],\n",
       "       [101.38587921],\n",
       "       [ 99.9758253 ],\n",
       "       [101.05186682],\n",
       "       [101.7836022 ],\n",
       "       [ 99.06006269],\n",
       "       [100.33950296],\n",
       "       [ 97.96916089],\n",
       "       [101.57982574],\n",
       "       [102.47045838],\n",
       "       [102.44269161],\n",
       "       [101.59782373],\n",
       "       [103.07290529],\n",
       "       [101.17282663],\n",
       "       [101.40844824],\n",
       "       [ 99.6441841 ],\n",
       "       [101.76572596],\n",
       "       [101.71059908],\n",
       "       [103.98337486],\n",
       "       [103.80411097],\n",
       "       [102.36171564],\n",
       "       [101.04397761],\n",
       "       [100.93701012],\n",
       "       [101.82785433],\n",
       "       [102.42610104],\n",
       "       [100.74986555],\n",
       "       [ 99.86161304]])"
      ]
     },
     "execution_count": 56,
     "metadata": {},
     "output_type": "execute_result"
    }
   ],
   "source": [
    "accuracy = (org_y / predicted_y_transform)*100\n",
    "accuracy"
   ]
  },
  {
   "cell_type": "code",
   "execution_count": 57,
   "metadata": {},
   "outputs": [
    {
     "name": "stdout",
     "output_type": "stream",
     "text": [
      "iteration=1, Predicted=28242.132812, Expected=28583.679688\n",
      "iteration=2, Predicted=28148.671875, Expected=28745.089844\n",
      "iteration=3, Predicted=28167.615234, Expected=28956.900391\n",
      "iteration=4, Predicted=28211.326172, Expected=28823.769531\n",
      "iteration=5, Predicted=28318.679688, Expected=28907.050781\n",
      "iteration=6, Predicted=28375.625000, Expected=28939.669922\n",
      "iteration=7, Predicted=28355.533203, Expected=29030.220703\n",
      "iteration=8, Predicted=28415.875000, Expected=29297.640625\n",
      "iteration=9, Predicted=28507.476562, Expected=29348.099609\n",
      "iteration=10, Predicted=28638.039062, Expected=29196.039062\n",
      "iteration=11, Predicted=28731.445312, Expected=29186.269531\n",
      "iteration=12, Predicted=28701.105469, Expected=29160.089844\n",
      "iteration=13, Predicted=28633.138672, Expected=28989.730469\n",
      "iteration=14, Predicted=28589.330078, Expected=28535.800781\n",
      "iteration=15, Predicted=28440.269531, Expected=28722.849609\n",
      "iteration=16, Predicted=28262.062500, Expected=28734.449219\n",
      "iteration=17, Predicted=28143.587891, Expected=28859.439453\n",
      "iteration=18, Predicted=28245.121094, Expected=28256.029297\n",
      "iteration=19, Predicted=28177.351562, Expected=28399.810547\n",
      "iteration=20, Predicted=28060.009766, Expected=28807.630859\n",
      "iteration=21, Predicted=27941.480469, Expected=29290.849609\n",
      "iteration=22, Predicted=28220.515625, Expected=29379.769531\n",
      "iteration=23, Predicted=28553.761719, Expected=29102.509766\n",
      "iteration=24, Predicted=28721.535156, Expected=29276.820312\n",
      "iteration=25, Predicted=28700.572266, Expected=29276.339844\n",
      "iteration=26, Predicted=28646.638672, Expected=29551.419922\n",
      "iteration=27, Predicted=28766.183594, Expected=29423.310547\n",
      "iteration=28, Predicted=28829.791016, Expected=29398.080078\n",
      "iteration=29, Predicted=28892.564453, Expected=29232.189453\n",
      "iteration=30, Predicted=28803.523438, Expected=29348.029297\n",
      "iteration=31, Predicted=28762.253906, Expected=29219.980469\n",
      "iteration=32, Predicted=28710.052734, Expected=28992.410156\n",
      "iteration=33, Predicted=28672.792969, Expected=27960.800781\n",
      "iteration=34, Predicted=28357.990234, Expected=27081.359375\n",
      "iteration=35, Predicted=27771.476562, Expected=26957.589844\n",
      "iteration=36, Predicted=27046.361328, Expected=25766.640625\n",
      "iteration=37, Predicted=26420.998047, Expected=25409.359375\n",
      "iteration=38, Predicted=25908.541016, Expected=26703.320312\n",
      "iteration=39, Predicted=25543.970703, Expected=25917.410156\n",
      "iteration=40, Predicted=25675.488281, Expected=27090.859375\n",
      "iteration=41, Predicted=26174.732422, Expected=26121.279297\n",
      "iteration=42, Predicted=26053.623047, Expected=25864.779297\n",
      "iteration=43, Predicted=26167.757812, Expected=23851.019531\n",
      "iteration=44, Predicted=25295.593750, Expected=25018.160156\n",
      "iteration=45, Predicted=24739.017578, Expected=23553.220703\n",
      "iteration=46, Predicted=23998.312500, Expected=21200.619141\n",
      "iteration=47, Predicted=23542.158203, Expected=23185.619141\n",
      "iteration=48, Predicted=22499.585938, Expected=20188.519531\n",
      "iteration=49, Predicted=21575.255859, Expected=21237.380859\n",
      "iteration=50, Predicted=21612.203125, Expected=19898.919922\n",
      "iteration=51, Predicted=20402.076172, Expected=20087.189453\n",
      "iteration=52, Predicted=20435.693359, Expected=19173.980469\n",
      "iteration=53, Predicted=19732.626953, Expected=18591.929688\n",
      "iteration=54, Predicted=19384.048828, Expected=20704.910156\n",
      "iteration=55, Predicted=19194.777344, Expected=21200.550781\n",
      "iteration=56, Predicted=19772.148438, Expected=22552.169922\n",
      "iteration=57, Predicted=21138.767578, Expected=21636.779297\n",
      "iteration=58, Predicted=21641.103516, Expected=22327.480469\n",
      "iteration=59, Predicted=22048.181641, Expected=21917.160156\n",
      "iteration=60, Predicted=21808.244141, Expected=20943.509766\n",
      "iteration=61, Predicted=21775.808594, Expected=21413.439453\n",
      "iteration=62, Predicted=21354.337891, Expected=21052.529297\n",
      "iteration=63, Predicted=21020.777344, Expected=22679.990234\n",
      "iteration=64, Predicted=21421.814453, Expected=22653.859375\n",
      "iteration=65, Predicted=21821.156250, Expected=23433.570312\n",
      "iteration=66, Predicted=22669.046875, Expected=23719.369141\n",
      "iteration=67, Predicted=22980.542969, Expected=23390.769531\n",
      "iteration=68, Predicted=23347.804688, Expected=23949.759766\n",
      "iteration=69, Predicted=23467.140625, Expected=23504.349609\n",
      "iteration=70, Predicted=23430.105469, Expected=23537.679688\n",
      "iteration=71, Predicted=23523.748047, Expected=24242.490234\n",
      "iteration=72, Predicted=23482.435547, Expected=23650.439453\n",
      "iteration=73, Predicted=23620.824219, Expected=23018.880859\n",
      "iteration=74, Predicted=23597.216797, Expected=23475.820312\n",
      "iteration=75, Predicted=23218.621094, Expected=23515.259766\n",
      "iteration=76, Predicted=23111.591797, Expected=23775.269531\n",
      "iteration=77, Predicted=23371.410156, Expected=24133.779297\n",
      "iteration=78, Predicted=23546.685547, Expected=24101.550781\n",
      "iteration=79, Predicted=23772.960938, Expected=24633.859375\n",
      "iteration=80, Predicted=24017.968750, Expected=24345.720703\n",
      "iteration=81, Predicted=24128.429688, Expected=23723.689453\n",
      "iteration=82, Predicted=24135.777344, Expected=23749.759766\n",
      "iteration=83, Predicted=23808.087891, Expected=23883.089844\n",
      "iteration=84, Predicted=23578.017578, Expected=23664.640625\n",
      "iteration=85, Predicted=23591.867188, Expected=23875.890625\n",
      "iteration=86, Predicted=23615.654297, Expected=24331.320312\n",
      "iteration=87, Predicted=23683.087891, Expected=24221.990234\n",
      "iteration=88, Predicted=23906.185547, Expected=23764.779297\n",
      "iteration=89, Predicted=23973.648438, Expected=23247.970703\n",
      "iteration=90, Predicted=23671.818359, Expected=23625.339844\n",
      "iteration=91, Predicted=23374.685547, Expected=23685.419922\n",
      "iteration=92, Predicted=23293.931641, Expected=24597.369141\n",
      "iteration=93, Predicted=23653.531250, Expected=24206.859375\n",
      "iteration=94, Predicted=23912.521484, Expected=24575.900391\n",
      "iteration=95, Predicted=24238.732422, Expected=24474.119141\n",
      "iteration=96, Predicted=24178.375000, Expected=24465.160156\n",
      "iteration=97, Predicted=24298.400391, Expected=24995.109375\n",
      "iteration=98, Predicted=24355.169922, Expected=25548.269531\n",
      "iteration=99, Predicted=24637.337891, Expected=25400.640625\n",
      "iteration=100, Predicted=25017.261719, Expected=25383.109375\n",
      "iteration=101, Predicted=25195.900391, Expected=25475.019531\n",
      "iteration=102, Predicted=25146.035156, Expected=25742.650391\n",
      "iteration=103, Predicted=25221.041016, Expected=26269.890625\n",
      "iteration=104, Predicted=25450.345703, Expected=26281.820312\n",
      "iteration=105, Predicted=25739.537109, Expected=27110.980469\n",
      "iteration=106, Predicted=26120.449219, Expected=27572.439453\n",
      "iteration=107, Predicted=26487.402344, Expected=27272.300781\n",
      "iteration=108, Predicted=26920.910156, Expected=26989.990234\n",
      "iteration=109, Predicted=26957.039062, Expected=25128.169922\n",
      "iteration=110, Predicted=26388.625000, Expected=25605.539062\n",
      "iteration=111, Predicted=25747.769531, Expected=25763.160156\n",
      "iteration=112, Predicted=25162.111328, Expected=26289.980469\n",
      "iteration=113, Predicted=25515.392578, Expected=26119.609375\n",
      "iteration=114, Predicted=25723.601562, Expected=26080.099609\n",
      "iteration=115, Predicted=25877.716797, Expected=25871.460938\n",
      "iteration=116, Predicted=25754.062500, Expected=26024.960937\n",
      "iteration=117, Predicted=25697.753906, Expected=26156.099609\n",
      "iteration=118, Predicted=25687.384766, Expected=25445.939453\n",
      "iteration=119, Predicted=25658.488281, Expected=25745.599609\n",
      "iteration=120, Predicted=25534.107422, Expected=25015.550781\n",
      "iteration=121, Predicted=25197.720703, Expected=25595.800781\n",
      "iteration=122, Predicted=25190.558594, Expected=25812.880859\n",
      "iteration=123, Predicted=25121.333984, Expected=25734.970703\n",
      "iteration=124, Predicted=25421.173828, Expected=25827.359375\n",
      "iteration=125, Predicted=25503.335938, Expected=26287.029297\n",
      "iteration=126, Predicted=25590.052734, Expected=25890.179688\n",
      "iteration=127, Predicted=25705.234375, Expected=26067.279297\n",
      "iteration=128, Predicted=25797.882812, Expected=25706.089844\n",
      "iteration=129, Predicted=25622.871094, Expected=26075.300781\n",
      "iteration=130, Predicted=25647.082031, Expected=26085.800781\n",
      "iteration=131, Predicted=25621.970703, Expected=26642.589844\n",
      "iteration=132, Predicted=25885.390625, Expected=26870.099609\n",
      "iteration=133, Predicted=26117.880859, Expected=26734.710938\n",
      "iteration=134, Predicted=26396.376953, Expected=26671.949219\n",
      "iteration=135, Predicted=26433.187500, Expected=26680.869141\n",
      "iteration=136, Predicted=26358.603516, Expected=26840.400391\n",
      "iteration=137, Predicted=26366.169922, Expected=27005.839844\n",
      "iteration=138, Predicted=26453.960938, Expected=26652.330078\n",
      "iteration=139, Predicted=26506.572266, Expected=26469.890625\n"
     ]
    }
   ],
   "source": [
    "for i in range(len(predicted_y)):\n",
    "    print('iteration=%d, Predicted=%f, Expected=%f' % (i+1,   predicted_y_transform[i], org_y[i]))"
   ]
  },
  {
   "cell_type": "code",
   "execution_count": null,
   "metadata": {},
   "outputs": [],
   "source": []
  },
  {
   "cell_type": "code",
   "execution_count": null,
   "metadata": {},
   "outputs": [],
   "source": []
  },
  {
   "cell_type": "code",
   "execution_count": null,
   "metadata": {},
   "outputs": [],
   "source": []
  }
 ],
 "metadata": {
  "kernelspec": {
   "display_name": "Python 3",
   "language": "python",
   "name": "python3"
  },
  "language_info": {
   "codemirror_mode": {
    "name": "ipython",
    "version": 3
   },
   "file_extension": ".py",
   "mimetype": "text/x-python",
   "name": "python",
   "nbconvert_exporter": "python",
   "pygments_lexer": "ipython3",
   "version": "3.7.6"
  }
 },
 "nbformat": 4,
 "nbformat_minor": 2
}
